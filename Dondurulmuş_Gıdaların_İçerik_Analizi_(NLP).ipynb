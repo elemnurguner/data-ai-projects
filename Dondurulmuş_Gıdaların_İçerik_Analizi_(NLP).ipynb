{
  "nbformat": 4,
  "nbformat_minor": 0,
  "metadata": {
    "colab": {
      "provenance": [],
      "authorship_tag": "ABX9TyPR65cjozU0jCSmYhJmY7hY",
      "include_colab_link": true
    },
    "kernelspec": {
      "name": "python3",
      "display_name": "Python 3"
    },
    "language_info": {
      "name": "python"
    }
  },
  "cells": [
    {
      "cell_type": "markdown",
      "metadata": {
        "id": "view-in-github",
        "colab_type": "text"
      },
      "source": [
        "<a href=\"https://colab.research.google.com/github/elemnurguner/data-ai-projects/blob/main/Dondurulmu%C5%9F_G%C4%B1dalar%C4%B1n_%C4%B0%C3%A7erik_Analizi_(NLP).ipynb\" target=\"_parent\"><img src=\"https://colab.research.google.com/assets/colab-badge.svg\" alt=\"Open In Colab\"/></a>"
      ]
    },
    {
      "cell_type": "markdown",
      "source": [
        "Problem Tanımı\n",
        "Amacımız, dondurulmuş gıda ürünlerinin içerik listelerini analiz ederek:\n",
        "\n",
        "Temel bileşenleri çıkarmak.\n",
        "\n",
        "Alerjenleri tespit etmek.\n",
        "\n",
        "Besin değerlerini (örneğin, kalori, protein, yağ) tanımlamak."
      ],
      "metadata": {
        "id": "i7-TKQqoVmdk"
      }
    },
    {
      "cell_type": "code",
      "source": [
        "!pip install pandas numpy spacy nltk\n",
        "!python -m spacy download en_core_web_sm  # İngilizce dil modeli"
      ],
      "metadata": {
        "collapsed": true,
        "id": "Ue86kbDTWFnU"
      },
      "execution_count": null,
      "outputs": []
    },
    {
      "cell_type": "code",
      "source": [
        "import pandas as pd\n",
        "\n",
        "# Örnek veri seti\n",
        "data = {\n",
        "    \"Ürün Adı\": [\"Dondurulmuş Pizza\", \"Dondurulmuş Tavuk Nuggets\", \"Dondurulmuş Bezelye\"],\n",
        "    \"İçerik Listesi\": [\n",
        "        \"un, su, domates sosu, peynir, şeker, tuz, maya, bitkisel yağ\",\n",
        "        \"tavuk eti, un, su, tuz, baharatlar, bitkisel yağ\",\n",
        "        \"bezelye, su, tuz\"\n",
        "    ]\n",
        "}\n",
        "\n",
        "# DataFrame oluşturma\n",
        "df = pd.DataFrame(data)\n",
        "print(df)"
      ],
      "metadata": {
        "colab": {
          "base_uri": "https://localhost:8080/"
        },
        "id": "XF2dwCsKWKd7",
        "outputId": "d408df69-f90b-4b99-a286-35b0021863c3"
      },
      "execution_count": null,
      "outputs": [
        {
          "output_type": "stream",
          "name": "stdout",
          "text": [
            "                    Ürün Adı  \\\n",
            "0          Dondurulmuş Pizza   \n",
            "1  Dondurulmuş Tavuk Nuggets   \n",
            "2        Dondurulmuş Bezelye   \n",
            "\n",
            "                                      İçerik Listesi  \n",
            "0  un, su, domates sosu, peynir, şeker, tuz, maya...  \n",
            "1   tavuk eti, un, su, tuz, baharatlar, bitkisel yağ  \n",
            "2                                   bezelye, su, tuz  \n"
          ]
        }
      ]
    },
    {
      "cell_type": "markdown",
      "source": [
        "Adım 4: Metin Ön İşleme\n",
        "Aşağıdaki kodu yeni bir hücreye yazın ve çalıştırarak metin ön işleme adımlarını uygulayın:"
      ],
      "metadata": {
        "id": "3x8nvwOyWO1w"
      }
    },
    {
      "cell_type": "code",
      "source": [
        "import spacy\n",
        "from nltk.corpus import stopwords\n",
        "import nltk\n",
        "\n",
        "# NLTK stopwords'ü indirme\n",
        "nltk.download('stopwords')\n",
        "stop_words = set(stopwords.words('english'))\n",
        "\n",
        "# SpaCy modelini yükleme\n",
        "nlp = spacy.load(\"en_core_web_sm\")\n",
        "\n",
        "def preprocess_text(text):\n",
        "    # Tokenization ve lemmatization\n",
        "    doc = nlp(text)\n",
        "    tokens = [token.lemma_.lower() for token in doc if token.is_alpha and token.text.lower() not in stop_words]\n",
        "    return tokens\n",
        "\n",
        "# İçerik listelerini ön işleme\n",
        "df[\"Tokenize Edilmiş İçerik\"] = df[\"İçerik Listesi\"].apply(preprocess_text)\n",
        "print(df[[\"Ürün Adı\", \"Tokenize Edilmiş İçerik\"]])"
      ],
      "metadata": {
        "colab": {
          "base_uri": "https://localhost:8080/"
        },
        "id": "Qy1hv8o4WPbE",
        "outputId": "a0d2207d-09e1-4e6a-a7c3-c0383d498f27"
      },
      "execution_count": null,
      "outputs": [
        {
          "output_type": "stream",
          "name": "stderr",
          "text": [
            "[nltk_data] Downloading package stopwords to /root/nltk_data...\n",
            "[nltk_data]   Unzipping corpora/stopwords.zip.\n"
          ]
        },
        {
          "output_type": "stream",
          "name": "stdout",
          "text": [
            "                    Ürün Adı  \\\n",
            "0          Dondurulmuş Pizza   \n",
            "1  Dondurulmuş Tavuk Nuggets   \n",
            "2        Dondurulmuş Bezelye   \n",
            "\n",
            "                             Tokenize Edilmiş İçerik  \n",
            "0  [un, su, domate, sosu, peynir, şeker, tuz, may...  \n",
            "1  [tavuk, eti, un, su, tuz, baharatlar, bitkisel...  \n",
            "2                                 [bezelye, su, tuz]  \n"
          ]
        }
      ]
    },
    {
      "cell_type": "markdown",
      "source": [
        "Adım 5: Bileşenleri ve Alerjenleri Çıkarma\n",
        "Aşağıdaki kodu yeni bir hücreye yazın ve çalıştırarak alerjenleri tespit edin:"
      ],
      "metadata": {
        "id": "Q0ZUCtEBWbBl"
      }
    },
    {
      "cell_type": "code",
      "source": [
        "# Alerjen listesi\n",
        "allerjenler = [\"peynir\", \"un\", \"tavuk\", \"bezelye\", \"şeker\"]\n",
        "\n",
        "def extract_allergens(tokens):\n",
        "    return [token for token in tokens if token in allerjenler]\n",
        "\n",
        "# Alerjenleri çıkarma\n",
        "df[\"Alerjenler\"] = df[\"Tokenize Edilmiş İçerik\"].apply(extract_allergens)\n",
        "print(df[[\"Ürün Adı\", \"Alerjenler\"]])"
      ],
      "metadata": {
        "colab": {
          "base_uri": "https://localhost:8080/"
        },
        "id": "XTxsb8jYWch6",
        "outputId": "25976bfe-8399-42e8-8bbe-9461e01ecee9"
      },
      "execution_count": null,
      "outputs": [
        {
          "output_type": "stream",
          "name": "stdout",
          "text": [
            "                    Ürün Adı           Alerjenler\n",
            "0          Dondurulmuş Pizza  [un, peynir, şeker]\n",
            "1  Dondurulmuş Tavuk Nuggets          [tavuk, un]\n",
            "2        Dondurulmuş Bezelye            [bezelye]\n"
          ]
        }
      ]
    },
    {
      "cell_type": "markdown",
      "source": [
        "Adım 6: Besin Değerlerini Tanımlama\n",
        "Aşağıdaki kodu yeni bir hücreye yazın ve çalıştırarak besin değerlerini hesaplayın:"
      ],
      "metadata": {
        "id": "pffptLb-WgiX"
      }
    },
    {
      "cell_type": "code",
      "source": [
        "# Besin değerleri sözlüğü\n",
        "besin_degerleri = {\n",
        "    \"un\": {\"kalori\": 364, \"protein\": 10, \"yağ\": 1},\n",
        "    \"peynir\": {\"kalori\": 402, \"protein\": 25, \"yağ\": 33},\n",
        "    \"tavuk\": {\"kalori\": 239, \"protein\": 27, \"yağ\": 14},\n",
        "    \"bezelye\": {\"kalori\": 81, \"protein\": 5, \"yağ\": 0.4},\n",
        "    \"şeker\": {\"kalori\": 387, \"protein\": 0, \"yağ\": 0},\n",
        "    \"tuz\": {\"kalori\": 0, \"protein\": 0, \"yağ\": 0},\n",
        "    \"su\": {\"kalori\": 0, \"protein\": 0, \"yağ\": 0},\n",
        "    \"bitkisel yağ\": {\"kalori\": 884, \"protein\": 0, \"yağ\": 100},\n",
        "}\n",
        "\n",
        "def calculate_nutrition(tokens):\n",
        "    kalori, protein, yağ = 0, 0, 0\n",
        "    for token in tokens:\n",
        "        if token in besin_degerleri:\n",
        "            kalori += besin_degerleri[token][\"kalori\"]\n",
        "            protein += besin_degerleri[token][\"protein\"]\n",
        "            yağ += besin_degerleri[token][\"yağ\"]\n",
        "    return {\"Kalori\": kalori, \"Protein\": protein, \"Yağ\": yağ}\n",
        "\n",
        "# Besin değerlerini hesaplama\n",
        "df[\"Besin Değerleri\"] = df[\"Tokenize Edilmiş İçerik\"].apply(calculate_nutrition)\n",
        "print(df[[\"Ürün Adı\", \"Besin Değerleri\"]])"
      ],
      "metadata": {
        "colab": {
          "base_uri": "https://localhost:8080/"
        },
        "id": "_AHBFoCdWkNh",
        "outputId": "b16d67b8-263c-4f7e-c704-f647566d9783"
      },
      "execution_count": null,
      "outputs": [
        {
          "output_type": "stream",
          "name": "stdout",
          "text": [
            "                    Ürün Adı                             Besin Değerleri\n",
            "0          Dondurulmuş Pizza  {'Kalori': 1153, 'Protein': 35, 'Yağ': 34}\n",
            "1  Dondurulmuş Tavuk Nuggets   {'Kalori': 603, 'Protein': 37, 'Yağ': 15}\n",
            "2        Dondurulmuş Bezelye    {'Kalori': 81, 'Protein': 5, 'Yağ': 0.4}\n"
          ]
        }
      ]
    },
    {
      "cell_type": "markdown",
      "source": [
        "Adım 7: Sonuçları Görselleştirme\n",
        "Aşağıdaki kodu yeni bir hücreye yazın ve çalıştırarak sonuçları görselleştirin:"
      ],
      "metadata": {
        "id": "nRjg0cNwWn0v"
      }
    },
    {
      "cell_type": "code",
      "source": [
        "import matplotlib.pyplot as plt\n",
        "\n",
        "# Besin değerlerini ayrı sütunlara ayırma\n",
        "df[\"Kalori\"] = df[\"Besin Değerleri\"].apply(lambda x: x[\"Kalori\"])\n",
        "df[\"Protein\"] = df[\"Besin Değerleri\"].apply(lambda x: x[\"Protein\"])\n",
        "df[\"Yağ\"] = df[\"Besin Değerleri\"].apply(lambda x: x[\"Yağ\"])\n",
        "\n",
        "# Görselleştirme\n",
        "df.plot(kind=\"bar\", x=\"Ürün Adı\", y=[\"Kalori\", \"Protein\", \"Yağ\"], figsize=(10, 6))\n",
        "plt.title(\"Dondurulmuş Gıdaların Besin Değerleri\")\n",
        "plt.ylabel(\"Değer\")\n",
        "plt.show()"
      ],
      "metadata": {
        "colab": {
          "base_uri": "https://localhost:8080/",
          "height": 750
        },
        "id": "-p7d_JgdWozS",
        "outputId": "f58896af-7863-4d0a-e2da-7322014f6774"
      },
      "execution_count": null,
      "outputs": [
        {
          "output_type": "display_data",
          "data": {
            "text/plain": [
              "<Figure size 1000x600 with 1 Axes>"
            ],
            "image/png": "[encoded data removed]"
          },
          "metadata": {}
        }
      ]
    },
    {
      "cell_type": "markdown",
      "source": [
        "Adım 8: Sonuçları Kaydetme\n",
        "Aşağıdaki kodu yeni bir hücreye yazın ve çalıştırarak sonuçları bir CSV dosyasına kaydedin:"
      ],
      "metadata": {
        "id": "i1wEuEK3Wx3x"
      }
    },
    {
      "cell_type": "code",
      "source": [
        "df.to_csv(\"dondurulmus_gida_analizi.csv\", index=False)"
      ],
      "metadata": {
        "id": "ZAiKd0rFWzMJ"
      },
      "execution_count": null,
      "outputs": []
    },
    {
      "cell_type": "markdown",
      "source": [
        "Adım 9: Dosyaları İndirme\n"
      ],
      "metadata": {
        "id": "i7zXe7VEW2_5"
      }
    },
    {
      "cell_type": "code",
      "source": [
        "from google.colab import files\n",
        "files.download(\"dondurulmus_gida_analizi.csv\")"
      ],
      "metadata": {
        "id": "kf3JQkFXW4W6"
      },
      "execution_count": null,
      "outputs": []
    }
  ]
}