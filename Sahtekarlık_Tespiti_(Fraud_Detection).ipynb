{
  "cells": [
    {
      "cell_type": "markdown",
      "metadata": {
        "id": "view-in-github",
        "colab_type": "text"
      },
      "source": [
        "<a href=\"https://colab.research.google.com/github/elemnurguner/data-ai-projects/blob/main/Sahtekarl%C4%B1k_Tespiti_(Fraud_Detection).ipynb\" target=\"_parent\"><img src=\"https://colab.research.google.com/assets/colab-badge.svg\" alt=\"Open In Colab\"/></a>"
      ]
    },
    {
      "cell_type": "markdown",
      "metadata": {
        "id": "KrwZwRvi-cSX"
      },
      "source": [
        "Sahtekarlık Tespiti (Fraud Detection)\n",
        "•\tAmaç: Finansal işlemlerde sahtekarlığı tespit etme.\n",
        "•\tVeri Seti: Kaggle'dan Credit Card Fraud Detection veri seti.\n",
        "•\tAdımlar:\n",
        "1.\tVeriyi yükle ve dengesiz veri sorununu çöz (örneğin, SMOTE).\n",
        "2.\tAnomali tespiti algoritmaları (Isolation Forest, Autoencoders) kullan.\n",
        "3.\tModel performansını değerlendir\n"
      ]
    },
    {
      "cell_type": "code",
      "source": [
        "import numpy as np  # Bu satırı ekliyoruz!"
      ],
      "metadata": {
        "id": "tDjji6KkjMIP"
      },
      "execution_count": null,
      "outputs": []
    },
    {
      "cell_type": "code",
      "source": [
        "import pandas as pd\n",
        "\n",
        "# Veri setini direkt olarak yükleme (Kaggle API gerektirmez)\n",
        "url = \"https://raw.githubusercontent.com/nsethi31/Kaggle-Data-Credit-Card-Fraud-Detection/master/creditcard.csv\"\n",
        "data = pd.read_csv(url)\n",
        "\n",
        "# Veriyi kontrol edelim\n",
        "print(data.head())\n",
        "print(\"\\nFraud Dağılımı:\\n\", data['Class'].value_counts())"
      ],
      "metadata": {
        "colab": {
          "base_uri": "https://localhost:8080/"
        },
        "id": "3dgf8bDqg9pk",
        "outputId": "054acc2f-1c0d-4d33-d78d-9140e6438ac9"
      },
      "execution_count": null,
      "outputs": [
        {
          "output_type": "stream",
          "name": "stdout",
          "text": [
            "   Time        V1        V2        V3        V4        V5        V6        V7  \\\n",
            "0   0.0 -1.359807 -0.072781  2.536347  1.378155 -0.338321  0.462388  0.239599   \n",
            "1   0.0  1.191857  0.266151  0.166480  0.448154  0.060018 -0.082361 -0.078803   \n",
            "2   1.0 -1.358354 -1.340163  1.773209  0.379780 -0.503198  1.800499  0.791461   \n",
            "3   1.0 -0.966272 -0.185226  1.792993 -0.863291 -0.010309  1.247203  0.237609   \n",
            "4   2.0 -1.158233  0.877737  1.548718  0.403034 -0.407193  0.095921  0.592941   \n",
            "\n",
            "         V8        V9  ...       V21       V22       V23       V24       V25  \\\n",
            "0  0.098698  0.363787  ... -0.018307  0.277838 -0.110474  0.066928  0.128539   \n",
            "1  0.085102 -0.255425  ... -0.225775 -0.638672  0.101288 -0.339846  0.167170   \n",
            "2  0.247676 -1.514654  ...  0.247998  0.771679  0.909412 -0.689281 -0.327642   \n",
            "3  0.377436 -1.387024  ... -0.108300  0.005274 -0.190321 -1.175575  0.647376   \n",
            "4 -0.270533  0.817739  ... -0.009431  0.798278 -0.137458  0.141267 -0.206010   \n",
            "\n",
            "        V26       V27       V28  Amount  Class  \n",
            "0 -0.189115  0.133558 -0.021053  149.62      0  \n",
            "1  0.125895 -0.008983  0.014724    2.69      0  \n",
            "2 -0.139097 -0.055353 -0.059752  378.66      0  \n",
            "3 -0.221929  0.062723  0.061458  123.50      0  \n",
            "4  0.502292  0.219422  0.215153   69.99      0  \n",
            "\n",
            "[5 rows x 31 columns]\n",
            "\n",
            "Fraud Dağılımı:\n",
            " Class\n",
            "0    284315\n",
            "1       492\n",
            "Name: count, dtype: int64\n"
          ]
        }
      ]
    },
    {
      "cell_type": "markdown",
      "source": [
        "1. Veri Ön İşleme\n",
        "A) Özellikler ve Hedef Değişkeni Ayırma"
      ],
      "metadata": {
        "id": "Qc9O8bL-hpHX"
      }
    },
    {
      "cell_type": "code",
      "source": [
        "X = data.drop('Class', axis=1)  # Özellikler (V1-V28, Time, Amount)\n",
        "y = data['Class']              # Hedef değişken (0: Normal, 1: Sahtekarlık)"
      ],
      "metadata": {
        "id": "jdAh4w93hpwh"
      },
      "execution_count": null,
      "outputs": []
    },
    {
      "cell_type": "markdown",
      "source": [
        "B) Veriyi Eğitim ve Test Setlerine Ayırma\n"
      ],
      "metadata": {
        "id": "qY8ORXj6huIN"
      }
    },
    {
      "cell_type": "code",
      "source": [
        "from sklearn.model_selection import train_test_split\n",
        "\n",
        "X_train, X_test, y_train, y_test = train_test_split(X, y, test_size=0.2, random_state=42, stratify=y)\n",
        "print(\"Eğitim seti boyutu:\", X_train.shape)\n",
        "print(\"Test seti boyutu:\", X_test.shape)"
      ],
      "metadata": {
        "colab": {
          "base_uri": "https://localhost:8080/"
        },
        "id": "MPEtODOehw05",
        "outputId": "94613b38-ddb9-48a5-c558-0cd2d17e70fe"
      },
      "execution_count": null,
      "outputs": [
        {
          "output_type": "stream",
          "name": "stdout",
          "text": [
            "Eğitim seti boyutu: (227845, 30)\n",
            "Test seti boyutu: (56962, 30)\n"
          ]
        }
      ]
    },
    {
      "cell_type": "markdown",
      "source": [
        "2. Dengesiz Veri Sorununu Çözme (SMOTE)\n"
      ],
      "metadata": {
        "id": "vmLcHG2rhzq2"
      }
    },
    {
      "cell_type": "code",
      "source": [
        "from imblearn.over_sampling import SMOTE\n",
        "\n",
        "smote = SMOTE(random_state=42)\n",
        "X_resampled, y_resampled = smote.fit_resample(X_train, y_train)\n",
        "\n",
        "print(\"\\nSMOTE Sonrası Sınıf Dağılımı:\")\n",
        "print(y_resampled.value_counts())"
      ],
      "metadata": {
        "colab": {
          "base_uri": "https://localhost:8080/"
        },
        "id": "UhFt2-m6h2Js",
        "outputId": "8e3bce34-bfa4-4b24-870c-daabb60bcc2e"
      },
      "execution_count": null,
      "outputs": [
        {
          "output_type": "stream",
          "name": "stdout",
          "text": [
            "\n",
            "SMOTE Sonrası Sınıf Dağılımı:\n",
            "Class\n",
            "0    227451\n",
            "1    227451\n",
            "Name: count, dtype: int64\n"
          ]
        }
      ]
    },
    {
      "cell_type": "markdown",
      "source": [
        "Not: SMOTE sadece eğitim setine uygulanır. Test setine dokunmuyoruz!\n",
        "\n"
      ],
      "metadata": {
        "id": "8wtBOzxIh8lo"
      }
    },
    {
      "cell_type": "markdown",
      "source": [
        "3. Anomali Tespiti Modelleri\n",
        "Seçenek A: Isolation Forest"
      ],
      "metadata": {
        "id": "uM6A1pk-h_DC"
      }
    },
    {
      "cell_type": "code",
      "source": [
        "from sklearn.ensemble import IsolationForest\n",
        "\n",
        "# Modeli eğit (contamination=sahtekarlık oranı tahmini)\n",
        "model_if = IsolationForest(n_estimators=100, contamination=0.01, random_state=42)\n",
        "model_if.fit(X_resampled[y_resampled == 0])  # Sadece normal işlemlerle eğitim\n",
        "\n",
        "# Test setinde tahmin yap\n",
        "y_pred_if = model_if.predict(X_test)\n",
        "y_pred_if = [1 if x == -1 else 0 for x in y_pred_if]  # -1 = anomaly"
      ],
      "metadata": {
        "id": "kyBSRC5oh9Kt"
      },
      "execution_count": null,
      "outputs": []
    },
    {
      "cell_type": "markdown",
      "source": [
        "Seçenek B: Autoencoder (Derin Öğrenme)\n"
      ],
      "metadata": {
        "id": "ssAzi6T3iExV"
      }
    },
    {
      "cell_type": "code",
      "source": [
        "from tensorflow.keras.models import Sequential\n",
        "from tensorflow.keras.layers import Dense\n",
        "\n",
        "# Model mimarisi\n",
        "autoencoder = Sequential([\n",
        "    Dense(16, activation='relu', input_shape=(X_resampled.shape[1],)),\n",
        "    Dense(X_resampled.shape[1], activation='sigmoid')\n",
        "])\n",
        "autoencoder.compile(optimizer='adam', loss='mse')\n",
        "\n",
        "# Sadece normal işlemlerle eğitim (y_resampled == 0)\n",
        "autoencoder.fit(X_resampled[y_resampled == 0], X_resampled[y_resampled == 0],\n",
        "                epochs=10, batch_size=32)\n",
        "\n",
        "# Test setinde anomali skorları hesapla\n",
        "reconstructions = autoencoder.predict(X_test)\n",
        "mse = np.mean(np.power(X_test - reconstructions, 2), axis=1)\n",
        "y_pred_ae = [1 if e > np.percentile(mse, 95) else 0 for e in mse]  # MSE'ye göre threshold"
      ],
      "metadata": {
        "colab": {
          "base_uri": "https://localhost:8080/"
        },
        "id": "IJorX1epiGAJ",
        "outputId": "77f074a5-ce0c-466c-d961-9b5a422502f2",
        "collapsed": true
      },
      "execution_count": null,
      "outputs": [
        {
          "output_type": "stream",
          "name": "stdout",
          "text": [
            "Epoch 1/10\n"
          ]
        },
        {
          "output_type": "stream",
          "name": "stderr",
          "text": [
            "/usr/local/lib/python3.11/dist-packages/keras/src/layers/core/dense.py:87: UserWarning: Do not pass an `input_shape`/`input_dim` argument to a layer. When using Sequential models, prefer using an `Input(shape)` object as the first layer in the model instead.\n",
            "  super().__init__(activity_regularizer=activity_regularizer, **kwargs)\n"
          ]
        },
        {
          "output_type": "stream",
          "name": "stdout",
          "text": [
            "\u001b[1m7108/7108\u001b[0m \u001b[32m━━━━━━━━━━━━━━━━━━━━\u001b[0m\u001b[37m\u001b[0m \u001b[1m13s\u001b[0m 2ms/step - loss: 374599584.0000\n",
            "Epoch 2/10\n",
            "\u001b[1m7108/7108\u001b[0m \u001b[32m━━━━━━━━━━━━━━━━━━━━\u001b[0m\u001b[37m\u001b[0m \u001b[1m12s\u001b[0m 2ms/step - loss: 375346304.0000\n",
            "Epoch 3/10\n",
            "\u001b[1m7108/7108\u001b[0m \u001b[32m━━━━━━━━━━━━━━━━━━━━\u001b[0m\u001b[37m\u001b[0m \u001b[1m21s\u001b[0m 2ms/step - loss: 374379040.0000\n",
            "Epoch 4/10\n",
            "\u001b[1m7108/7108\u001b[0m \u001b[32m━━━━━━━━━━━━━━━━━━━━\u001b[0m\u001b[37m\u001b[0m \u001b[1m12s\u001b[0m 2ms/step - loss: 375772960.0000\n",
            "Epoch 5/10\n",
            "\u001b[1m7108/7108\u001b[0m \u001b[32m━━━━━━━━━━━━━━━━━━━━\u001b[0m\u001b[37m\u001b[0m \u001b[1m12s\u001b[0m 2ms/step - loss: 376831968.0000\n",
            "Epoch 6/10\n",
            "\u001b[1m7108/7108\u001b[0m \u001b[32m━━━━━━━━━━━━━━━━━━━━\u001b[0m\u001b[37m\u001b[0m \u001b[1m20s\u001b[0m 2ms/step - loss: 376100384.0000\n",
            "Epoch 7/10\n",
            "\u001b[1m7108/7108\u001b[0m \u001b[32m━━━━━━━━━━━━━━━━━━━━\u001b[0m\u001b[37m\u001b[0m \u001b[1m12s\u001b[0m 2ms/step - loss: 375041600.0000\n",
            "Epoch 8/10\n",
            "\u001b[1m7108/7108\u001b[0m \u001b[32m━━━━━━━━━━━━━━━━━━━━\u001b[0m\u001b[37m\u001b[0m \u001b[1m20s\u001b[0m 2ms/step - loss: 376636992.0000\n",
            "Epoch 9/10\n",
            "\u001b[1m7108/7108\u001b[0m \u001b[32m━━━━━━━━━━━━━━━━━━━━\u001b[0m\u001b[37m\u001b[0m \u001b[1m12s\u001b[0m 2ms/step - loss: 375071168.0000\n",
            "Epoch 10/10\n",
            "\u001b[1m7108/7108\u001b[0m \u001b[32m━━━━━━━━━━━━━━━━━━━━\u001b[0m\u001b[37m\u001b[0m \u001b[1m12s\u001b[0m 2ms/step - loss: 374563072.0000\n",
            "\u001b[1m1781/1781\u001b[0m \u001b[32m━━━━━━━━━━━━━━━━━━━━\u001b[0m\u001b[37m\u001b[0m \u001b[1m2s\u001b[0m 968us/step\n"
          ]
        }
      ]
    },
    {
      "cell_type": "markdown",
      "source": [
        "4. Model Performansını Değerlendirme\n"
      ],
      "metadata": {
        "id": "2ATUM0m1ihlG"
      }
    },
    {
      "cell_type": "code",
      "source": [
        "from sklearn.metrics import classification_report, confusion_matrix\n",
        "import seaborn as sns\n",
        "import matplotlib.pyplot as plt\n",
        "\n",
        "# Isolation Forest için\n",
        "print(\"Isolation Forest Performansı:\")\n",
        "print(classification_report(y_test, y_pred_if))\n",
        "sns.heatmap(confusion_matrix(y_test, y_pred_if), annot=True, fmt='d')\n",
        "plt.title('Isolation Forest - Confusion Matrix')\n",
        "plt.show()\n",
        "\n",
        "# Autoencoder için\n",
        "print(\"\\nAutoencoder Performansı:\")\n",
        "print(classification_report(y_test, y_pred_ae))\n",
        "sns.heatmap(confusion_matrix(y_test, y_pred_ae), annot=True, fmt='d')\n",
        "plt.title('Autoencoder - Confusion Matrix')\n",
        "plt.show()"
      ],
      "metadata": {
        "colab": {
          "base_uri": "https://localhost:8080/",
          "height": 1000
        },
        "id": "y77VFyJaiiE7",
        "outputId": "b2c47072-93d4-4cd1-8536-bb92c49f3085"
      },
      "execution_count": null,
      "outputs": [
        {
          "output_type": "stream",
          "name": "stdout",
          "text": [
            "Isolation Forest Performansı:\n",
            "              precision    recall  f1-score   support\n",
            "\n",
            "           0       1.00      0.99      0.99     56864\n",
            "           1       0.10      0.68      0.17        98\n",
            "\n",
            "    accuracy                           0.99     56962\n",
            "   macro avg       0.55      0.84      0.58     56962\n",
            "weighted avg       1.00      0.99      0.99     56962\n",
            "\n"
          ]
        },
        {
          "output_type": "display_data",
          "data": {
            "text/plain": [
              "<Figure size 640x480 with 2 Axes>"
            ],
            "image/png": "[encoded data removed]"
          },
          "metadata": {}
        },
        {
          "output_type": "stream",
          "name": "stdout",
          "text": [
            "\n",
            "Autoencoder Performansı:\n",
            "              precision    recall  f1-score   support\n",
            "\n",
            "           0       1.00      0.95      0.97     56864\n",
            "           1       0.00      0.01      0.00        98\n",
            "\n",
            "    accuracy                           0.95     56962\n",
            "   macro avg       0.50      0.48      0.49     56962\n",
            "weighted avg       1.00      0.95      0.97     56962\n",
            "\n"
          ]
        },
        {
          "output_type": "display_data",
          "data": {
            "text/plain": [
              "<Figure size 640x480 with 2 Axes>"
            ],
            "image/png": "[encoded data removed]"
          },
          "metadata": {}
        }
      ]
    }
  ],
  "metadata": {
    "colab": {
      "provenance": [],
      "authorship_tag": "ABX9TyPstLqBTgvpwd5+8Q8kssJK",
      "include_colab_link": true
    },
    "kernelspec": {
      "display_name": "Python 3",
      "name": "python3"
    },
    "language_info": {
      "name": "python"
    }
  },
  "nbformat": 4,
  "nbformat_minor": 0
}