{
  "nbformat": 4,
  "nbformat_minor": 0,
  "metadata": {
    "colab": {
      "provenance": [],
      "authorship_tag": "ABX9TyMzD2L1MKK7IZRonIc/fFcX",
      "include_colab_link": true
    },
    "kernelspec": {
      "name": "python3",
      "display_name": "Python 3"
    },
    "language_info": {
      "name": "python"
    }
  },
  "cells": [
    {
      "cell_type": "markdown",
      "metadata": {
        "id": "view-in-github",
        "colab_type": "text"
      },
      "source": [
        "<a href=\"https://colab.research.google.com/github/elemnurguner/data-ai-projects/blob/main/Pandasileeksikverileritemizleme.ipynb\" target=\"_parent\"><img src=\"https://colab.research.google.com/assets/colab-badge.svg\" alt=\"Open In Colab\"/></a>"
      ]
    },
    {
      "cell_type": "code",
      "execution_count": 32,
      "metadata": {
        "id": "kre2VMiXAP_z"
      },
      "outputs": [],
      "source": [
        "import pandas as pd\n",
        "import numpy as np\n",
        "import seaborn as sns"
      ]
    },
    {
      "cell_type": "markdown",
      "source": [
        "2. Yapay Veri Seti Oluşturma\n",
        "Rastgele veri üretip içine eksik değerler (NaN) ekleyelim:"
      ],
      "metadata": {
        "id": "YjpUhpU3Aab-"
      }
    },
    {
      "cell_type": "code",
      "source": [
        "# Rastgele veri oluşturma\n",
        "np.random.seed(42)  # Tekrarlanabilirlik için seed\n",
        "data = {\n",
        "    'Yaş': np.random.randint(20, 60, size=20),\n",
        "    'Maaş': np.random.randint(3000, 10000, size=20),\n",
        "    'Şehir': np.random.choice(['İstanbul', 'Ankara', 'İzmir', np.nan], size=20),\n",
        "    'Cinsiyet': np.random.choice(['Erkek', 'Kadın', np.nan], size=20),\n",
        "    'Puan': np.random.uniform(1, 10, size=20)\n",
        "}\n",
        "\n",
        "df = pd.DataFrame(data)\n",
        "\n",
        "# Rastgele eksik veri ekleme (NaN)\n",
        "df['Yaş'] = df['Yaş'].mask(np.random.random(size=20) < 0.2)  # %20 eksik\n",
        "df['Maaş'] = df['Maaş'].mask(np.random.random(size=20) < 0.3)  # %30 eksik\n",
        "df['Şehir'] = df['Şehir'].mask(np.random.random(size=20) < 0.25)  # %25 eksik\n",
        "df['Puan'] = df['Puan'].mask(np.random.random(size=20) < 0.1)  # %10 eksik"
      ],
      "metadata": {
        "id": "LDa7NaiAAZHV"
      },
      "execution_count": 33,
      "outputs": []
    },
    {
      "cell_type": "markdown",
      "source": [
        "3. Eksik Verileri Görüntüleme\n"
      ],
      "metadata": {
        "id": "I-zDz9SsAq1-"
      }
    },
    {
      "cell_type": "code",
      "source": [
        "print(\"👉 Oluşturulan Veri Seti:\")\n",
        "print(df.head())  # İlk 5 satırı göster\n",
        "\n",
        "print(\"\\n🔍 Eksik Veri Sayısı:\")\n",
        "print(df.isnull().sum())\n",
        "\n",
        "# Eksik veri haritası\n",
        "sns.heatmap(df.isnull(), cbar=False, cmap='viridis')"
      ],
      "metadata": {
        "colab": {
          "base_uri": "https://localhost:8080/",
          "height": 708
        },
        "id": "2iUuvnvUArRP",
        "outputId": "1a8c76f1-5136-4e5f-9710-8cb7eef6bbca"
      },
      "execution_count": 34,
      "outputs": [
        {
          "output_type": "stream",
          "name": "stdout",
          "text": [
            "👉 Oluşturulan Veri Seti:\n",
            "    Yaş    Maaş   Şehir Cinsiyet      Puan\n",
            "0  58.0     NaN  Ankara    Kadın  9.726262\n",
            "1   NaN  8311.0     NaN    Erkek  7.976195\n",
            "2   NaN  8051.0     nan    Kadın  9.455490\n",
            "3  27.0  9420.0   İzmir    Erkek  9.053446\n",
            "4  40.0  4184.0     nan    Kadın  6.381100\n",
            "\n",
            "🔍 Eksik Veri Sayısı:\n",
            "Yaş         5\n",
            "Maaş        7\n",
            "Şehir       5\n",
            "Cinsiyet    0\n",
            "Puan        2\n",
            "dtype: int64\n"
          ]
        },
        {
          "output_type": "execute_result",
          "data": {
            "text/plain": [
              "<Axes: >"
            ]
          },
          "metadata": {},
          "execution_count": 34
        },
        {
          "output_type": "display_data",
          "data": {
            "text/plain": [
              "<Figure size 640x480 with 1 Axes>"
            ],
            "image/png": "[encoded data removed]"
          },
          "metadata": {}
        }
      ]
    },
    {
      "cell_type": "markdown",
      "source": [
        "4. Eksik Verileri Temizleme\n",
        "Örnek 1: Eksik Satırları Silme"
      ],
      "metadata": {
        "id": "fmwXV4F6Awl9"
      }
    },
    {
      "cell_type": "code",
      "source": [
        "df_dropna = df.dropna()  # Tüm eksik satırları sil\n",
        "print(\"🗑️ Eksik Satırlar Silindi:\")\n",
        "print(df_dropna.isnull().sum())"
      ],
      "metadata": {
        "colab": {
          "base_uri": "https://localhost:8080/"
        },
        "id": "Y0OcLdLuAw9q",
        "outputId": "6077ecf3-199f-40fe-8e70-fb2e90d83b7c"
      },
      "execution_count": 35,
      "outputs": [
        {
          "output_type": "stream",
          "name": "stdout",
          "text": [
            "🗑️ Eksik Satırlar Silindi:\n",
            "Yaş         0\n",
            "Maaş        0\n",
            "Şehir       0\n",
            "Cinsiyet    0\n",
            "Puan        0\n",
            "dtype: int64\n"
          ]
        }
      ]
    },
    {
      "cell_type": "markdown",
      "source": [
        "Örnek 2: Eksik Değerleri Doldurma\n",
        "\n"
      ],
      "metadata": {
        "id": "wh1nyT2jA7GP"
      }
    },
    {
      "cell_type": "code",
      "source": [
        "# Sayısal sütunları ortalama ile doldur\n",
        "df_filled = df.fillna({\n",
        "    'Yaş': df['Yaş'].mean(),\n",
        "    'Maaş': df['Maaş'].mean(),\n",
        "    'Puan': df['Puan'].mean()\n",
        "})\n",
        "\n",
        "# Kategorik sütunları mod ile doldur\n",
        "df_filled['Şehir'] = df['Şehir'].fillna(df['Şehir'].mode()[0])\n",
        "df_filled['Cinsiyet'] = df['Cinsiyet'].fillna(df['Cinsiyet'].mode()[0])\n",
        "\n",
        "print(\"\\n🔄 Doldurulmuş Veri Seti:\")\n",
        "print(df_filled.isnull().sum())"
      ],
      "metadata": {
        "colab": {
          "base_uri": "https://localhost:8080/"
        },
        "id": "DaL3hk7dA72a",
        "outputId": "0ffd9b98-c80a-4bf8-ce19-4cc31cb51ada"
      },
      "execution_count": 36,
      "outputs": [
        {
          "output_type": "stream",
          "name": "stdout",
          "text": [
            "\n",
            "🔄 Doldurulmuş Veri Seti:\n",
            "Yaş         0\n",
            "Maaş        0\n",
            "Şehir       0\n",
            "Cinsiyet    0\n",
            "Puan        0\n",
            "dtype: int64\n"
          ]
        }
      ]
    },
    {
      "cell_type": "markdown",
      "source": [
        "Örnek 3: İnterpolasyon (Zaman Serileri İçin)\n"
      ],
      "metadata": {
        "id": "DgzG5kWHBEeG"
      }
    },
    {
      "cell_type": "code",
      "source": [
        "df_sorted = df.sort_values(by='Yaş')  # Yaşa göre sırala (örnek amaçlı)\n",
        "df_interpolated = df_sorted.interpolate()  # Lineer interpolasyon\n",
        "print(\"\\n📈 İnterpolasyon Sonrası:\")\n",
        "print(df_interpolated.isnull().sum())"
      ],
      "metadata": {
        "colab": {
          "base_uri": "https://localhost:8080/"
        },
        "id": "tP8oiWlaBAEr",
        "outputId": "42291228-9fb0-4260-fea4-1e5b350fef9f"
      },
      "execution_count": 10,
      "outputs": [
        {
          "output_type": "stream",
          "name": "stdout",
          "text": [
            "\n",
            "📈 İnterpolasyon Sonrası:\n",
            "Yaş         0\n",
            "Maaş        0\n",
            "Şehir       5\n",
            "Cinsiyet    0\n",
            "Puan        0\n",
            "dtype: int64\n"
          ]
        },
        {
          "output_type": "stream",
          "name": "stderr",
          "text": [
            "<ipython-input-10-0108d69a1c86>:2: FutureWarning: DataFrame.interpolate with object dtype is deprecated and will raise in a future version. Call obj.infer_objects(copy=False) before interpolating instead.\n",
            "  df_interpolated = df_sorted.interpolate()  # Lineer interpolasyon\n"
          ]
        }
      ]
    },
    {
      "cell_type": "code",
      "source": [
        "df_filled.to_csv('temiz_veri.csv', index=False)\n",
        "print(\"✅ Veri 'temiz_veri.csv' olarak kaydedildi!\")"
      ],
      "metadata": {
        "colab": {
          "base_uri": "https://localhost:8080/"
        },
        "id": "AMAKNg4mBGw1",
        "outputId": "870bd627-3926-446b-dd5c-7b217edb69b3"
      },
      "execution_count": 11,
      "outputs": [
        {
          "output_type": "stream",
          "name": "stdout",
          "text": [
            "✅ Veri 'temiz_veri.csv' olarak kaydedildi!\n"
          ]
        }
      ]
    },
    {
      "cell_type": "markdown",
      "source": [
        "1. Kategorik Verilerde Eksik Değer Yönetimi\n",
        "Kategorik verilerde (örn. şehir, cinsiyet) eksik değerleri yönetmek için aşağıdaki yöntemleri kullanabilirsiniz:\n",
        "\n",
        "a. Mod (En Sık Tekrar Eden Değer) ile Doldurma"
      ],
      "metadata": {
        "id": "3Ydflfi_Lx9N"
      }
    },
    {
      "cell_type": "code",
      "source": [
        "import pandas as pd\n",
        "import numpy as np\n",
        "\n",
        "# Örnek kategorik veri seti\n",
        "data = {\n",
        "    'Şehir': ['İstanbul', 'Ankara', np.nan, 'İzmir', 'İstanbul', np.nan, 'Ankara'],\n",
        "    'Cinsiyet': ['Erkek', np.nan, 'Kadın', 'Kadın', np.nan, 'Erkek', 'Kadın']\n",
        "}\n",
        "df = pd.DataFrame(data)\n",
        "\n",
        "# Eksik değerleri mod ile doldurma\n",
        "df['Şehir'] = df['Şehir'].fillna(df['Şehir'].mode()[0])  # En sık tekrar eden değer\n",
        "df['Cinsiyet'] = df['Cinsiyet'].fillna('Bilinmiyor')      # Özel bir değerle doldurma\n",
        "\n",
        "print(\"🔍 Kategorik Veri Temizliği Sonrası:\")\n",
        "print(df)"
      ],
      "metadata": {
        "colab": {
          "base_uri": "https://localhost:8080/"
        },
        "id": "BaFqrbAzLywb",
        "outputId": "8c79a370-8a2e-47bd-84b5-f66659350ddd"
      },
      "execution_count": 28,
      "outputs": [
        {
          "output_type": "stream",
          "name": "stdout",
          "text": [
            "🔍 Kategorik Veri Temizliği Sonrası:\n",
            "      Şehir    Cinsiyet\n",
            "0  İstanbul       Erkek\n",
            "1    Ankara  Bilinmiyor\n",
            "2    Ankara       Kadın\n",
            "3     İzmir       Kadın\n",
            "4  İstanbul  Bilinmiyor\n",
            "5    Ankara       Erkek\n",
            "6    Ankara       Kadın\n"
          ]
        }
      ]
    },
    {
      "cell_type": "markdown",
      "source": [
        "b. \"Bilinmiyor\" Gibi Özel Bir Değer Ekleme\n"
      ],
      "metadata": {
        "id": "jHN8ysoqL2cU"
      }
    },
    {
      "cell_type": "code",
      "source": [
        "# Eksik kategorik değerlere \"Bilinmiyor\" ekleme\n",
        "df['Şehir'] = df['Şehir'].fillna('Bilinmiyor')\n",
        "df['Cinsiyet'] = df['Cinsiyet'].fillna('Bilinmiyor')"
      ],
      "metadata": {
        "id": "G0Pzt9gML282"
      },
      "execution_count": 21,
      "outputs": []
    },
    {
      "cell_type": "markdown",
      "source": [
        "c. Sütunu Tamamen Silme (Çok Yüksek Eksiklik Varsa)\n"
      ],
      "metadata": {
        "id": "FE5_BBfuL8dJ"
      }
    },
    {
      "cell_type": "code",
      "source": [
        "df.drop(columns=['Şehir'], inplace=True)  # Şehir sütununu sil"
      ],
      "metadata": {
        "id": "8aYk-rWlL89N"
      },
      "execution_count": 14,
      "outputs": []
    },
    {
      "cell_type": "markdown",
      "source": [
        "2. Zaman Serisi Verilerinde İnterpolasyon Detayları\n",
        "Zaman serilerinde eksik değerleri doldurmak için interpolasyon yöntemleri kullanılır. İşte en yaygın yöntemler:\n",
        "\n",
        "a. Lineer İnterpolasyon"
      ],
      "metadata": {
        "id": "eRQiqbxvMATG"
      }
    },
    {
      "cell_type": "code",
      "source": [
        "# Zaman serisi örneği\n",
        "dates = pd.date_range(start='2023-01-01', periods=10, freq='D')\n",
        "data = {\n",
        "    'Tarih': dates,\n",
        "    'Sıcaklık': [22, np.nan, 24, np.nan, np.nan, 28, 29, 30, np.nan, 32]\n",
        "}\n",
        "df_time = pd.DataFrame(data).set_index('Tarih')\n",
        "\n",
        "# Lineer interpolasyon\n",
        "df_interpolated = df_time.interpolate(method='linear')  # Varsayılan yöntem\n",
        "\n",
        "print(\"📈 Lineer İnterpolasyon Sonrası:\")\n",
        "print(df_interpolated)"
      ],
      "metadata": {
        "colab": {
          "base_uri": "https://localhost:8080/"
        },
        "id": "eCUFFzXRMBLk",
        "outputId": "01c091f5-1205-462f-edf5-c2940fae0d56"
      },
      "execution_count": 22,
      "outputs": [
        {
          "output_type": "stream",
          "name": "stdout",
          "text": [
            "📈 Lineer İnterpolasyon Sonrası:\n",
            "             Sıcaklık\n",
            "Tarih                \n",
            "2023-01-01  22.000000\n",
            "2023-01-02  23.000000\n",
            "2023-01-03  24.000000\n",
            "2023-01-04  25.333333\n",
            "2023-01-05  26.666667\n",
            "2023-01-06  28.000000\n",
            "2023-01-07  29.000000\n",
            "2023-01-08  30.000000\n",
            "2023-01-09  31.000000\n",
            "2023-01-10  32.000000\n"
          ]
        }
      ]
    },
    {
      "cell_type": "markdown",
      "source": [
        "b. Zaman Bazlı İnterpolasyon\n"
      ],
      "metadata": {
        "id": "mpi_zbZZMDna"
      }
    },
    {
      "cell_type": "code",
      "source": [
        "df_time = df_time.interpolate(method='time')  # Tarih aralıklarına göre uyarlanmış interpolasyon"
      ],
      "metadata": {
        "id": "yo2i9kDxMEOp"
      },
      "execution_count": 23,
      "outputs": []
    },
    {
      "cell_type": "markdown",
      "source": [
        "c. Polinom İnterpolasyonu\n"
      ],
      "metadata": {
        "id": "30vqKulOMG9Q"
      }
    },
    {
      "cell_type": "code",
      "source": [
        "df_time = df_time.interpolate(method='polynomial', order=2)  # 2. dereceden polinom"
      ],
      "metadata": {
        "id": "YPfQbJOxMHX-"
      },
      "execution_count": 24,
      "outputs": []
    },
    {
      "cell_type": "markdown",
      "source": [
        "3. Eksik Veriye \"Bilinmiyor\" Gibi Özel Değerler Ekleme\n",
        "Hem sayısal hem kategorik verilerde özel değerlerle eksiklikleri işaretleyebilirsiniz.\n",
        "\n",
        "a. Kategorik Verilerde"
      ],
      "metadata": {
        "id": "FFE6OXseMKnD"
      }
    },
    {
      "cell_type": "code",
      "source": [
        "# \"Bilinmiyor\" ekleme\n",
        "df['Şehir'] = df['Şehir'].fillna('Bilinmiyor')"
      ],
      "metadata": {
        "id": "HKYZMDJDMLOT"
      },
      "execution_count": 25,
      "outputs": []
    },
    {
      "cell_type": "markdown",
      "source": [
        "b. Sayısal Verilerde\n"
      ],
      "metadata": {
        "id": "DAUQRjU7MbhF"
      }
    },
    {
      "cell_type": "code",
      "source": [
        "# Eksik değerlere -999 gibi bir işaret koyma\n",
        "df['Yaş'] = df['Yaş'].fillna(-999)"
      ],
      "metadata": {
        "id": "SMpljkDXMb5P"
      },
      "execution_count": 37,
      "outputs": []
    },
    {
      "cell_type": "markdown",
      "source": [
        "c. Koşullu Değer Atama\n"
      ],
      "metadata": {
        "id": "bDDMwatSM2gX"
      }
    },
    {
      "cell_type": "code",
      "source": [
        "# Yaş > 50 ise \"Bilinmiyor\", değilse ortalama ile doldur\n",
        "df['Yaş'] = np.where(\n",
        "    df['Yaş'].isnull() & (df['Diğer_Sütun'] > 50),\n",
        "    'Bilinmiyor',\n",
        "    df['Yaş'].fillna(df['Yaş'].mean())\n",
        ")"
      ],
      "metadata": {
        "id": "LgjPpCedNOgs"
      },
      "execution_count": null,
      "outputs": []
    },
    {
      "cell_type": "markdown",
      "source": [
        "4. Tüm Senaryoları Birleştiren Örnek Kod\n"
      ],
      "metadata": {
        "id": "2_ZF0NFwNPEI"
      }
    },
    {
      "cell_type": "code",
      "source": [
        "import pandas as pd\n",
        "import numpy as np\n",
        "\n",
        "# Örnek veri seti oluşturma\n",
        "data = {\n",
        "    'Tarih': pd.date_range(start='2023-01-01', periods=10),\n",
        "    'Sıcaklık': [22, np.nan, 24, np.nan, np.nan, 28, 29, 30, np.nan, 32],\n",
        "    'Şehir': ['İstanbul', np.nan, 'Ankara', np.nan, 'İzmir', 'İstanbul', np.nan, 'Ankara', 'İstanbul', np.nan],\n",
        "    'Satış': [100, 120, np.nan, np.nan, 150, 160, 170, np.nan, 180, 200]\n",
        "}\n",
        "df = pd.DataFrame(data)\n",
        "\n",
        "# 1. Kategorik verileri \"Bilinmiyor\" ile doldur\n",
        "df['Şehir'] = df['Şehir'].fillna('Bilinmiyor')\n",
        "\n",
        "# 2. Zaman serisi interpolasyonu (Lineer)\n",
        "df['Sıcaklık'] = df['Sıcaklık'].interpolate(method='linear')\n",
        "\n",
        "# 3. Sayısal verileri -999 ile işaretle\n",
        "df['Satış'] = df['Satış'].fillna(-999)\n",
        "\n",
        "print(\"✅ Tüm Temizlik Sonrası Veri Seti:\")\n",
        "print(df)"
      ],
      "metadata": {
        "colab": {
          "base_uri": "https://localhost:8080/"
        },
        "id": "Il1PKugZNQoU",
        "outputId": "05c1dc71-624e-419c-e336-8e1d0c3b8c2c"
      },
      "execution_count": 39,
      "outputs": [
        {
          "output_type": "stream",
          "name": "stdout",
          "text": [
            "✅ Tüm Temizlik Sonrası Veri Seti:\n",
            "       Tarih   Sıcaklık       Şehir  Satış\n",
            "0 2023-01-01  22.000000    İstanbul  100.0\n",
            "1 2023-01-02  23.000000  Bilinmiyor  120.0\n",
            "2 2023-01-03  24.000000      Ankara -999.0\n",
            "3 2023-01-04  25.333333  Bilinmiyor -999.0\n",
            "4 2023-01-05  26.666667       İzmir  150.0\n",
            "5 2023-01-06  28.000000    İstanbul  160.0\n",
            "6 2023-01-07  29.000000  Bilinmiyor  170.0\n",
            "7 2023-01-08  30.000000      Ankara -999.0\n",
            "8 2023-01-09  31.000000    İstanbul  180.0\n",
            "9 2023-01-10  32.000000  Bilinmiyor  200.0\n"
          ]
        }
      ]
    },
    {
      "cell_type": "markdown",
      "source": [
        "Ne Zaman Hangi Yöntemi Kullanmalı?\n",
        "Senaryo\tYöntem\n",
        "Kategorik veri eksikliği\tfillna(\"Bilinmiyor\") veya mode()\n",
        "Zaman serisi eksikliği\tinterpolate(method='time')\n",
        "Sayısal veri eksikliği\tfillna(mean()) veya interpolasyon\n",
        "Yüksek eksik veri oranı\tSütunu sil (drop)"
      ],
      "metadata": {
        "id": "P-M6cGtjNVji"
      }
    }
  ]
}