{
  "nbformat": 4,
  "nbformat_minor": 0,
  "metadata": {
    "colab": {
      "provenance": [],
      "authorship_tag": "ABX9TyPbIo3wURNgpSLKdDAT588t",
      "include_colab_link": true
    },
    "kernelspec": {
      "name": "python3",
      "display_name": "Python 3"
    },
    "language_info": {
      "name": "python"
    }
  },
  "cells": [
    {
      "cell_type": "markdown",
      "metadata": {
        "id": "view-in-github",
        "colab_type": "text"
      },
      "source": [
        "<a href=\"https://colab.research.google.com/github/elemnurguner/data-ai-projects/blob/main/Yapay_Zeka_ile_Hata_S%C4%B1n%C4%B1fland%C4%B1rma.ipynb\" target=\"_parent\"><img src=\"https://colab.research.google.com/assets/colab-badge.svg\" alt=\"Open In Colab\"/></a>"
      ]
    },
    {
      "cell_type": "markdown",
      "source": [
        "Adım 2: Gerekli Kütüphaneleri Yükleme\n",
        "İlk hücreye aşağıdaki kütüphaneleri ekleyelim:"
      ],
      "metadata": {
        "id": "x5jVOIs-bZ0U"
      }
    },
    {
      "cell_type": "code",
      "source": [
        "import numpy as np\n",
        "import pandas as pd\n",
        "import matplotlib.pyplot as plt\n",
        "import seaborn as sns\n",
        "from sklearn.model_selection import train_test_split\n",
        "from sklearn.preprocessing import LabelEncoder\n",
        "from sklearn.ensemble import RandomForestClassifier\n",
        "from sklearn.metrics import classification_report, confusion_matrix"
      ],
      "metadata": {
        "id": "wsPkT6F4ba-f"
      },
      "execution_count": null,
      "outputs": []
    },
    {
      "cell_type": "markdown",
      "source": [
        "Adım 3: Veri Setini Yükleme ve İnceleme\n",
        "Örnek bir veri seti kullanabiliriz (örneğin, fabrika hata kayıtları). Siz kendi veri setinizi de yükleyebilirsiniz."
      ],
      "metadata": {
        "id": "vGjV3m-_bef0"
      }
    },
    {
      "cell_type": "code",
      "source": [
        "# Örnek veri seti oluşturalım (siz kendi verinizi pd.read_csv() ile yükleyebilirsiniz)\n",
        "data = {\n",
        "    'Sıcaklık': [120, 150, 90, 110, 130, 140, 85, 100],\n",
        "    'Basınç': [30, 45, 20, 35, 50, 40, 15, 25],\n",
        "    'Nem': [60, 45, 70, 50, 35, 40, 75, 55],\n",
        "    'Hata_Tipi': ['A', 'B', 'A', 'C', 'B', 'C', 'A', 'B']\n",
        "}\n",
        "df = pd.DataFrame(data)\n",
        "print(df.head())"
      ],
      "metadata": {
        "colab": {
          "base_uri": "https://localhost:8080/"
        },
        "id": "hrktaK1zbcbM",
        "outputId": "f27218d6-515c-4ca5-d823-e57cde519d1d"
      },
      "execution_count": null,
      "outputs": [
        {
          "output_type": "stream",
          "name": "stdout",
          "text": [
            "   Sıcaklık  Basınç  Nem Hata_Tipi\n",
            "0       120      30   60         A\n",
            "1       150      45   45         B\n",
            "2        90      20   70         A\n",
            "3       110      35   50         C\n",
            "4       130      50   35         B\n"
          ]
        }
      ]
    },
    {
      "cell_type": "markdown",
      "source": [
        "Adım 4: Veri Ön İşleme\n",
        "Hata tiplerini sayısal değerlere dönüştürelim:"
      ],
      "metadata": {
        "id": "le7YE4ZtbjJ8"
      }
    },
    {
      "cell_type": "code",
      "source": [
        "le = LabelEncoder()\n",
        "df['Hata_Tipi'] = le.fit_transform(df['Hata_Tipi'])\n",
        "print(df.head())"
      ],
      "metadata": {
        "colab": {
          "base_uri": "https://localhost:8080/"
        },
        "id": "xRkK3a4Bblcv",
        "outputId": "5b490bb1-e5d7-4c45-976f-07a19fd79cb3"
      },
      "execution_count": null,
      "outputs": [
        {
          "output_type": "stream",
          "name": "stdout",
          "text": [
            "   Sıcaklık  Basınç  Nem  Hata_Tipi\n",
            "0       120      30   60          0\n",
            "1       150      45   45          1\n",
            "2        90      20   70          0\n",
            "3       110      35   50          2\n",
            "4       130      50   35          1\n"
          ]
        }
      ]
    },
    {
      "cell_type": "markdown",
      "source": [
        "Adım 5: Eğitim ve Test Verisi Ayırma"
      ],
      "metadata": {
        "id": "p0MtVnn_bnrB"
      }
    },
    {
      "cell_type": "code",
      "source": [
        "X = df.drop('Hata_Tipi', axis=1)\n",
        "y = df['Hata_Tipi']\n",
        "X_train, X_test, y_train, y_test = train_test_split(X, y, test_size=0.3, random_state=42)"
      ],
      "metadata": {
        "id": "GTQiHccQboIL"
      },
      "execution_count": null,
      "outputs": []
    },
    {
      "cell_type": "markdown",
      "source": [
        "Adım 6: Model Oluşturma ve Eğitme\n",
        "Random Forest kullanalım:"
      ],
      "metadata": {
        "id": "kdAaLev_bpsd"
      }
    },
    {
      "cell_type": "code",
      "source": [
        "model = RandomForestClassifier(n_estimators=100, random_state=42)\n",
        "model.fit(X_train, y_train)"
      ],
      "metadata": {
        "colab": {
          "base_uri": "https://localhost:8080/",
          "height": 80
        },
        "id": "HsJsNgnFbtAK",
        "outputId": "a4aff4f9-9b3f-47e4-cf3d-ba0d17a8465d"
      },
      "execution_count": null,
      "outputs": [
        {
          "output_type": "execute_result",
          "data": {
            "text/plain": [
              "RandomForestClassifier(random_state=42)"
            ],
            "text/html": [
              "<style>#sk-container-id-1 {\n",
              "  /* Definition of color scheme common for light and dark mode */\n",
              "  --sklearn-color-text: #000;\n",
              "  --sklearn-color-text-muted: #666;\n",
              "  --sklearn-color-line: gray;\n",
              "  /* Definition of color scheme for unfitted estimators */\n",
              "  --sklearn-color-unfitted-level-0: #fff5e6;\n",
              "  --sklearn-color-unfitted-level-1: #f6e4d2;\n",
              "  --sklearn-color-unfitted-level-2: #ffe0b3;\n",
              "  --sklearn-color-unfitted-level-3: chocolate;\n",
              "  /* Definition of color scheme for fitted estimators */\n",
              "  --sklearn-color-fitted-level-0: #f0f8ff;\n",
              "  --sklearn-color-fitted-level-1: #d4ebff;\n",
              "  --sklearn-color-fitted-level-2: #b3dbfd;\n",
              "  --sklearn-color-fitted-level-3: cornflowerblue;\n",
              "\n",
              "  /* Specific color for light theme */\n",
              "  --sklearn-color-text-on-default-background: var(--sg-text-color, var(--theme-code-foreground, var(--jp-content-font-color1, black)));\n",
              "  --sklearn-color-background: var(--sg-background-color, var(--theme-background, var(--jp-layout-color0, white)));\n",
              "  --sklearn-color-border-box: var(--sg-text-color, var(--theme-code-foreground, var(--jp-content-font-color1, black)));\n",
              "  --sklearn-color-icon: #696969;\n",
              "\n",
              "  @media (prefers-color-scheme: dark) {\n",
              "    /* Redefinition of color scheme for dark theme */\n",
              "    --sklearn-color-text-on-default-background: var(--sg-text-color, var(--theme-code-foreground, var(--jp-content-font-color1, white)));\n",
              "    --sklearn-color-background: var(--sg-background-color, var(--theme-background, var(--jp-layout-color0, #111)));\n",
              "    --sklearn-color-border-box: var(--sg-text-color, var(--theme-code-foreground, var(--jp-content-font-color1, white)));\n",
              "    --sklearn-color-icon: #878787;\n",
              "  }\n",
              "}\n",
              "\n",
              "#sk-container-id-1 {\n",
              "  color: var(--sklearn-color-text);\n",
              "}\n",
              "\n",
              "#sk-container-id-1 pre {\n",
              "  padding: 0;\n",
              "}\n",
              "\n",
              "#sk-container-id-1 input.sk-hidden--visually {\n",
              "  border: 0;\n",
              "  clip: rect(1px 1px 1px 1px);\n",
              "  clip: rect(1px, 1px, 1px, 1px);\n",
              "  height: 1px;\n",
              "  margin: -1px;\n",
              "  overflow: hidden;\n",
              "  padding: 0;\n",
              "  position: absolute;\n",
              "  width: 1px;\n",
              "}\n",
              "\n",
              "#sk-container-id-1 div.sk-dashed-wrapped {\n",
              "  border: 1px dashed var(--sklearn-color-line);\n",
              "  margin: 0 0.4em 0.5em 0.4em;\n",
              "  box-sizing: border-box;\n",
              "  padding-bottom: 0.4em;\n",
              "  background-color: var(--sklearn-color-background);\n",
              "}\n",
              "\n",
              "#sk-container-id-1 div.sk-container {\n",
              "  /* jupyter's `normalize.less` sets `[hidden] { display: none; }`\n",
              "     but bootstrap.min.css set `[hidden] { display: none !important; }`\n",
              "     so we also need the `!important` here to be able to override the\n",
              "     default hidden behavior on the sphinx rendered scikit-learn.org.\n",
              "     See: https://github.com/scikit-learn/scikit-learn/issues/21755 */\n",
              "  display: inline-block !important;\n",
              "  position: relative;\n",
              "}\n",
              "\n",
              "#sk-container-id-1 div.sk-text-repr-fallback {\n",
              "  display: none;\n",
              "}\n",
              "\n",
              "div.sk-parallel-item,\n",
              "div.sk-serial,\n",
              "div.sk-item {\n",
              "  /* draw centered vertical line to link estimators */\n",
              "  background-image: linear-gradient(var(--sklearn-color-text-on-default-background), var(--sklearn-color-text-on-default-background));\n",
              "  background-size: 2px 100%;\n",
              "  background-repeat: no-repeat;\n",
              "  background-position: center center;\n",
              "}\n",
              "\n",
              "/* Parallel-specific style estimator block */\n",
              "\n",
              "#sk-container-id-1 div.sk-parallel-item::after {\n",
              "  content: \"\";\n",
              "  width: 100%;\n",
              "  border-bottom: 2px solid var(--sklearn-color-text-on-default-background);\n",
              "  flex-grow: 1;\n",
              "}\n",
              "\n",
              "#sk-container-id-1 div.sk-parallel {\n",
              "  display: flex;\n",
              "  align-items: stretch;\n",
              "  justify-content: center;\n",
              "  background-color: var(--sklearn-color-background);\n",
              "  position: relative;\n",
              "}\n",
              "\n",
              "#sk-container-id-1 div.sk-parallel-item {\n",
              "  display: flex;\n",
              "  flex-direction: column;\n",
              "}\n",
              "\n",
              "#sk-container-id-1 div.sk-parallel-item:first-child::after {\n",
              "  align-self: flex-end;\n",
              "  width: 50%;\n",
              "}\n",
              "\n",
              "#sk-container-id-1 div.sk-parallel-item:last-child::after {\n",
              "  align-self: flex-start;\n",
              "  width: 50%;\n",
              "}\n",
              "\n",
              "#sk-container-id-1 div.sk-parallel-item:only-child::after {\n",
              "  width: 0;\n",
              "}\n",
              "\n",
              "/* Serial-specific style estimator block */\n",
              "\n",
              "#sk-container-id-1 div.sk-serial {\n",
              "  display: flex;\n",
              "  flex-direction: column;\n",
              "  align-items: center;\n",
              "  background-color: var(--sklearn-color-background);\n",
              "  padding-right: 1em;\n",
              "  padding-left: 1em;\n",
              "}\n",
              "\n",
              "\n",
              "/* Toggleable style: style used for estimator/Pipeline/ColumnTransformer box that is\n",
              "clickable and can be expanded/collapsed.\n",
              "- Pipeline and ColumnTransformer use this feature and define the default style\n",
              "- Estimators will overwrite some part of the style using the `sk-estimator` class\n",
              "*/\n",
              "\n",
              "/* Pipeline and ColumnTransformer style (default) */\n",
              "\n",
              "#sk-container-id-1 div.sk-toggleable {\n",
              "  /* Default theme specific background. It is overwritten whether we have a\n",
              "  specific estimator or a Pipeline/ColumnTransformer */\n",
              "  background-color: var(--sklearn-color-background);\n",
              "}\n",
              "\n",
              "/* Toggleable label */\n",
              "#sk-container-id-1 label.sk-toggleable__label {\n",
              "  cursor: pointer;\n",
              "  display: flex;\n",
              "  width: 100%;\n",
              "  margin-bottom: 0;\n",
              "  padding: 0.5em;\n",
              "  box-sizing: border-box;\n",
              "  text-align: center;\n",
              "  align-items: start;\n",
              "  justify-content: space-between;\n",
              "  gap: 0.5em;\n",
              "}\n",
              "\n",
              "#sk-container-id-1 label.sk-toggleable__label .caption {\n",
              "  font-size: 0.6rem;\n",
              "  font-weight: lighter;\n",
              "  color: var(--sklearn-color-text-muted);\n",
              "}\n",
              "\n",
              "#sk-container-id-1 label.sk-toggleable__label-arrow:before {\n",
              "  /* Arrow on the left of the label */\n",
              "  content: \"▸\";\n",
              "  float: left;\n",
              "  margin-right: 0.25em;\n",
              "  color: var(--sklearn-color-icon);\n",
              "}\n",
              "\n",
              "#sk-container-id-1 label.sk-toggleable__label-arrow:hover:before {\n",
              "  color: var(--sklearn-color-text);\n",
              "}\n",
              "\n",
              "/* Toggleable content - dropdown */\n",
              "\n",
              "#sk-container-id-1 div.sk-toggleable__content {\n",
              "  max-height: 0;\n",
              "  max-width: 0;\n",
              "  overflow: hidden;\n",
              "  text-align: left;\n",
              "  /* unfitted */\n",
              "  background-color: var(--sklearn-color-unfitted-level-0);\n",
              "}\n",
              "\n",
              "#sk-container-id-1 div.sk-toggleable__content.fitted {\n",
              "  /* fitted */\n",
              "  background-color: var(--sklearn-color-fitted-level-0);\n",
              "}\n",
              "\n",
              "#sk-container-id-1 div.sk-toggleable__content pre {\n",
              "  margin: 0.2em;\n",
              "  border-radius: 0.25em;\n",
              "  color: var(--sklearn-color-text);\n",
              "  /* unfitted */\n",
              "  background-color: var(--sklearn-color-unfitted-level-0);\n",
              "}\n",
              "\n",
              "#sk-container-id-1 div.sk-toggleable__content.fitted pre {\n",
              "  /* unfitted */\n",
              "  background-color: var(--sklearn-color-fitted-level-0);\n",
              "}\n",
              "\n",
              "#sk-container-id-1 input.sk-toggleable__control:checked~div.sk-toggleable__content {\n",
              "  /* Expand drop-down */\n",
              "  max-height: 200px;\n",
              "  max-width: 100%;\n",
              "  overflow: auto;\n",
              "}\n",
              "\n",
              "#sk-container-id-1 input.sk-toggleable__control:checked~label.sk-toggleable__label-arrow:before {\n",
              "  content: \"▾\";\n",
              "}\n",
              "\n",
              "/* Pipeline/ColumnTransformer-specific style */\n",
              "\n",
              "#sk-container-id-1 div.sk-label input.sk-toggleable__control:checked~label.sk-toggleable__label {\n",
              "  color: var(--sklearn-color-text);\n",
              "  background-color: var(--sklearn-color-unfitted-level-2);\n",
              "}\n",
              "\n",
              "#sk-container-id-1 div.sk-label.fitted input.sk-toggleable__control:checked~label.sk-toggleable__label {\n",
              "  background-color: var(--sklearn-color-fitted-level-2);\n",
              "}\n",
              "\n",
              "/* Estimator-specific style */\n",
              "\n",
              "/* Colorize estimator box */\n",
              "#sk-container-id-1 div.sk-estimator input.sk-toggleable__control:checked~label.sk-toggleable__label {\n",
              "  /* unfitted */\n",
              "  background-color: var(--sklearn-color-unfitted-level-2);\n",
              "}\n",
              "\n",
              "#sk-container-id-1 div.sk-estimator.fitted input.sk-toggleable__control:checked~label.sk-toggleable__label {\n",
              "  /* fitted */\n",
              "  background-color: var(--sklearn-color-fitted-level-2);\n",
              "}\n",
              "\n",
              "#sk-container-id-1 div.sk-label label.sk-toggleable__label,\n",
              "#sk-container-id-1 div.sk-label label {\n",
              "  /* The background is the default theme color */\n",
              "  color: var(--sklearn-color-text-on-default-background);\n",
              "}\n",
              "\n",
              "/* On hover, darken the color of the background */\n",
              "#sk-container-id-1 div.sk-label:hover label.sk-toggleable__label {\n",
              "  color: var(--sklearn-color-text);\n",
              "  background-color: var(--sklearn-color-unfitted-level-2);\n",
              "}\n",
              "\n",
              "/* Label box, darken color on hover, fitted */\n",
              "#sk-container-id-1 div.sk-label.fitted:hover label.sk-toggleable__label.fitted {\n",
              "  color: var(--sklearn-color-text);\n",
              "  background-color: var(--sklearn-color-fitted-level-2);\n",
              "}\n",
              "\n",
              "/* Estimator label */\n",
              "\n",
              "#sk-container-id-1 div.sk-label label {\n",
              "  font-family: monospace;\n",
              "  font-weight: bold;\n",
              "  display: inline-block;\n",
              "  line-height: 1.2em;\n",
              "}\n",
              "\n",
              "#sk-container-id-1 div.sk-label-container {\n",
              "  text-align: center;\n",
              "}\n",
              "\n",
              "/* Estimator-specific */\n",
              "#sk-container-id-1 div.sk-estimator {\n",
              "  font-family: monospace;\n",
              "  border: 1px dotted var(--sklearn-color-border-box);\n",
              "  border-radius: 0.25em;\n",
              "  box-sizing: border-box;\n",
              "  margin-bottom: 0.5em;\n",
              "  /* unfitted */\n",
              "  background-color: var(--sklearn-color-unfitted-level-0);\n",
              "}\n",
              "\n",
              "#sk-container-id-1 div.sk-estimator.fitted {\n",
              "  /* fitted */\n",
              "  background-color: var(--sklearn-color-fitted-level-0);\n",
              "}\n",
              "\n",
              "/* on hover */\n",
              "#sk-container-id-1 div.sk-estimator:hover {\n",
              "  /* unfitted */\n",
              "  background-color: var(--sklearn-color-unfitted-level-2);\n",
              "}\n",
              "\n",
              "#sk-container-id-1 div.sk-estimator.fitted:hover {\n",
              "  /* fitted */\n",
              "  background-color: var(--sklearn-color-fitted-level-2);\n",
              "}\n",
              "\n",
              "/* Specification for estimator info (e.g. \"i\" and \"?\") */\n",
              "\n",
              "/* Common style for \"i\" and \"?\" */\n",
              "\n",
              ".sk-estimator-doc-link,\n",
              "a:link.sk-estimator-doc-link,\n",
              "a:visited.sk-estimator-doc-link {\n",
              "  float: right;\n",
              "  font-size: smaller;\n",
              "  line-height: 1em;\n",
              "  font-family: monospace;\n",
              "  background-color: var(--sklearn-color-background);\n",
              "  border-radius: 1em;\n",
              "  height: 1em;\n",
              "  width: 1em;\n",
              "  text-decoration: none !important;\n",
              "  margin-left: 0.5em;\n",
              "  text-align: center;\n",
              "  /* unfitted */\n",
              "  border: var(--sklearn-color-unfitted-level-1) 1pt solid;\n",
              "  color: var(--sklearn-color-unfitted-level-1);\n",
              "}\n",
              "\n",
              ".sk-estimator-doc-link.fitted,\n",
              "a:link.sk-estimator-doc-link.fitted,\n",
              "a:visited.sk-estimator-doc-link.fitted {\n",
              "  /* fitted */\n",
              "  border: var(--sklearn-color-fitted-level-1) 1pt solid;\n",
              "  color: var(--sklearn-color-fitted-level-1);\n",
              "}\n",
              "\n",
              "/* On hover */\n",
              "div.sk-estimator:hover .sk-estimator-doc-link:hover,\n",
              ".sk-estimator-doc-link:hover,\n",
              "div.sk-label-container:hover .sk-estimator-doc-link:hover,\n",
              ".sk-estimator-doc-link:hover {\n",
              "  /* unfitted */\n",
              "  background-color: var(--sklearn-color-unfitted-level-3);\n",
              "  color: var(--sklearn-color-background);\n",
              "  text-decoration: none;\n",
              "}\n",
              "\n",
              "div.sk-estimator.fitted:hover .sk-estimator-doc-link.fitted:hover,\n",
              ".sk-estimator-doc-link.fitted:hover,\n",
              "div.sk-label-container:hover .sk-estimator-doc-link.fitted:hover,\n",
              ".sk-estimator-doc-link.fitted:hover {\n",
              "  /* fitted */\n",
              "  background-color: var(--sklearn-color-fitted-level-3);\n",
              "  color: var(--sklearn-color-background);\n",
              "  text-decoration: none;\n",
              "}\n",
              "\n",
              "/* Span, style for the box shown on hovering the info icon */\n",
              ".sk-estimator-doc-link span {\n",
              "  display: none;\n",
              "  z-index: 9999;\n",
              "  position: relative;\n",
              "  font-weight: normal;\n",
              "  right: .2ex;\n",
              "  padding: .5ex;\n",
              "  margin: .5ex;\n",
              "  width: min-content;\n",
              "  min-width: 20ex;\n",
              "  max-width: 50ex;\n",
              "  color: var(--sklearn-color-text);\n",
              "  box-shadow: 2pt 2pt 4pt #999;\n",
              "  /* unfitted */\n",
              "  background: var(--sklearn-color-unfitted-level-0);\n",
              "  border: .5pt solid var(--sklearn-color-unfitted-level-3);\n",
              "}\n",
              "\n",
              ".sk-estimator-doc-link.fitted span {\n",
              "  /* fitted */\n",
              "  background: var(--sklearn-color-fitted-level-0);\n",
              "  border: var(--sklearn-color-fitted-level-3);\n",
              "}\n",
              "\n",
              ".sk-estimator-doc-link:hover span {\n",
              "  display: block;\n",
              "}\n",
              "\n",
              "/* \"?\"-specific style due to the `<a>` HTML tag */\n",
              "\n",
              "#sk-container-id-1 a.estimator_doc_link {\n",
              "  float: right;\n",
              "  font-size: 1rem;\n",
              "  line-height: 1em;\n",
              "  font-family: monospace;\n",
              "  background-color: var(--sklearn-color-background);\n",
              "  border-radius: 1rem;\n",
              "  height: 1rem;\n",
              "  width: 1rem;\n",
              "  text-decoration: none;\n",
              "  /* unfitted */\n",
              "  color: var(--sklearn-color-unfitted-level-1);\n",
              "  border: var(--sklearn-color-unfitted-level-1) 1pt solid;\n",
              "}\n",
              "\n",
              "#sk-container-id-1 a.estimator_doc_link.fitted {\n",
              "  /* fitted */\n",
              "  border: var(--sklearn-color-fitted-level-1) 1pt solid;\n",
              "  color: var(--sklearn-color-fitted-level-1);\n",
              "}\n",
              "\n",
              "/* On hover */\n",
              "#sk-container-id-1 a.estimator_doc_link:hover {\n",
              "  /* unfitted */\n",
              "  background-color: var(--sklearn-color-unfitted-level-3);\n",
              "  color: var(--sklearn-color-background);\n",
              "  text-decoration: none;\n",
              "}\n",
              "\n",
              "#sk-container-id-1 a.estimator_doc_link.fitted:hover {\n",
              "  /* fitted */\n",
              "  background-color: var(--sklearn-color-fitted-level-3);\n",
              "}\n",
              "</style><div id=\"sk-container-id-1\" class=\"sk-top-container\"><div class=\"sk-text-repr-fallback\"><pre>RandomForestClassifier(random_state=42)</pre><b>In a Jupyter environment, please rerun this cell to show the HTML representation or trust the notebook. <br />On GitHub, the HTML representation is unable to render, please try loading this page with nbviewer.org.</b></div><div class=\"sk-container\" hidden><div class=\"sk-item\"><div class=\"sk-estimator fitted sk-toggleable\"><input class=\"sk-toggleable__control sk-hidden--visually\" id=\"sk-estimator-id-1\" type=\"checkbox\" checked><label for=\"sk-estimator-id-1\" class=\"sk-toggleable__label fitted sk-toggleable__label-arrow\"><div><div>RandomForestClassifier</div></div><div><a class=\"sk-estimator-doc-link fitted\" rel=\"noreferrer\" target=\"_blank\" href=\"https://scikit-learn.org/1.6/modules/generated/sklearn.ensemble.RandomForestClassifier.html\">?<span>Documentation for RandomForestClassifier</span></a><span class=\"sk-estimator-doc-link fitted\">i<span>Fitted</span></span></div></label><div class=\"sk-toggleable__content fitted\"><pre>RandomForestClassifier(random_state=42)</pre></div> </div></div></div></div>"
            ]
          },
          "metadata": {},
          "execution_count": 5
        }
      ]
    },
    {
      "cell_type": "markdown",
      "source": [
        "Adım 7: Model Değerlendirme\n"
      ],
      "metadata": {
        "id": "Tj3eTLDobuzP"
      }
    },
    {
      "cell_type": "code",
      "source": [
        "y_pred = model.predict(X_test)\n",
        "print(classification_report(y_test, y_pred))\n",
        "\n",
        "# Karışıklık Matrisi\n",
        "cm = confusion_matrix(y_test, y_pred)\n",
        "sns.heatmap(cm, annot=True, fmt='d')\n",
        "plt.xlabel('Tahmin')\n",
        "plt.ylabel('Gerçek')\n",
        "plt.show()"
      ],
      "metadata": {
        "colab": {
          "base_uri": "https://localhost:8080/",
          "height": 753
        },
        "id": "fSzZ7hm3bvXd",
        "outputId": "c926887e-789b-4353-f5b7-acf26d3a4b02"
      },
      "execution_count": null,
      "outputs": [
        {
          "output_type": "stream",
          "name": "stderr",
          "text": [
            "/usr/local/lib/python3.11/dist-packages/sklearn/metrics/_classification.py:1565: UndefinedMetricWarning: Precision is ill-defined and being set to 0.0 in labels with no predicted samples. Use `zero_division` parameter to control this behavior.\n",
            "  _warn_prf(average, modifier, f\"{metric.capitalize()} is\", len(result))\n",
            "/usr/local/lib/python3.11/dist-packages/sklearn/metrics/_classification.py:1565: UndefinedMetricWarning: Precision is ill-defined and being set to 0.0 in labels with no predicted samples. Use `zero_division` parameter to control this behavior.\n",
            "  _warn_prf(average, modifier, f\"{metric.capitalize()} is\", len(result))\n",
            "/usr/local/lib/python3.11/dist-packages/sklearn/metrics/_classification.py:1565: UndefinedMetricWarning: Precision is ill-defined and being set to 0.0 in labels with no predicted samples. Use `zero_division` parameter to control this behavior.\n",
            "  _warn_prf(average, modifier, f\"{metric.capitalize()} is\", len(result))\n"
          ]
        },
        {
          "output_type": "stream",
          "name": "stdout",
          "text": [
            "              precision    recall  f1-score   support\n",
            "\n",
            "           0       0.00      0.00      0.00         1\n",
            "           1       0.33      1.00      0.50         1\n",
            "           2       0.00      0.00      0.00         1\n",
            "\n",
            "    accuracy                           0.33         3\n",
            "   macro avg       0.11      0.33      0.17         3\n",
            "weighted avg       0.11      0.33      0.17         3\n",
            "\n"
          ]
        },
        {
          "output_type": "display_data",
          "data": {
            "text/plain": [
              "<Figure size 640x480 with 2 Axes>"
            ],
            "image/png": "[encoded data removed]"
          },
          "metadata": {}
        }
      ]
    },
    {
      "cell_type": "markdown",
      "source": [
        "Adım 8: Yeni Veri ile Tahmin Yapma\n"
      ],
      "metadata": {
        "id": "dym03kkFb2Bx"
      }
    },
    {
      "cell_type": "code",
      "source": [
        "yeni_veri = [[125, 38, 55]]  # Örnek veri\n",
        "tahmin = model.predict(yeni_veri)\n",
        "print(f\"Tahmin Edilen Hata Tipi: {le.inverse_transform(tahmin)[0]}\")"
      ],
      "metadata": {
        "colab": {
          "base_uri": "https://localhost:8080/"
        },
        "id": "cmWmeb7Ab2np",
        "outputId": "e5ff3f43-1970-4991-c3a2-d06de4082063"
      },
      "execution_count": null,
      "outputs": [
        {
          "output_type": "stream",
          "name": "stdout",
          "text": [
            "Tahmin Edilen Hata Tipi: B\n"
          ]
        },
        {
          "output_type": "stream",
          "name": "stderr",
          "text": [
            "/usr/local/lib/python3.11/dist-packages/sklearn/utils/validation.py:2739: UserWarning: X does not have valid feature names, but RandomForestClassifier was fitted with feature names\n",
            "  warnings.warn(\n"
          ]
        }
      ]
    },
    {
      "cell_type": "markdown",
      "source": [
        "CNN (Evrişimli Sinir Ağları) ve LSTM (Uzun Kısa Vadeli Bellek) modellerini de ekleyerek daha karmaşık bir hata sınıflandırma projesi yapalım. İşte adım adım genişletilmiş rehber:"
      ],
      "metadata": {
        "id": "A6QSA1GqcEVu"
      }
    },
    {
      "cell_type": "code",
      "source": [
        "import numpy as np\n",
        "import pandas as pd\n",
        "import matplotlib.pyplot as plt\n",
        "import seaborn as sns\n",
        "from sklearn.model_selection import train_test_split\n",
        "from sklearn.preprocessing import LabelEncoder, StandardScaler\n",
        "from sklearn.metrics import classification_report, confusion_matrix\n",
        "\n",
        "# Derin Öğrenme Kütüphaneleri\n",
        "import tensorflow as tf\n",
        "from tensorflow.keras.models import Sequential\n",
        "from tensorflow.keras.layers import Dense, Conv1D, MaxPooling1D, Flatten, LSTM, Dropout\n",
        "from tensorflow.keras.utils import to_categorical"
      ],
      "metadata": {
        "id": "MTXusNYAcFCf"
      },
      "execution_count": null,
      "outputs": []
    },
    {
      "cell_type": "markdown",
      "source": [
        "2. Veri Seti Yükleme ve Ön İşleme\n",
        "Örnek Veri Seti (Fabrika Sensör Verileri):"
      ],
      "metadata": {
        "id": "W1NW0cYWcID2"
      }
    },
    {
      "cell_type": "code",
      "source": [
        "# Örnek veri oluşturma (siz gerçek veri kullanabilirsiniz)\n",
        "data = {\n",
        "    'Sıcaklık': np.random.normal(100, 20, 1000),\n",
        "    'Basınç': np.random.normal(50, 10, 1000),\n",
        "    'Titreşim': np.random.normal(5, 2, 1000),\n",
        "    'Hata_Tipi': np.random.choice(['A', 'B', 'C', 'D'], size=1000, p=[0.4, 0.3, 0.2, 0.1])\n",
        "}\n",
        "df = pd.DataFrame(data)\n",
        "\n",
        "# Hata tiplerini sayısallaştırma\n",
        "le = LabelEncoder()\n",
        "df['Hata_Tipi'] = le.fit_transform(df['Hata_Tipi'])"
      ],
      "metadata": {
        "id": "aZ-qYVMycIgo"
      },
      "execution_count": null,
      "outputs": []
    },
    {
      "cell_type": "markdown",
      "source": [
        "Veriyi CNN/LSTM için Uygun Formata Getirme:\n"
      ],
      "metadata": {
        "id": "3JymJf9UcJ9L"
      }
    },
    {
      "cell_type": "code",
      "source": [
        "# Özellikler ve Etiketler\n",
        "X = df.drop('Hata_Tipi', axis=1).values\n",
        "y = df['Hata_Tipi'].values\n",
        "\n",
        "# Veriyi normalize etme\n",
        "scaler = StandardScaler()\n",
        "X = scaler.fit_transform(X)\n",
        "\n",
        "# Train-Test Ayırma\n",
        "X_train, X_test, y_train, y_test = train_test_split(X, y, test_size=0.3, random_state=42)\n",
        "\n",
        "# CNN/LSTM için 3D boyutuna çevirme (Örnekler, Zaman Adımları, Özellikler)\n",
        "X_train_cnn = X_train.reshape(X_train.shape[0], X_train.shape[1], 1)\n",
        "X_test_cnn = X_test.reshape(X_test.shape[0], X_test.shape[1], 1)\n",
        "\n",
        "# One-Hot Encoding\n",
        "y_train_cat = to_categorical(y_train)\n",
        "y_test_cat = to_categorical(y_test)"
      ],
      "metadata": {
        "id": "3GTn0CQqcLfX"
      },
      "execution_count": null,
      "outputs": []
    },
    {
      "cell_type": "markdown",
      "source": [
        "3. CNN Modeli Oluşturma\n"
      ],
      "metadata": {
        "id": "g4VOFS-ecRqH"
      }
    },
    {
      "cell_type": "code",
      "source": [
        "model_cnn = Sequential([\n",
        "    Conv1D(filters=64, kernel_size=2, activation='relu', input_shape=(X_train_cnn.shape[1], 1)),\n",
        "    MaxPooling1D(pool_size=2),\n",
        "    Dropout(0.5),\n",
        "    Flatten(),\n",
        "    Dense(64, activation='relu'),\n",
        "    Dense(len(le.classes_), activation='softmax')\n",
        "])\n",
        "\n",
        "model_cnn.compile(optimizer='adam', loss='categorical_crossentropy', metrics=['accuracy'])\n",
        "history_cnn = model_cnn.fit(X_train_cnn, y_train_cat, epochs=50, validation_data=(X_test_cnn, y_test_cat), verbose=1)"
      ],
      "metadata": {
        "id": "KXfq9gx1cSbC"
      },
      "execution_count": null,
      "outputs": []
    },
    {
      "cell_type": "markdown",
      "source": [
        "CNN Sonuçları:\n"
      ],
      "metadata": {
        "id": "pdrusAUucVGF"
      }
    },
    {
      "cell_type": "code",
      "source": [
        "plt.plot(history_cnn.history['accuracy'], label='Train Accuracy')\n",
        "plt.plot(history_cnn.history['val_accuracy'], label='Test Accuracy')\n",
        "plt.title('CNN Model Performansı')\n",
        "plt.legend()\n",
        "plt.show()"
      ],
      "metadata": {
        "colab": {
          "base_uri": "https://localhost:8080/",
          "height": 452
        },
        "id": "19L0yXjCcVlg",
        "outputId": "c56c6aa6-dffa-4f5a-9295-be0deaf5ccca"
      },
      "execution_count": null,
      "outputs": [
        {
          "output_type": "display_data",
          "data": {
            "text/plain": [
              "<Figure size 640x480 with 1 Axes>"
            ],
            "image/png": "[encoded data removed]"
          },
          "metadata": {}
        }
      ]
    },
    {
      "cell_type": "markdown",
      "source": [
        "4. LSTM Modeli Oluşturma\n"
      ],
      "metadata": {
        "id": "uRQzaH_UcdBG"
      }
    },
    {
      "cell_type": "code",
      "source": [
        "model_lstm = Sequential([\n",
        "    LSTM(64, input_shape=(X_train_cnn.shape[1], 1), return_sequences=True),\n",
        "    Dropout(0.2),\n",
        "    LSTM(32),\n",
        "    Dense(len(le.classes_), activation='softmax')\n",
        "])\n",
        "\n",
        "model_lstm.compile(optimizer='adam', loss='categorical_crossentropy', metrics=['accuracy'])\n",
        "history_lstm = model_lstm.fit(X_train_cnn, y_train_cat, epochs=50, validation_data=(X_test_cnn, y_test_cat), verbose=1)"
      ],
      "metadata": {
        "id": "mn5p9wkPcdVG"
      },
      "execution_count": null,
      "outputs": []
    },
    {
      "cell_type": "markdown",
      "source": [
        "LSTM Sonuçları:\n"
      ],
      "metadata": {
        "id": "Y1qQ3XQocer1"
      }
    },
    {
      "cell_type": "code",
      "source": [
        "plt.plot(history_lstm.history['accuracy'], label='Train Accuracy')\n",
        "plt.plot(history_lstm.history['val_accuracy'], label='Test Accuracy')\n",
        "plt.title('LSTM Model Performansı')\n",
        "plt.legend()\n",
        "plt.show()"
      ],
      "metadata": {
        "colab": {
          "base_uri": "https://localhost:8080/",
          "height": 452
        },
        "id": "MhpGEiiBcgQF",
        "outputId": "793a0783-d8df-4f6a-c652-c547ace0aa2d"
      },
      "execution_count": null,
      "outputs": [
        {
          "output_type": "display_data",
          "data": {
            "text/plain": [
              "<Figure size 640x480 with 1 Axes>"
            ],
            "image/png": "[encoded data removed]"
          },
          "metadata": {}
        }
      ]
    },
    {
      "cell_type": "markdown",
      "source": [
        "5. Model Karşılaştırması\n"
      ],
      "metadata": {
        "id": "jkDUKPncckLU"
      }
    },
    {
      "cell_type": "code",
      "source": [
        "# Test verisi üzerinde tahmin\n",
        "y_pred_cnn = model_cnn.predict(X_test_cnn)\n",
        "y_pred_lstm = model_lstm.predict(X_test_cnn)\n",
        "\n",
        "# Sınıf etiketlerine çevirme\n",
        "y_pred_cnn = np.argmax(y_pred_cnn, axis=1)\n",
        "y_pred_lstm = np.argmax(y_pred_lstm, axis=1)\n",
        "\n",
        "# Classification Report\n",
        "print(\"CNN Sonuçları:\\n\", classification_report(y_test, y_pred_cnn))\n",
        "print(\"LSTM Sonuçları:\\n\", classification_report(y_test, y_pred_lstm))"
      ],
      "metadata": {
        "colab": {
          "base_uri": "https://localhost:8080/"
        },
        "id": "suc1ashPcknJ",
        "outputId": "b3ba9349-9834-4447-d4b8-9d4f960703ce"
      },
      "execution_count": null,
      "outputs": [
        {
          "output_type": "stream",
          "name": "stdout",
          "text": [
            "\u001b[1m10/10\u001b[0m \u001b[32m━━━━━━━━━━━━━━━━━━━━\u001b[0m\u001b[37m\u001b[0m \u001b[1m0s\u001b[0m 12ms/step\n",
            "\u001b[1m10/10\u001b[0m \u001b[32m━━━━━━━━━━━━━━━━━━━━\u001b[0m\u001b[37m\u001b[0m \u001b[1m1s\u001b[0m 53ms/step\n",
            "CNN Sonuçları:\n",
            "               precision    recall  f1-score   support\n",
            "\n",
            "           0       0.40      1.00      0.57       119\n",
            "           1       0.33      0.01      0.02        97\n",
            "           2       0.00      0.00      0.00        58\n",
            "           3       0.00      0.00      0.00        26\n",
            "\n",
            "    accuracy                           0.40       300\n",
            "   macro avg       0.18      0.25      0.15       300\n",
            "weighted avg       0.27      0.40      0.23       300\n",
            "\n",
            "LSTM Sonuçları:\n",
            "               precision    recall  f1-score   support\n",
            "\n",
            "           0       0.40      1.00      0.57       119\n",
            "           1       0.00      0.00      0.00        97\n",
            "           2       0.00      0.00      0.00        58\n",
            "           3       0.00      0.00      0.00        26\n",
            "\n",
            "    accuracy                           0.40       300\n",
            "   macro avg       0.10      0.25      0.14       300\n",
            "weighted avg       0.16      0.40      0.23       300\n",
            "\n"
          ]
        },
        {
          "output_type": "stream",
          "name": "stderr",
          "text": [
            "/usr/local/lib/python3.11/dist-packages/sklearn/metrics/_classification.py:1565: UndefinedMetricWarning: Precision is ill-defined and being set to 0.0 in labels with no predicted samples. Use `zero_division` parameter to control this behavior.\n",
            "  _warn_prf(average, modifier, f\"{metric.capitalize()} is\", len(result))\n",
            "/usr/local/lib/python3.11/dist-packages/sklearn/metrics/_classification.py:1565: UndefinedMetricWarning: Precision is ill-defined and being set to 0.0 in labels with no predicted samples. Use `zero_division` parameter to control this behavior.\n",
            "  _warn_prf(average, modifier, f\"{metric.capitalize()} is\", len(result))\n",
            "/usr/local/lib/python3.11/dist-packages/sklearn/metrics/_classification.py:1565: UndefinedMetricWarning: Precision is ill-defined and being set to 0.0 in labels with no predicted samples. Use `zero_division` parameter to control this behavior.\n",
            "  _warn_prf(average, modifier, f\"{metric.capitalize()} is\", len(result))\n",
            "/usr/local/lib/python3.11/dist-packages/sklearn/metrics/_classification.py:1565: UndefinedMetricWarning: Precision is ill-defined and being set to 0.0 in labels with no predicted samples. Use `zero_division` parameter to control this behavior.\n",
            "  _warn_prf(average, modifier, f\"{metric.capitalize()} is\", len(result))\n",
            "/usr/local/lib/python3.11/dist-packages/sklearn/metrics/_classification.py:1565: UndefinedMetricWarning: Precision is ill-defined and being set to 0.0 in labels with no predicted samples. Use `zero_division` parameter to control this behavior.\n",
            "  _warn_prf(average, modifier, f\"{metric.capitalize()} is\", len(result))\n",
            "/usr/local/lib/python3.11/dist-packages/sklearn/metrics/_classification.py:1565: UndefinedMetricWarning: Precision is ill-defined and being set to 0.0 in labels with no predicted samples. Use `zero_division` parameter to control this behavior.\n",
            "  _warn_prf(average, modifier, f\"{metric.capitalize()} is\", len(result))\n"
          ]
        }
      ]
    },
    {
      "cell_type": "markdown",
      "source": [
        "6. Yeni Veri ile Tahmin\n"
      ],
      "metadata": {
        "id": "33ISiHjHcmUD"
      }
    },
    {
      "cell_type": "code",
      "source": [
        "yeni_veri = np.array([[105, 55, 6]])  # Örnek veri\n",
        "yeni_veri = scaler.transform(yeni_veri)\n",
        "yeni_veri = yeni_veri.reshape(1, 3, 1)  # CNN/LSTM için reshape\n",
        "\n",
        "# CNN ile tahmin\n",
        "tahmin_cnn = model_cnn.predict(yeni_veri)\n",
        "print(f\"CNN Tahmini: {le.inverse_transform([np.argmax(tahmin_cnn)])[0]}\")\n",
        "\n",
        "# LSTM ile tahmin\n",
        "tahmin_lstm = model_lstm.predict(yeni_veri)\n",
        "print(f\"LSTM Tahmini: {le.inverse_transform([np.argmax(tahmin_lstm)])[0]}\")"
      ],
      "metadata": {
        "colab": {
          "base_uri": "https://localhost:8080/"
        },
        "id": "j8piut1vcnjz",
        "outputId": "9cffdaea-3440-4474-f2d7-0b429577a7d2"
      },
      "execution_count": null,
      "outputs": [
        {
          "output_type": "stream",
          "name": "stdout",
          "text": [
            "\u001b[1m1/1\u001b[0m \u001b[32m━━━━━━━━━━━━━━━━━━━━\u001b[0m\u001b[37m\u001b[0m \u001b[1m0s\u001b[0m 35ms/step\n",
            "CNN Tahmini: A\n",
            "\u001b[1m1/1\u001b[0m \u001b[32m━━━━━━━━━━━━━━━━━━━━\u001b[0m\u001b[37m\u001b[0m \u001b[1m0s\u001b[0m 36ms/step\n",
            "LSTM Tahmini: A\n"
          ]
        }
      ]
    },
    {
      "cell_type": "markdown",
      "source": [
        "1. Veri Artırma (Data Augmentation)\n",
        "Sensör verilerine gürültü ekleyerek yapay veri üretebiliriz. Bu, modelin genelleme yeteneğini artırır."
      ],
      "metadata": {
        "id": "oJ2bYHS9c6Ov"
      }
    },
    {
      "cell_type": "code",
      "source": [
        "# Orijinal veriye gürültü ekleyerek yeni örnekler oluşturma\n",
        "def augment_data(X, y, noise_factor=0.05, num_augmented=5):\n",
        "    X_augmented = []\n",
        "    y_augmented = []\n",
        "    for i in range(len(X)):\n",
        "        for _ in range(num_augmented):\n",
        "            noise = np.random.normal(0, noise_factor, X[i].shape)\n",
        "            X_augmented.append(X[i] + noise)\n",
        "            y_augmented.append(y[i])\n",
        "    return np.vstack(X_augmented), np.array(y_augmented)\n",
        "\n",
        "# Veriyi artırma (X_train ve y_train orijinal eğitim verisi)\n",
        "X_train_augmented, y_train_augmented = augment_data(X_train, y_train)\n",
        "\n",
        "# One-Hot Encoding yenileme\n",
        "y_train_augmented_cat = to_categorical(y_train_augmented)"
      ],
      "metadata": {
        "id": "TYsH8Sclc62t"
      },
      "execution_count": null,
      "outputs": []
    },
    {
      "cell_type": "markdown",
      "source": [
        "2. Hiperparametre Optimizasyonu (Keras Tuner)\n",
        "Keras Tuner ile en iyi hiperparametreleri bulalım.\n",
        "\n",
        "Kurulum:"
      ],
      "metadata": {
        "id": "I2Ktfasgc8xP"
      }
    },
    {
      "cell_type": "code",
      "source": [
        "!pip install keras-tuner"
      ],
      "metadata": {
        "id": "NJKcQTwAc_Eu"
      },
      "execution_count": null,
      "outputs": []
    },
    {
      "cell_type": "markdown",
      "source": [
        "CNN için Hiperparametre Arama:\n"
      ],
      "metadata": {
        "id": "w1LX1ZSbdCO7"
      }
    },
    {
      "cell_type": "code",
      "source": [
        "from kerastuner import RandomSearch\n",
        "\n",
        "def build_model(hp):\n",
        "    model = Sequential()\n",
        "    model.add(Conv1D(\n",
        "        filters=hp.Int('filters', 32, 128, step=32),\n",
        "        kernel_size=hp.Choice('kernel_size', [2, 3]),\n",
        "        activation='relu',\n",
        "        input_shape=(X_train_cnn.shape[1], 1)\n",
        "    ))\n",
        "    model.add(MaxPooling1D(pool_size=2))\n",
        "    model.add(Dropout(hp.Float('dropout', 0.2, 0.5, step=0.1)))\n",
        "    model.add(Flatten())\n",
        "    model.add(Dense(\n",
        "        units=hp.Int('dense_units', 32, 128, step=32),\n",
        "        activation='relu'\n",
        "    ))\n",
        "    model.add(Dense(len(le.classes_), activation='softmax'))\n",
        "\n",
        "    model.compile(\n",
        "        optimizer=hp.Choice('optimizer', ['adam', 'rmsprop']),\n",
        "        loss='categorical_crossentropy',\n",
        "        metrics=['accuracy']\n",
        "    )\n",
        "    return model\n",
        "\n",
        "tuner = RandomSearch(\n",
        "    build_model,\n",
        "    objective='val_accuracy',\n",
        "    max_trials=10,\n",
        "    executions_per_trial=2,\n",
        "    directory='tuner_dir',\n",
        "    project_name='cnn_tuning'\n",
        ")\n",
        "\n",
        "tuner.search(X_train_cnn, y_train_cat, epochs=20, validation_data=(X_test_cnn, y_test_cat))\n",
        "\n",
        "# En iyi modeli al\n",
        "best_cnn = tuner.get_best_models(num_models=1)[0]"
      ],
      "metadata": {
        "colab": {
          "base_uri": "https://localhost:8080/"
        },
        "id": "V6YcbHKwdA1E",
        "outputId": "dba4cca5-46e1-4656-b861-4bd083b294be"
      },
      "execution_count": null,
      "outputs": [
        {
          "output_type": "stream",
          "name": "stdout",
          "text": [
            "Trial 10 Complete [00h 00m 01s]\n",
            "\n",
            "Best val_accuracy So Far: 0.4000000059604645\n",
            "Total elapsed time: 00h 02m 15s\n"
          ]
        },
        {
          "output_type": "stream",
          "name": "stderr",
          "text": [
            "/usr/local/lib/python3.11/dist-packages/keras/src/saving/saving_lib.py:757: UserWarning: Skipping variable loading for optimizer 'rmsprop', because it has 2 variables whereas the saved optimizer has 8 variables. \n",
            "  saveable.load_own_variables(weights_store.get(inner_path))\n"
          ]
        }
      ]
    },
    {
      "cell_type": "markdown",
      "source": [
        "3. Transformer Katmanı Eklenmesi\n",
        "TensorFlow ile özel bir Multi-Head Attention katmanı ekleyelim.\n",
        "\n",
        "Kurulum"
      ],
      "metadata": {
        "id": "2ilV74WldPwj"
      }
    },
    {
      "cell_type": "code",
      "source": [
        "from tensorflow.keras.layers import MultiHeadAttention, LayerNormalization, Input\n",
        "from tensorflow.keras.models import Model"
      ],
      "metadata": {
        "id": "qRmWZDGAdSXT"
      },
      "execution_count": null,
      "outputs": []
    },
    {
      "cell_type": "markdown",
      "source": [
        "Transformer Encoder Bloğu:\n"
      ],
      "metadata": {
        "id": "DcrOb6YndT66"
      }
    },
    {
      "cell_type": "code",
      "source": [
        "def transformer_encoder(inputs, head_size, num_heads, ff_dim, dropout=0.1):\n",
        "    # Multi-Head Attention\n",
        "    x = MultiHeadAttention(num_heads=num_heads, key_dim=head_size)(inputs, inputs)\n",
        "    x = Dropout(dropout)(x)\n",
        "    x = LayerNormalization(epsilon=1e-6)(x + inputs)\n",
        "\n",
        "    # Feed Forward\n",
        "    x = Dense(ff_dim, activation=\"relu\")(x)\n",
        "    x = Dropout(dropout)(x)\n",
        "    x = Dense(inputs.shape[-1])(x)\n",
        "    x = LayerNormalization(epsilon=1e-6)(x + inputs)\n",
        "    return x\n",
        "\n",
        "# Model Oluşturma\n",
        "input_shape = (X_train_cnn.shape[1], 1)\n",
        "inputs = Input(shape=input_shape)\n",
        "x = transformer_encoder(inputs, head_size=64, num_heads=2, ff_dim=128)\n",
        "x = Flatten()(x)\n",
        "outputs = Dense(len(le.classes_), activation=\"softmax\")(x)\n",
        "\n",
        "model_transformer = Model(inputs=inputs, outputs=outputs)\n",
        "model_transformer.compile(optimizer='adam', loss='categorical_crossentropy', metrics=['accuracy'])\n",
        "model_transformer.summary()\n",
        "\n",
        "# Eğitim\n",
        "history_transformer = model_transformer.fit(\n",
        "    X_train_cnn, y_train_cat,\n",
        "    epochs=50,\n",
        "    validation_data=(X_test_cnn, y_test_cat)\n",
        ")"
      ],
      "metadata": {
        "id": "Q6wG58eZdVix"
      },
      "execution_count": null,
      "outputs": []
    },
    {
      "cell_type": "markdown",
      "source": [
        "4. Tüm Modellerin Karşılaştırılması\n"
      ],
      "metadata": {
        "id": "nnyAMGZUdXtI"
      }
    },
    {
      "cell_type": "code",
      "source": [
        "# Test verisi üzerinde tahmin\n",
        "y_pred_cnn_tuned = best_cnn.predict(X_test_cnn)\n",
        "y_pred_transformer = model_transformer.predict(X_test_cnn)\n",
        "\n",
        "# Sınıf etiketlerine çevirme\n",
        "y_pred_cnn_tuned = np.argmax(y_pred_cnn_tuned, axis=1)\n",
        "y_pred_transformer = np.argmax(y_pred_transformer, axis=1)\n",
        "\n",
        "# Classification Report\n",
        "print(\"Optimize Edilmiş CNN:\\n\", classification_report(y_test, y_pred_cnn_tuned))\n",
        "print(\"Transformer Model:\\n\", classification_report(y_test, y_pred_transformer))"
      ],
      "metadata": {
        "colab": {
          "base_uri": "https://localhost:8080/"
        },
        "id": "9x9-z9oidZOR",
        "outputId": "cb959864-d526-40df-f5c1-32fc27f6422c"
      },
      "execution_count": null,
      "outputs": [
        {
          "output_type": "stream",
          "name": "stdout",
          "text": [
            "\u001b[1m10/10\u001b[0m \u001b[32m━━━━━━━━━━━━━━━━━━━━\u001b[0m\u001b[37m\u001b[0m \u001b[1m0s\u001b[0m 9ms/step\n",
            "\u001b[1m10/10\u001b[0m \u001b[32m━━━━━━━━━━━━━━━━━━━━\u001b[0m\u001b[37m\u001b[0m \u001b[1m0s\u001b[0m 20ms/step\n",
            "Optimize Edilmiş CNN:\n",
            "               precision    recall  f1-score   support\n",
            "\n",
            "           0       0.40      1.00      0.57       119\n",
            "           1       0.00      0.00      0.00        97\n",
            "           2       0.25      0.02      0.03        58\n",
            "           3       0.00      0.00      0.00        26\n",
            "\n",
            "    accuracy                           0.40       300\n",
            "   macro avg       0.16      0.25      0.15       300\n",
            "weighted avg       0.21      0.40      0.23       300\n",
            "\n",
            "Transformer Model:\n",
            "               precision    recall  f1-score   support\n",
            "\n",
            "           0       0.40      1.00      0.57       119\n",
            "           1       0.00      0.00      0.00        97\n",
            "           2       0.00      0.00      0.00        58\n",
            "           3       0.00      0.00      0.00        26\n",
            "\n",
            "    accuracy                           0.40       300\n",
            "   macro avg       0.10      0.25      0.14       300\n",
            "weighted avg       0.16      0.40      0.23       300\n",
            "\n"
          ]
        },
        {
          "output_type": "stream",
          "name": "stderr",
          "text": [
            "/usr/local/lib/python3.11/dist-packages/sklearn/metrics/_classification.py:1565: UndefinedMetricWarning: Precision is ill-defined and being set to 0.0 in labels with no predicted samples. Use `zero_division` parameter to control this behavior.\n",
            "  _warn_prf(average, modifier, f\"{metric.capitalize()} is\", len(result))\n",
            "/usr/local/lib/python3.11/dist-packages/sklearn/metrics/_classification.py:1565: UndefinedMetricWarning: Precision is ill-defined and being set to 0.0 in labels with no predicted samples. Use `zero_division` parameter to control this behavior.\n",
            "  _warn_prf(average, modifier, f\"{metric.capitalize()} is\", len(result))\n",
            "/usr/local/lib/python3.11/dist-packages/sklearn/metrics/_classification.py:1565: UndefinedMetricWarning: Precision is ill-defined and being set to 0.0 in labels with no predicted samples. Use `zero_division` parameter to control this behavior.\n",
            "  _warn_prf(average, modifier, f\"{metric.capitalize()} is\", len(result))\n",
            "/usr/local/lib/python3.11/dist-packages/sklearn/metrics/_classification.py:1565: UndefinedMetricWarning: Precision is ill-defined and being set to 0.0 in labels with no predicted samples. Use `zero_division` parameter to control this behavior.\n",
            "  _warn_prf(average, modifier, f\"{metric.capitalize()} is\", len(result))\n",
            "/usr/local/lib/python3.11/dist-packages/sklearn/metrics/_classification.py:1565: UndefinedMetricWarning: Precision is ill-defined and being set to 0.0 in labels with no predicted samples. Use `zero_division` parameter to control this behavior.\n",
            "  _warn_prf(average, modifier, f\"{metric.capitalize()} is\", len(result))\n",
            "/usr/local/lib/python3.11/dist-packages/sklearn/metrics/_classification.py:1565: UndefinedMetricWarning: Precision is ill-defined and being set to 0.0 in labels with no predicted samples. Use `zero_division` parameter to control this behavior.\n",
            "  _warn_prf(average, modifier, f\"{metric.capitalize()} is\", len(result))\n"
          ]
        }
      ]
    },
    {
      "cell_type": "markdown",
      "source": [
        "5. Sonuçları Görselleştirme\n"
      ],
      "metadata": {
        "id": "6Dsr2p-UdcBq"
      }
    },
    {
      "cell_type": "code",
      "source": [
        "# Doğruluk Grafikleri\n",
        "plt.figure(figsize=(12, 6))\n",
        "plt.subplot(1, 2, 1)\n",
        "plt.plot(history_transformer.history['accuracy'], label='Transformer Train')\n",
        "plt.plot(history_transformer.history['val_accuracy'], label='Transformer Test')\n",
        "plt.title('Transformer Model Performansı')\n",
        "plt.legend()\n",
        "\n",
        "plt.subplot(1, 2, 2)\n",
        "plt.plot(history_cnn.history['accuracy'], label='CNN Train')\n",
        "plt.plot(history_cnn.history['val_accuracy'], label='CNN Test')\n",
        "plt.title('CNN Model Performansı')\n",
        "plt.legend()\n",
        "plt.show()"
      ],
      "metadata": {
        "colab": {
          "base_uri": "https://localhost:8080/",
          "height": 545
        },
        "id": "sgFI52d8dcg1",
        "outputId": "d8b95426-5ff2-4982-959c-b69e08ff301e"
      },
      "execution_count": null,
      "outputs": [
        {
          "output_type": "display_data",
          "data": {
            "text/plain": [
              "<Figure size 1200x600 with 2 Axes>"
            ],
            "image/png": "[encoded data removed]"
          },
          "metadata": {}
        }
      ]
    }
  ]
}