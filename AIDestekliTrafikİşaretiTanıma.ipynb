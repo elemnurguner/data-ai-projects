{
  "nbformat": 4,
  "nbformat_minor": 0,
  "metadata": {
    "colab": {
      "provenance": [],
      "authorship_tag": "ABX9TyPN+bHrQ0dcQamCtEOxfB/0",
      "include_colab_link": true
    },
    "kernelspec": {
      "name": "python3",
      "display_name": "Python 3"
    },
    "language_info": {
      "name": "python"
    }
  },
  "cells": [
    {
      "cell_type": "markdown",
      "metadata": {
        "id": "view-in-github",
        "colab_type": "text"
      },
      "source": [
        "<a href=\"https://colab.research.google.com/github/elemnurguner/data-ai-projects/blob/main/AIDestekliTrafik%C4%B0%C5%9FaretiTan%C4%B1ma.ipynb\" target=\"_parent\"><img src=\"https://colab.research.google.com/assets/colab-badge.svg\" alt=\"Open In Colab\"/></a>"
      ]
    },
    {
      "cell_type": "markdown",
      "source": [
        "Trafik İşareti Tanıma Sistemi - Proje Analizi 🚦\n",
        "1. Proje Amacı\n",
        "Otonom araçlar ve akıllı ulaşım sistemleri için kritik bir bileşen olan trafik işareti tanıma sistemleri geliştirmek. Görüntü işleme ve derin öğrenme teknikleriyle 43 farklı trafik işaretini sınıflandıran bir AI modeli oluşturmak."
      ],
      "metadata": {
        "id": "drBYLTFrQZQy"
      }
    },
    {
      "cell_type": "markdown",
      "source": [
        "2. Kullanılan Teknolojiler\n",
        "Teknoloji\tAçıklama\n",
        "Python\tProgramlama Dili\n",
        "TensorFlow/Keras\tDerin Öğrenme Kütüphanesi\n",
        "OpenCV\tGörüntü İşleme\n",
        "Scikit-learn\tVeri Bölme & Ön İşleme\n",
        "Matplotlib\tGörselleştirme"
      ],
      "metadata": {
        "id": "cXpM-mg74Ne0"
      }
    },
    {
      "cell_type": "markdown",
      "source": [
        "3. Veri Seti (GTSRB)\n",
        "Kaynak: Alman Trafik İşaretleri Benchmark Veri Seti\n",
        "\n",
        "İstatistikler:\n",
        "\n",
        "43 farklı sınıf\n",
        "\n",
        "39,209 eğitim görüntüsü\n",
        "\n",
        "12,630 test görüntüsü\n",
        "\n",
        "Değişken boyutlar (15x15 - 250x250 piksel)"
      ],
      "metadata": {
        "id": "7VTrYLf44SOy"
      }
    },
    {
      "cell_type": "code",
      "source": [
        "# GTSRB veri setini Colab'a indirme\n",
        "!wget https://sid.erda.dk/public/archives/daaeac0d7ce1152aea9b61d9f1e19370/GTSRB_Final_Training_Images.zip\n",
        "!wget https://sid.erda.dk/public/archives/daaeac0d7ce1152aea9b61d9f1e19370/GTSRB_Final_Test_Images.zip\n",
        "\n",
        "# ZIP dosyalarını açma\n",
        "!unzip GTSRB_Final_Training_Images.zip\n",
        "!unzip GTSRB_Final_Test_Images.zip"
      ],
      "metadata": {
        "collapsed": true,
        "id": "vheGDez-Qdo2"
      },
      "execution_count": null,
      "outputs": []
    },
    {
      "cell_type": "markdown",
      "source": [],
      "metadata": {
        "id": "AieEWiIf4Rkv"
      }
    },
    {
      "cell_type": "code",
      "source": [
        "import os\n",
        "\n",
        "# Veri setinin yolunu belirleme\n",
        "data_dir = '/content/GTSRB/Final_Training/Images'\n",
        "\n",
        "# Klasörlerin (sınıfların) sayısını kontrol etme\n",
        "num_classes = len(os.listdir(data_dir))\n",
        "print(f\"Toplam sınıf sayısı: {num_classes}\")\n",
        "\n",
        "# Örnek bir klasördeki görüntü sayısını kontrol etme\n",
        "sample_class = os.listdir(data_dir)[0]\n",
        "sample_class_dir = os.path.join(data_dir, sample_class)\n",
        "num_images_in_sample_class = len(os.listdir(sample_class_dir))\n",
        "print(f\"Örnek klasördeki görüntü sayısı: {num_images_in_sample_class}\")"
      ],
      "metadata": {
        "colab": {
          "base_uri": "https://localhost:8080/"
        },
        "id": "CgxWKM1cRTH2",
        "outputId": "d8b863a5-cd58-4018-8c18-c7476ce16bad"
      },
      "execution_count": 6,
      "outputs": [
        {
          "output_type": "stream",
          "name": "stdout",
          "text": [
            "Toplam sınıf sayısı: 43\n",
            "Örnek klasördeki görüntü sayısı: 1201\n"
          ]
        }
      ]
    },
    {
      "cell_type": "markdown",
      "source": [
        "2. Veri Setini Yükleme ve Ön İşleme\n",
        "Görüntüleri yükleyip, model eğitimi için hazır hale getirelim. Görüntüleri 32x32 boyutuna getirip normalize edeceğiz."
      ],
      "metadata": {
        "id": "Y3h4_nXcRZjz"
      }
    },
    {
      "cell_type": "code",
      "source": [
        "import os\n",
        "import cv2\n",
        "import numpy as np\n",
        "from sklearn.model_selection import train_test_split\n",
        "from tensorflow.keras.utils import to_categorical\n",
        "\n",
        "# Görüntüleri ve etiketleri yükleme\n",
        "def load_data(data_dir, img_size=(32, 32)):\n",
        "    images = []\n",
        "    labels = []\n",
        "    for label in os.listdir(data_dir):\n",
        "        label_dir = os.path.join(data_dir, label)\n",
        "        for image_file in os.listdir(label_dir):\n",
        "            image_path = os.path.join(label_dir, image_file)\n",
        "            image = cv2.imread(image_path)\n",
        "\n",
        "            # Görüntü doğru şekilde okundu mu kontrol et\n",
        "            if image is None:\n",
        "                print(f\"Uyarı: {image_path} okunamadı. Atlanıyor...\")\n",
        "                continue  # Bu görüntüyü atla\n",
        "\n",
        "            image = cv2.resize(image, img_size)  # Görüntüleri yeniden boyutlandır\n",
        "            image = image / 255.0  # Normalize et (0-1 aralığına getir)\n",
        "            images.append(image)\n",
        "            labels.append(int(label))\n",
        "    return np.array(images), np.array(labels)\n",
        "\n",
        "# Veri setinin yolunu belirleme\n",
        "data_dir = '/content/GTSRB/Final_Training/Images'\n",
        "\n",
        "# Veri setini yükle\n",
        "images, labels = load_data(data_dir)\n",
        "\n",
        "# Etiketleri one-hot encoding yapma\n",
        "labels = to_categorical(labels, num_classes=43)\n",
        "\n",
        "# Veriyi eğitim ve test setlerine ayırma\n",
        "X_train, X_test, y_train, y_test = train_test_split(images, labels, test_size=0.2, random_state=42)\n",
        "\n",
        "print(f\"Eğitim verisi boyutu: {X_train.shape}\")\n",
        "print(f\"Test verisi boyutu: {X_test.shape}\")"
      ],
      "metadata": {
        "id": "u46j_2pfR6Xz"
      },
      "execution_count": null,
      "outputs": []
    },
    {
      "cell_type": "markdown",
      "source": [
        "1. Modeli Eğitme\n",
        "Daha önce oluşturduğumuz CNN modelini eğitim verisi üzerinde eğitelim."
      ],
      "metadata": {
        "id": "6iwnm0FySI7B"
      }
    },
    {
      "cell_type": "code",
      "source": [
        "from tensorflow.keras.models import Sequential\n",
        "from tensorflow.keras.layers import Conv2D, MaxPooling2D, Flatten, Dense, Dropout\n",
        "\n",
        "# Modeli oluşturma\n",
        "model = Sequential([\n",
        "    Conv2D(32, (3, 3), activation='relu', input_shape=(32, 32, 3)),\n",
        "    MaxPooling2D(pool_size=(2, 2)),\n",
        "    Conv2D(64, (3, 3), activation='relu'),\n",
        "    MaxPooling2D(pool_size=(2, 2)),\n",
        "    Flatten(),\n",
        "    Dense(128, activation='relu'),\n",
        "    Dropout(0.5),\n",
        "    Dense(43, activation='softmax')  # 43 sınıf için softmax\n",
        "])\n",
        "\n",
        "# Modeli derleme\n",
        "model.compile(optimizer='adam', loss='categorical_crossentropy', metrics=['accuracy'])\n",
        "\n",
        "# Modeli eğitme\n",
        "history = model.fit(X_train, y_train, epochs=10, validation_data=(X_test, y_test))"
      ],
      "metadata": {
        "id": "_zetvgAKSIiD"
      },
      "execution_count": null,
      "outputs": []
    },
    {
      "cell_type": "markdown",
      "source": [
        "2. Modeli Değerlendirme\n",
        "Modelin performansını test verisi üzerinde değerlendirelim"
      ],
      "metadata": {
        "id": "haEY1RgwSO-R"
      }
    },
    {
      "cell_type": "code",
      "source": [
        "loss, accuracy = model.evaluate(X_test, y_test)\n",
        "print(f\"Test Kaybı: {loss}\")\n",
        "print(f\"Test Doğruluğu: {accuracy}\")"
      ],
      "metadata": {
        "colab": {
          "base_uri": "https://localhost:8080/"
        },
        "id": "WKUrEltgSQAm",
        "outputId": "7e7feeab-d9f9-41d2-f91f-f6e8803f914a"
      },
      "execution_count": 9,
      "outputs": [
        {
          "output_type": "stream",
          "name": "stdout",
          "text": [
            "\u001b[1m246/246\u001b[0m \u001b[32m━━━━━━━━━━━━━━━━━━━━\u001b[0m\u001b[37m\u001b[0m \u001b[1m4s\u001b[0m 15ms/step - accuracy: 0.9920 - loss: 0.0382\n",
            "Test Kaybı: 0.04242675378918648\n",
            "Test Doğruluğu: 0.9909461736679077\n"
          ]
        }
      ]
    },
    {
      "cell_type": "markdown",
      "source": [
        "3. Modeli Kaydetme\n",
        "Eğitilmiş modeli kaydedelim, böylece daha sonra kullanabiliriz."
      ],
      "metadata": {
        "id": "ftpsOkt5SS5g"
      }
    },
    {
      "cell_type": "code",
      "source": [
        "model.save('traffic_sign_model.keras')"
      ],
      "metadata": {
        "id": "mQ7GYVw7SUQx"
      },
      "execution_count": 11,
      "outputs": []
    },
    {
      "cell_type": "markdown",
      "source": [
        "4. Modeli Test Etme\n",
        "Kaydedilmiş modeli yükleyip, yeni görüntüler üzerinde test edelim."
      ],
      "metadata": {
        "id": "PbUz3HEoSWRZ"
      }
    },
    {
      "cell_type": "code",
      "source": [
        "from tensorflow.keras.models import load_model\n",
        "import matplotlib.pyplot as plt\n",
        "\n",
        "# Modeli yükle\n",
        "model = load_model('traffic_sign_model.keras')\n",
        "\n",
        "# Test görüntüleri üzerinde tahmin yapma\n",
        "predictions = model.predict(X_test)\n",
        "\n",
        "# Tahminleri görselleştirme\n",
        "plt.figure(figsize=(10, 10))\n",
        "for i in range(9):\n",
        "    plt.subplot(3, 3, i+1)\n",
        "    plt.imshow(X_test[i])\n",
        "    plt.title(f\"Tahmin: {np.argmax(predictions[i])}\")\n",
        "    plt.axis('off')\n",
        "plt.show()"
      ],
      "metadata": {
        "colab": {
          "base_uri": "https://localhost:8080/",
          "height": 901
        },
        "id": "uxpQ6jUfSXMb",
        "outputId": "01d71282-acd6-441d-d89c-455f3f15086e"
      },
      "execution_count": 12,
      "outputs": [
        {
          "output_type": "stream",
          "name": "stderr",
          "text": [
            "/usr/local/lib/python3.11/dist-packages/keras/src/saving/saving_lib.py:757: UserWarning: Skipping variable loading for optimizer 'rmsprop', because it has 10 variables whereas the saved optimizer has 18 variables. \n",
            "  saveable.load_own_variables(weights_store.get(inner_path))\n"
          ]
        },
        {
          "output_type": "stream",
          "name": "stdout",
          "text": [
            "\u001b[1m246/246\u001b[0m \u001b[32m━━━━━━━━━━━━━━━━━━━━\u001b[0m\u001b[37m\u001b[0m \u001b[1m3s\u001b[0m 11ms/step\n"
          ]
        },
        {
          "output_type": "display_data",
          "data": {
            "text/plain": [
              "<Figure size 1000x1000 with 9 Axes>"
            ],
            "image/png": "[encoded data removed]"
          },
          "metadata": {}
        }
      ]
    },
    {
      "cell_type": "markdown",
      "source": [
        "1. Veri Artırma (Data Augmentation)"
      ],
      "metadata": {
        "id": "J2MGq-hX-nM3"
      }
    },
    {
      "cell_type": "code",
      "source": [
        "from tensorflow.keras.preprocessing.image import ImageDataGenerator\n",
        "\n",
        "datagen = ImageDataGenerator(\n",
        "    rotation_range=20,\n",
        "    zoom_range=0.2,\n",
        "    shear_range=0.2\n",
        ")\n",
        "model.fit(datagen.flow(X_train, y_train), epochs=10)"
      ],
      "metadata": {
        "id": "Oyp3kAtd-nvj"
      },
      "execution_count": null,
      "outputs": []
    },
    {
      "cell_type": "markdown",
      "source": [
        "2. Daha Derin Model (Örnek: Mini-VGG)\n"
      ],
      "metadata": {
        "id": "Qqj86g75_6LE"
      }
    },
    {
      "cell_type": "code",
      "source": [
        "model = Sequential([\n",
        "    Conv2D(32, (3,3), activation='relu', padding='same'),\n",
        "    Conv2D(32, (3,3), activation='relu', padding='same'),\n",
        "    MaxPooling2D(2,2),\n",
        "    Dropout(0.25),\n",
        "    Conv2D(64, (3,3), activation='relu', padding='same'),\n",
        "    Conv2D(64, (3,3), activation='relu', padding='same'),\n",
        "    MaxPooling2D(2,2),\n",
        "    Flatten(),\n",
        "    Dense(512, activation='relu'),\n",
        "    Dropout(0.5),\n",
        "    Dense(43, activation='softmax')\n",
        "])"
      ],
      "metadata": {
        "id": "14ZRwWBb_6vr"
      },
      "execution_count": 14,
      "outputs": []
    },
    {
      "cell_type": "markdown",
      "source": [
        "3. Test Seti için Metrikler\n"
      ],
      "metadata": {
        "id": "aY7SjHu8_9UF"
      }
    },
    {
      "cell_type": "code",
      "source": [
        "from sklearn.metrics import classification_report\n",
        "\n",
        "y_pred = np.argmax(predictions, axis=1)\n",
        "y_true = np.argmax(y_test, axis=1)\n",
        "print(classification_report(y_true, y_pred))"
      ],
      "metadata": {
        "id": "FHgoV2_9_9um"
      },
      "execution_count": null,
      "outputs": []
    }
  ]
}