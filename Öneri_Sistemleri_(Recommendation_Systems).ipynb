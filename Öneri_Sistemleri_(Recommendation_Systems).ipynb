{
  "nbformat": 4,
  "nbformat_minor": 0,
  "metadata": {
    "colab": {
      "provenance": [],
      "authorship_tag": "ABX9TyNUDgpBaq1dXEMLVkMKcSOA",
      "include_colab_link": true
    },
    "kernelspec": {
      "name": "python3",
      "display_name": "Python 3"
    },
    "language_info": {
      "name": "python"
    }
  },
  "cells": [
    {
      "cell_type": "markdown",
      "metadata": {
        "id": "view-in-github",
        "colab_type": "text"
      },
      "source": [
        "<a href=\"https://colab.research.google.com/github/elemnurguner/data-ai-projects/blob/main/%C3%96neri_Sistemleri_(Recommendation_Systems).ipynb\" target=\"_parent\"><img src=\"https://colab.research.google.com/assets/colab-badge.svg\" alt=\"Open In Colab\"/></a>"
      ]
    },
    {
      "cell_type": "markdown",
      "source": [
        "c. Öneri Sistemleri (Recommendation Systems)\n",
        "•\tAmaç: Kullanıcılara ürün veya film önerisi yapma.\n",
        "•\tVeri Seti: MovieLens veya Amazon Product Reviews.\n",
        "•\tAdımlar:\n",
        "1.\tVeriyi yükle ve temizle.\n",
        "2.\tCollaborative Filtering veya Matrix Factorization teknikleri kullan.\n",
        "3.\tModeli değerlendir ve öneriler yap.\n"
      ],
      "metadata": {
        "id": "7szgZuxq7jNi"
      }
    },
    {
      "cell_type": "code",
      "source": [
        "import numpy as np\n",
        "np.__version__  # 1.23.5 olup olmadığını kontrol edin\n",
        "\n",
        "import pandas as pd\n",
        "from surprise import Dataset, Reader, KNNBasic, SVD\n",
        "from surprise.model_selection import cross_validate, train_test_split\n",
        "from collections import defaultdict\n",
        "\n",
        "print(\"Kütüphaneler başarıyla yüklendi!\")"
      ],
      "metadata": {
        "colab": {
          "base_uri": "https://localhost:8080/"
        },
        "id": "GJ92PKi-B5wV",
        "outputId": "5c108ac2-b82a-4660-a6dc-45cc8bed5a0f"
      },
      "execution_count": null,
      "outputs": [
        {
          "output_type": "stream",
          "name": "stdout",
          "text": [
            "Kütüphaneler başarıyla yüklendi!\n"
          ]
        }
      ]
    },
    {
      "cell_type": "markdown",
      "source": [
        "\n",
        "2. Veri Setini Yükleme ve İnceleme\n"
      ],
      "metadata": {
        "id": "INeS4WjyF6Sl"
      }
    },
    {
      "cell_type": "code",
      "source": [
        "# MovieLens küçük veri setini yükleyelim\n",
        "!wget http://files.grouplens.org/datasets/movielens/ml-latest-small.zip\n",
        "!unzip ml-latest-small.zip\n",
        "\n",
        "# Verileri yükleme\n",
        "movies = pd.read_csv('ml-latest-small/movies.csv')\n",
        "ratings = pd.read_csv('ml-latest-small/ratings.csv')\n",
        "tags = pd.read_csv('ml-latest-small/tags.csv')\n",
        "\n",
        "# İlk birkaç satırı göster\n",
        "print(\"Filmler:\")\n",
        "print(movies.head())\n",
        "print(\"\\nDeğerlendirmeler:\")\n",
        "print(ratings.head())"
      ],
      "metadata": {
        "colab": {
          "base_uri": "https://localhost:8080/"
        },
        "id": "XQ4Dnza6CGBx",
        "outputId": "8c4f14f9-4ee3-40f2-facd-ec91d7df7c69"
      },
      "execution_count": null,
      "outputs": [
        {
          "output_type": "stream",
          "name": "stdout",
          "text": [
            "--2025-03-24 21:21:43--  http://files.grouplens.org/datasets/movielens/ml-latest-small.zip\n",
            "Resolving files.grouplens.org (files.grouplens.org)... 128.101.65.152\n",
            "Connecting to files.grouplens.org (files.grouplens.org)|128.101.65.152|:80... connected.\n",
            "HTTP request sent, awaiting response... 200 OK\n",
            "Length: 978202 (955K) [application/zip]\n",
            "Saving to: ‘ml-latest-small.zip’\n",
            "\n",
            "ml-latest-small.zip 100%[===================>] 955.28K  3.28MB/s    in 0.3s    \n",
            "\n",
            "2025-03-24 21:21:44 (3.28 MB/s) - ‘ml-latest-small.zip’ saved [978202/978202]\n",
            "\n",
            "Archive:  ml-latest-small.zip\n",
            "   creating: ml-latest-small/\n",
            "  inflating: ml-latest-small/links.csv  \n",
            "  inflating: ml-latest-small/tags.csv  \n",
            "  inflating: ml-latest-small/ratings.csv  \n",
            "  inflating: ml-latest-small/README.txt  \n",
            "  inflating: ml-latest-small/movies.csv  \n",
            "Filmler:\n",
            "   movieId                               title  \\\n",
            "0        1                    Toy Story (1995)   \n",
            "1        2                      Jumanji (1995)   \n",
            "2        3             Grumpier Old Men (1995)   \n",
            "3        4            Waiting to Exhale (1995)   \n",
            "4        5  Father of the Bride Part II (1995)   \n",
            "\n",
            "                                        genres  \n",
            "0  Adventure|Animation|Children|Comedy|Fantasy  \n",
            "1                   Adventure|Children|Fantasy  \n",
            "2                               Comedy|Romance  \n",
            "3                         Comedy|Drama|Romance  \n",
            "4                                       Comedy  \n",
            "\n",
            "Değerlendirmeler:\n",
            "   userId  movieId  rating  timestamp\n",
            "0       1        1     4.0  964982703\n",
            "1       1        3     4.0  964981247\n",
            "2       1        6     4.0  964982224\n",
            "3       1       47     5.0  964983815\n",
            "4       1       50     5.0  964982931\n"
          ]
        }
      ]
    },
    {
      "cell_type": "markdown",
      "source": [
        "3. Veri Ön İşleme\n"
      ],
      "metadata": {
        "id": "zODQUbZHF9TW"
      }
    },
    {
      "cell_type": "code",
      "source": [
        "# Gereksiz sütunları kaldırma\n",
        "ratings = ratings.drop('timestamp', axis=1)\n",
        "\n",
        "# Film başlıklarını ve türlerini birleştirme\n",
        "movie_ratings = pd.merge(ratings, movies, on='movieId')\n",
        "\n",
        "# Kullanıcı ve film sayılarını kontrol etme\n",
        "n_users = ratings.userId.nunique()\n",
        "n_movies = ratings.movieId.nunique()\n",
        "print(f\"Toplam {n_users} kullanıcı ve {n_movies} film bulunmaktadır.\")"
      ],
      "metadata": {
        "colab": {
          "base_uri": "https://localhost:8080/"
        },
        "id": "KMrlURgGCMH9",
        "outputId": "0ba576ca-4ff6-43ae-bfb6-f49be17adeaa"
      },
      "execution_count": null,
      "outputs": [
        {
          "output_type": "stream",
          "name": "stdout",
          "text": [
            "Toplam 610 kullanıcı ve 9724 film bulunmaktadır.\n"
          ]
        }
      ]
    },
    {
      "cell_type": "markdown",
      "source": [
        "4. Collaborative Filtering Modeli (KNN)\n"
      ],
      "metadata": {
        "id": "eG35-tC9GBi3"
      }
    },
    {
      "cell_type": "code",
      "source": [
        "# Surprise kütüphanesi için veri formatını ayarlama\n",
        "reader = Reader(rating_scale=(0.5, 5.0))\n",
        "data = Dataset.load_from_df(ratings[['userId', 'movieId', 'rating']], reader)\n",
        "\n",
        "# KNN modelini oluşturma ve değerlendirme\n",
        "knn_model = KNNBasic(sim_options={'name': 'cosine', 'user_based': False})\n",
        "cross_validate(knn_model, data, measures=['RMSE', 'MAE'], cv=5, verbose=True)"
      ],
      "metadata": {
        "colab": {
          "base_uri": "https://localhost:8080/"
        },
        "id": "tn7XNaSeCOyf",
        "outputId": "f9ea8b24-4ec3-4465-9396-9f906493c732"
      },
      "execution_count": null,
      "outputs": [
        {
          "output_type": "stream",
          "name": "stdout",
          "text": [
            "Computing the cosine similarity matrix...\n",
            "Done computing similarity matrix.\n",
            "Computing the cosine similarity matrix...\n",
            "Done computing similarity matrix.\n",
            "Computing the cosine similarity matrix...\n",
            "Done computing similarity matrix.\n",
            "Computing the cosine similarity matrix...\n",
            "Done computing similarity matrix.\n",
            "Computing the cosine similarity matrix...\n",
            "Done computing similarity matrix.\n",
            "Evaluating RMSE, MAE of algorithm KNNBasic on 5 split(s).\n",
            "\n",
            "                  Fold 1  Fold 2  Fold 3  Fold 4  Fold 5  Mean    Std     \n",
            "RMSE (testset)    0.9723  0.9776  0.9768  0.9766  0.9785  0.9764  0.0022  \n",
            "MAE (testset)     0.7574  0.7616  0.7610  0.7580  0.7644  0.7605  0.0025  \n",
            "Fit time          12.45   8.03    7.81    7.51    7.46    8.65    1.91    \n",
            "Test time         7.90    7.38    8.28    7.93    8.21    7.94    0.32    \n"
          ]
        },
        {
          "output_type": "execute_result",
          "data": {
            "text/plain": [
              "{'test_rmse': array([0.97225819, 0.97764003, 0.9768277 , 0.97661243, 0.97851202]),\n",
              " 'test_mae': array([0.75744518, 0.76159312, 0.7610116 , 0.75798934, 0.76440977]),\n",
              " 'fit_time': (12.44643259048462,\n",
              "  8.027082681655884,\n",
              "  7.80964469909668,\n",
              "  7.507258176803589,\n",
              "  7.462937831878662),\n",
              " 'test_time': (7.898759841918945,\n",
              "  7.375197172164917,\n",
              "  8.28241753578186,\n",
              "  7.927589416503906,\n",
              "  8.210338592529297)}"
            ]
          },
          "metadata": {},
          "execution_count": 4
        }
      ]
    },
    {
      "cell_type": "markdown",
      "source": [
        "5. Matrix Factorization Modeli (SVD)\n"
      ],
      "metadata": {
        "id": "OrlCq82DGEwF"
      }
    },
    {
      "cell_type": "code",
      "source": [
        "# SVD modelini oluşturma ve değerlendirme\n",
        "svd_model = SVD()\n",
        "cross_validate(svd_model, data, measures=['RMSE', 'MAE'], cv=5, verbose=True)\n",
        "\n",
        "# Modeli eğitme\n",
        "trainset = data.build_full_trainset()\n",
        "svd_model.fit(trainset)"
      ],
      "metadata": {
        "colab": {
          "base_uri": "https://localhost:8080/"
        },
        "id": "MsIN-PUvE0BA",
        "outputId": "d231043d-df8c-4d8b-c63e-4922e165b5de"
      },
      "execution_count": null,
      "outputs": [
        {
          "output_type": "stream",
          "name": "stdout",
          "text": [
            "Evaluating RMSE, MAE of algorithm SVD on 5 split(s).\n",
            "\n",
            "                  Fold 1  Fold 2  Fold 3  Fold 4  Fold 5  Mean    Std     \n",
            "RMSE (testset)    0.8622  0.8844  0.8788  0.8683  0.8667  0.8721  0.0082  \n",
            "MAE (testset)     0.6642  0.6805  0.6755  0.6672  0.6659  0.6707  0.0063  \n",
            "Fit time          2.64    1.69    1.60    1.69    1.58    1.84    0.40    \n",
            "Test time         0.41    0.13    0.29    0.13    0.12    0.22    0.11    \n"
          ]
        },
        {
          "output_type": "execute_result",
          "data": {
            "text/plain": [
              "<surprise.prediction_algorithms.matrix_factorization.SVD at 0x7a849bed9210>"
            ]
          },
          "metadata": {},
          "execution_count": 5
        }
      ]
    },
    {
      "cell_type": "markdown",
      "source": [
        "6. Tavsiyeler Oluşturma\n"
      ],
      "metadata": {
        "id": "NqObWBeDFLbO"
      }
    },
    {
      "cell_type": "code",
      "source": [
        "def get_top_n_recommendations(user_id, n=10):\n",
        "    # Kullanıcının henüz derecelendirmediği filmleri bul\n",
        "    user_movies = ratings[ratings['userId'] == user_id]['movieId']\n",
        "    all_movies = ratings['movieId'].unique()\n",
        "    unseen_movies = [movie for movie in all_movies if movie not in user_movies]\n",
        "\n",
        "    # Tahminler yap\n",
        "    predictions = [svd_model.predict(user_id, movie) for movie in unseen_movies]\n",
        "\n",
        "    # En yüksek tahmin edilen derecelendirmelere göre sırala\n",
        "    predictions.sort(key=lambda x: x.est, reverse=True)\n",
        "\n",
        "    # En iyi n filmi al\n",
        "    top_n = predictions[:n]\n",
        "\n",
        "    # Film bilgilerini getir\n",
        "    top_n_movies = []\n",
        "    for pred in top_n:\n",
        "        movie_info = movies[movies['movieId'] == pred.iid].iloc[0]\n",
        "        top_n_movies.append({\n",
        "            'movieId': pred.iid,\n",
        "            'title': movie_info['title'],\n",
        "            'genres': movie_info['genres'],\n",
        "            'estimated_rating': pred.est\n",
        "        })\n",
        "\n",
        "    return pd.DataFrame(top_n_movies)\n",
        "\n",
        "# Örnek bir kullanıcı için tavsiyeler oluştur\n",
        "user_id = 1\n",
        "recommendations = get_top_n_recommendations(user_id)\n",
        "print(f\"Kullanıcı {user_id} için film önerileri:\")\n",
        "print(recommendations)"
      ],
      "metadata": {
        "colab": {
          "base_uri": "https://localhost:8080/"
        },
        "id": "xLC7fuucE-nH",
        "outputId": "624f17a7-bcd4-4e37-c686-881a1aba4467"
      },
      "execution_count": null,
      "outputs": [
        {
          "output_type": "stream",
          "name": "stdout",
          "text": [
            "Kullanıcı 1 için film önerileri:\n",
            "   movieId                                              title  \\\n",
            "0      457                               Fugitive, The (1993)   \n",
            "1      527                            Schindler's List (1993)   \n",
            "2     1136             Monty Python and the Holy Grail (1975)   \n",
            "3     1196  Star Wars: Episode V - The Empire Strikes Back...   \n",
            "4     1198  Raiders of the Lost Ark (Indiana Jones and the...   \n",
            "5     1278                          Young Frankenstein (1974)   \n",
            "6     2329                          American History X (1998)   \n",
            "7     2959                                  Fight Club (1999)   \n",
            "8    48516                               Departed, The (2006)   \n",
            "9    58559                            Dark Knight, The (2008)   \n",
            "\n",
            "                        genres  estimated_rating  \n",
            "0                     Thriller               5.0  \n",
            "1                    Drama|War               5.0  \n",
            "2     Adventure|Comedy|Fantasy               5.0  \n",
            "3      Action|Adventure|Sci-Fi               5.0  \n",
            "4             Action|Adventure               5.0  \n",
            "5               Comedy|Fantasy               5.0  \n",
            "6                  Crime|Drama               5.0  \n",
            "7  Action|Crime|Drama|Thriller               5.0  \n",
            "8         Crime|Drama|Thriller               5.0  \n",
            "9      Action|Crime|Drama|IMAX               5.0  \n"
          ]
        }
      ]
    },
    {
      "cell_type": "markdown",
      "source": [
        "7. Modeli Kaydetme ve Yükleme (Opsiyonel)"
      ],
      "metadata": {
        "id": "kn6F6OueFE_s"
      }
    },
    {
      "cell_type": "code",
      "source": [
        "import pickle\n",
        "\n",
        "# Modeli kaydet\n",
        "with open('movie_recommender.pkl', 'wb') as f:\n",
        "    pickle.dump(svd_model, f)\n",
        "\n",
        "# Modeli yükle\n",
        "with open('movie_recommender.pkl', 'rb') as f:\n",
        "    loaded_model = pickle.load(f)"
      ],
      "metadata": {
        "id": "Npz4gZ-VFFyw"
      },
      "execution_count": null,
      "outputs": []
    }
  ]
}