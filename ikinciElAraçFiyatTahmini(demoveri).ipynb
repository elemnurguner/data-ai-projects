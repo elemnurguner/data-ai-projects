{
  "nbformat": 4,
  "nbformat_minor": 0,
  "metadata": {
    "colab": {
      "provenance": [],
      "authorship_tag": "ABX9TyOzZHkF5qu6VchT2tdQZ0PS",
      "include_colab_link": true
    },
    "kernelspec": {
      "name": "python3",
      "display_name": "Python 3"
    },
    "language_info": {
      "name": "python"
    }
  },
  "cells": [
    {
      "cell_type": "markdown",
      "metadata": {
        "id": "view-in-github",
        "colab_type": "text"
      },
      "source": [
        "<a href=\"https://colab.research.google.com/github/elemnurguner/data-ai-projects/blob/main/ikinciElAra%C3%A7FiyatTahmini(demoveri).ipynb\" target=\"_parent\"><img src=\"https://colab.research.google.com/assets/colab-badge.svg\" alt=\"Open In Colab\"/></a>"
      ]
    },
    {
      "cell_type": "markdown",
      "source": [
        "İkinci El Araç Fiyat Tahmini"
      ],
      "metadata": {
        "id": "b-Vnt-_6cQd1"
      }
    },
    {
      "cell_type": "markdown",
      "source": [
        "Veri Setini Hazırlama (Örnek Veri ile Başlangıç)\n",
        "Önce küçük bir örnek veri seti oluşturalım (daha sonra gerçek veriyle değiştirebilirsiniz):"
      ],
      "metadata": {
        "id": "eOwNujvKfeIb"
      }
    },
    {
      "cell_type": "code",
      "source": [
        "import pandas as pd\n",
        "from io import StringIO\n",
        "\n",
        "# Örnek veri seti (5 araç)\n",
        "sample_data = \"\"\"\n",
        "name,year,km_driven,fuel,seller_type,transmission,owner,selling_price\n",
        "Hyundai Creta 1.6 CRDi,2015,41000,Diesel,Individual,Manual,First Owner,650000\n",
        "Honda City i-VTEC,2017,28000,Petrol,Individual,Automatic,First Owner,850000\n",
        "Maruti Swift VDI,2014,80000,Diesel,Individual,Manual,Second Owner,300000\n",
        "Toyota Innova Crysta,2019,35000,Diesel,Dealer,Automatic,First Owner,1200000\n",
        "Kia Seltos HTK,2020,15000,Petrol,Individual,Manual,First Owner,950000\n",
        "\"\"\"\n",
        "\n",
        "df = pd.read_csv(StringIO(sample_data))\n",
        "print(\"Veri seti önizleme:\")\n",
        "print(df.head())"
      ],
      "metadata": {
        "colab": {
          "base_uri": "https://localhost:8080/"
        },
        "id": "6G-ME8WtfgkC",
        "outputId": "d5ae611e-6272-4180-cf2c-b7d3c367fe69"
      },
      "execution_count": null,
      "outputs": [
        {
          "output_type": "stream",
          "name": "stdout",
          "text": [
            "Veri seti önizleme:\n",
            "                     name  year  km_driven    fuel seller_type transmission  \\\n",
            "0  Hyundai Creta 1.6 CRDi  2015      41000  Diesel  Individual       Manual   \n",
            "1       Honda City i-VTEC  2017      28000  Petrol  Individual    Automatic   \n",
            "2        Maruti Swift VDI  2014      80000  Diesel  Individual       Manual   \n",
            "3    Toyota Innova Crysta  2019      35000  Diesel      Dealer    Automatic   \n",
            "4          Kia Seltos HTK  2020      15000  Petrol  Individual       Manual   \n",
            "\n",
            "          owner  selling_price  \n",
            "0   First Owner         650000  \n",
            "1   First Owner         850000  \n",
            "2  Second Owner         300000  \n",
            "3   First Owner        1200000  \n",
            "4   First Owner         950000  \n"
          ]
        }
      ]
    },
    {
      "cell_type": "markdown",
      "source": [
        "2. Veri Ön İşleme\n",
        "A. Kategorik Değişkenleri Dönüştürme (One-Hot Encoding)"
      ],
      "metadata": {
        "id": "A8zEKpjtfii3"
      }
    },
    {
      "cell_type": "code",
      "source": [
        "# Kategorik sütunları sayısala çevirme\n",
        "df = pd.get_dummies(df, columns=['fuel', 'seller_type', 'transmission', 'owner'])\n",
        "print(\"\\nOne-Hot Encoding sonrası:\")\n",
        "print(df.head())"
      ],
      "metadata": {
        "colab": {
          "base_uri": "https://localhost:8080/"
        },
        "id": "E0mWtk1bfjMz",
        "outputId": "42953226-93f0-40a1-a809-e3e17d1e06aa"
      },
      "execution_count": null,
      "outputs": [
        {
          "output_type": "stream",
          "name": "stdout",
          "text": [
            "\n",
            "One-Hot Encoding sonrası:\n",
            "                     name  year  km_driven  selling_price  fuel_Diesel  \\\n",
            "0  Hyundai Creta 1.6 CRDi  2015      41000         650000         True   \n",
            "1       Honda City i-VTEC  2017      28000         850000        False   \n",
            "2        Maruti Swift VDI  2014      80000         300000         True   \n",
            "3    Toyota Innova Crysta  2019      35000        1200000         True   \n",
            "4          Kia Seltos HTK  2020      15000         950000        False   \n",
            "\n",
            "   fuel_Petrol  seller_type_Dealer  seller_type_Individual  \\\n",
            "0        False               False                    True   \n",
            "1         True               False                    True   \n",
            "2        False               False                    True   \n",
            "3        False                True                   False   \n",
            "4         True               False                    True   \n",
            "\n",
            "   transmission_Automatic  transmission_Manual  owner_First Owner  \\\n",
            "0                   False                 True               True   \n",
            "1                    True                False               True   \n",
            "2                   False                 True              False   \n",
            "3                    True                False               True   \n",
            "4                   False                 True               True   \n",
            "\n",
            "   owner_Second Owner  \n",
            "0               False  \n",
            "1               False  \n",
            "2                True  \n",
            "3               False  \n",
            "4               False  \n"
          ]
        }
      ]
    },
    {
      "cell_type": "markdown",
      "source": [
        "B. Gereksiz Sütunları Çıkarma\n"
      ],
      "metadata": {
        "id": "pzOrG-3sfmeu"
      }
    },
    {
      "cell_type": "code",
      "source": [
        "# 'name' sütunu model için gerekli değil\n",
        "X = df.drop(['selling_price', 'name'], axis=1)\n",
        "y = df['selling_price']\n",
        "print(\"\\nÖzellik matrisi (X):\")\n",
        "print(X.head())"
      ],
      "metadata": {
        "colab": {
          "base_uri": "https://localhost:8080/"
        },
        "id": "9VFmfUtSfm_j",
        "outputId": "6ade8a34-5553-4cfe-de25-ef81a6a97c4d"
      },
      "execution_count": null,
      "outputs": [
        {
          "output_type": "stream",
          "name": "stdout",
          "text": [
            "\n",
            "Özellik matrisi (X):\n",
            "   year  km_driven  fuel_Diesel  fuel_Petrol  seller_type_Dealer  \\\n",
            "0  2015      41000         True        False               False   \n",
            "1  2017      28000        False         True               False   \n",
            "2  2014      80000         True        False               False   \n",
            "3  2019      35000         True        False                True   \n",
            "4  2020      15000        False         True               False   \n",
            "\n",
            "   seller_type_Individual  transmission_Automatic  transmission_Manual  \\\n",
            "0                    True                   False                 True   \n",
            "1                    True                    True                False   \n",
            "2                    True                   False                 True   \n",
            "3                   False                    True                False   \n",
            "4                    True                   False                 True   \n",
            "\n",
            "   owner_First Owner  owner_Second Owner  \n",
            "0               True               False  \n",
            "1               True               False  \n",
            "2              False                True  \n",
            "3               True               False  \n",
            "4               True               False  \n"
          ]
        }
      ]
    },
    {
      "cell_type": "markdown",
      "source": [
        "3. Eğitim ve Test Ayrımı\n"
      ],
      "metadata": {
        "id": "9Us5VY8Pfq6p"
      }
    },
    {
      "cell_type": "code",
      "source": [
        "from sklearn.model_selection import train_test_split\n",
        "\n",
        "# %80 eğitim, %20 test\n",
        "X_train, X_test, y_train, y_test = train_test_split(X, y, test_size=0.2, random_state=42)\n",
        "print(\"\\nEğitim verisi boyutu:\", X_train.shape)\n",
        "print(\"Test verisi boyutu:\", X_test.shape)"
      ],
      "metadata": {
        "colab": {
          "base_uri": "https://localhost:8080/"
        },
        "id": "58m5MqV0frUs",
        "outputId": "c731d8b5-d997-4411-c96f-c8ef43b7f8a3"
      },
      "execution_count": null,
      "outputs": [
        {
          "output_type": "stream",
          "name": "stdout",
          "text": [
            "\n",
            "Eğitim verisi boyutu: (4, 10)\n",
            "Test verisi boyutu: (1, 10)\n"
          ]
        }
      ]
    },
    {
      "cell_type": "markdown",
      "source": [
        "4. Model Oluşturma (RandomForestRegressor)\n"
      ],
      "metadata": {
        "id": "5xUIAhxqfu1C"
      }
    },
    {
      "cell_type": "code",
      "source": [
        "from sklearn.ensemble import RandomForestRegressor\n",
        "\n",
        "# Basit bir model\n",
        "model = RandomForestRegressor(n_estimators=100, random_state=42)\n",
        "model.fit(X_train, y_train)\n",
        "\n",
        "# Test seti performansı\n",
        "from sklearn.metrics import mean_absolute_error, r2_score\n",
        "\n",
        "y_pred = model.predict(X_test)\n",
        "print(\"\\nModel Performansı:\")\n",
        "print(\"MAE:\", mean_absolute_error(y_test, y_pred))\n",
        "print(\"R2:\", r2_score(y_test, y_pred))"
      ],
      "metadata": {
        "colab": {
          "base_uri": "https://localhost:8080/"
        },
        "id": "PrpqCMRlfvXV",
        "outputId": "4dcc4deb-383c-4f77-b490-b5ec73efc039"
      },
      "execution_count": null,
      "outputs": [
        {
          "output_type": "stream",
          "name": "stdout",
          "text": [
            "\n",
            "Model Performansı:\n",
            "MAE: 39500.0\n",
            "R2: nan\n"
          ]
        },
        {
          "output_type": "stream",
          "name": "stderr",
          "text": [
            "/usr/local/lib/python3.11/dist-packages/sklearn/metrics/_regression.py:1266: UndefinedMetricWarning: R^2 score is not well-defined with less than two samples.\n",
            "  warnings.warn(msg, UndefinedMetricWarning)\n"
          ]
        }
      ]
    },
    {
      "cell_type": "markdown",
      "source": [
        "5. Hiperparametre Optimizasyonu (GridSearchCV)\n"
      ],
      "metadata": {
        "id": "BhKqAfqlfyv-"
      }
    },
    {
      "cell_type": "code",
      "source": [
        "from sklearn.model_selection import GridSearchCV\n",
        "\n",
        "# Parametre grid'i\n",
        "param_grid = {\n",
        "    'n_estimators': [50, 100],\n",
        "    'max_depth': [None, 5, 10],\n",
        "    'min_samples_split': [2, 5]\n",
        "}\n",
        "\n",
        "# GridSearchCV (cv=3, çünkü küçük veri seti)\n",
        "grid_search = GridSearchCV(\n",
        "    RandomForestRegressor(random_state=42),\n",
        "    param_grid,\n",
        "    cv=3,\n",
        "    scoring='r2'\n",
        ")\n",
        "grid_search.fit(X_train, y_train)\n",
        "\n",
        "# En iyi parametreler\n",
        "print(\"\\nEn iyi parametreler:\", grid_search.best_params_)\n",
        "print(\"En iyi R2 skoru:\", grid_search.best_score_)\n",
        "\n",
        "# Optimize edilmiş model\n",
        "best_model = grid_search.best_estimator_"
      ],
      "metadata": {
        "id": "_XuLK7qpfzVA"
      },
      "execution_count": null,
      "outputs": []
    },
    {
      "cell_type": "markdown",
      "source": [
        "6. Model Değerlendirme\n"
      ],
      "metadata": {
        "id": "7fDQ9cyIf18a"
      }
    },
    {
      "cell_type": "code",
      "source": [
        "# Optimize modelin test performansı\n",
        "y_pred_best = best_model.predict(X_test)\n",
        "print(\"\\nOptimize Model Performansı:\")\n",
        "print(\"MAE:\", mean_absolute_error(y_test, y_pred_best))\n",
        "print(\"R2:\", r2_score(y_test, y_pred_best))"
      ],
      "metadata": {
        "colab": {
          "base_uri": "https://localhost:8080/"
        },
        "id": "grGC9OuSf4Ew",
        "outputId": "d6504348-45c6-4df1-9ac1-9b26c1dfa787"
      },
      "execution_count": null,
      "outputs": [
        {
          "output_type": "stream",
          "name": "stdout",
          "text": [
            "\n",
            "Optimize Model Performansı:\n",
            "MAE: 91000.0\n",
            "R2: nan\n"
          ]
        },
        {
          "output_type": "stream",
          "name": "stderr",
          "text": [
            "/usr/local/lib/python3.11/dist-packages/sklearn/metrics/_regression.py:1266: UndefinedMetricWarning: R^2 score is not well-defined with less than two samples.\n",
            "  warnings.warn(msg, UndefinedMetricWarning)\n"
          ]
        }
      ]
    },
    {
      "cell_type": "markdown",
      "source": [
        "7. Yeni Tahmin Yapma\n"
      ],
      "metadata": {
        "id": "SpeeKc_af9Op"
      }
    },
    {
      "cell_type": "code",
      "source": [
        "# Yeni araç özellikleri\n",
        "new_car = {\n",
        "    'year': 2018,\n",
        "    'km_driven': 45000,\n",
        "    'fuel_Diesel': 1,\n",
        "    'fuel_Petrol': 0,\n",
        "    'seller_type_Individual': 1,\n",
        "    'seller_type_Dealer': 0,\n",
        "    'transmission_Manual': 1,\n",
        "    'transmission_Automatic': 0,\n",
        "    'owner_First Owner': 1,\n",
        "    'owner_Second Owner': 0\n",
        "}\n",
        "\n",
        "# DataFrame'e çevirme\n",
        "new_car_df = pd.DataFrame([new_car])\n",
        "\n",
        "# Eksik sütunları tamamlama (modelin eğitildiği tüm sütunlar)\n",
        "for col in X_train.columns:\n",
        "    if col not in new_car_df.columns:\n",
        "        new_car_df[col] = 0\n",
        "\n",
        "# Tahmin\n",
        "predicted_price = best_model.predict(new_car_df[X_train.columns])\n",
        "print(\"\\nTahmini Fiyat:\", predicted_price[0])"
      ],
      "metadata": {
        "colab": {
          "base_uri": "https://localhost:8080/"
        },
        "id": "MrtcBmC3f9s0",
        "outputId": "da271801-0bed-45e3-9845-87fa1d344fe8"
      },
      "execution_count": null,
      "outputs": [
        {
          "output_type": "stream",
          "name": "stdout",
          "text": [
            "\n",
            "Tahmini Fiyat: 842000.0\n"
          ]
        }
      ]
    },
    {
      "cell_type": "markdown",
      "source": [
        "8. Modeli Kaydetme (Opsiyonel)\n"
      ],
      "metadata": {
        "id": "-3PIdAZVgAaA"
      }
    },
    {
      "cell_type": "code",
      "source": [
        "import joblib\n",
        "\n",
        "# Modeli kaydet\n",
        "joblib.dump(best_model, 'arac_fiyat_tahmini_modeli.pkl')\n",
        "\n",
        "# Kaydedilmiş modeli yükle\n",
        "loaded_model = joblib.load('arac_fiyat_tahmini_modeli.pkl')"
      ],
      "metadata": {
        "id": "TEjlAgVHgDBw"
      },
      "execution_count": null,
      "outputs": []
    }
  ]
}