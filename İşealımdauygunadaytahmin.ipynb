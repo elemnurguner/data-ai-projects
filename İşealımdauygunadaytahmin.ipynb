{
  "nbformat": 4,
  "nbformat_minor": 0,
  "metadata": {
    "colab": {
      "provenance": [],
      "authorship_tag": "ABX9TyPndam3U++sf9wui07bFLNm",
      "include_colab_link": true
    },
    "kernelspec": {
      "name": "python3",
      "display_name": "Python 3"
    },
    "language_info": {
      "name": "python"
    }
  },
  "cells": [
    {
      "cell_type": "markdown",
      "metadata": {
        "id": "view-in-github",
        "colab_type": "text"
      },
      "source": [
        "<a href=\"https://colab.research.google.com/github/elemnurguner/data-ai-projects/blob/main/%C4%B0%C5%9Feal%C4%B1mdauygunadaytahmin.ipynb\" target=\"_parent\"><img src=\"https://colab.research.google.com/assets/colab-badge.svg\" alt=\"Open In Colab\"/></a>"
      ]
    },
    {
      "cell_type": "code",
      "execution_count": 1,
      "metadata": {
        "id": "v9uQtBZ_hJMu"
      },
      "outputs": [],
      "source": [
        "import pandas as pd\n",
        "import numpy as np\n",
        "\n",
        "# Rastgelelik için seed belirleme\n",
        "np.random.seed(42)\n",
        "\n",
        "# Örnek veri boyutu\n",
        "n = 1000\n",
        "\n",
        "# Sentetik veri oluşturma\n",
        "data = {\n",
        "    # Demografik Bilgiler\n",
        "    \"Yaş\": np.random.randint(22, 50, n),\n",
        "    \"Cinsiyet\": np.random.choice([\"Erkek\", \"Kadın\"], n),\n",
        "    \"Eğitim Seviyesi\": np.random.choice([\"Lisans\", \"Yüksek Lisans\", \"Doktora\"], n, p=[0.6, 0.3, 0.1]),\n",
        "    \"Üniversite Türü\": np.random.choice([\"Devlet\", \"Vakıf\", \"Yurtdışı\"], n, p=[0.7, 0.2, 0.1]),\n",
        "\n",
        "    # Deneyim\n",
        "    \"İş Deneyimi (Yıl)\": np.random.randint(1, 20, n),\n",
        "    \"Önceki Şirket Sayısı\": np.random.randint(1, 5, n),\n",
        "    \"Son Pozisyon\": np.random.choice([\"Stajyer\", \"Mühendis\", \"Takım Lideri\", \"Yönetici\"], n),\n",
        "\n",
        "    # Teknik Beceriler\n",
        "    \"Python\": np.random.choice([0, 1], n, p=[0.3, 0.7]),\n",
        "    \"Java\": np.random.choice([0, 1], n, p=[0.6, 0.4]),\n",
        "    \"SQL\": np.random.choice([0, 1], n, p=[0.4, 0.6]),\n",
        "    \"Yapay Zeka Bilgisi\": np.random.choice([0, 1], n, p=[0.5, 0.5]),\n",
        "\n",
        "    # Soft Skills\n",
        "    \"Takım Çalışması\": np.random.randint(5, 10, n),\n",
        "    \"İletişim Becerileri\": np.random.randint(4, 10, n),\n",
        "\n",
        "    # Değerlendirme Metrikleri\n",
        "    \"Mülakat Puanı\": np.random.normal(70, 15, n).round(0).clip(0, 100),\n",
        "    \"Teknik Test Puanı\": np.random.normal(65, 20, n).round(0).clip(0, 100),\n",
        "}\n",
        "\n",
        "df = pd.DataFrame(data)\n",
        "\n",
        "# Hedef Değişken (Uygunluk) Oluşturma\n",
        "# Mantıksal kurallar ekleyerek gerçekçi bir hedef oluşturun:\n",
        "df[\"Uygunluk\"] = (\n",
        "    (df[\"Mülakat Puanı\"] > 75) &\n",
        "    (df[\"Teknik Test Puanı\"] > 60) &\n",
        "    (df[\"İş Deneyimi (Yıl)\"] > 3) &\n",
        "    (df[\"Python\"] == 1) &\n",
        "    (df[\"Takım Çalışması\"] > 7)\n",
        ").astype(int)\n",
        "\n",
        "# Gürültü ekleyerek gerçekçilik sağlama (10% rastgele hata)\n",
        "noise = np.random.choice([0, 1], n, p=[0.9, 0.1])\n",
        "df[\"Uygunluk\"] = df[\"Uygunluk\"] ^ noise  # XOR işlemi ile gürültü\n",
        "\n",
        "# Veriyi CSV'ye kaydetme\n",
        "df.to_csv(\"sentetik_is_alim_verisi.csv\", index=False)"
      ]
    },
    {
      "cell_type": "markdown",
      "source": [
        "4. Model Eğitimi için Kullanım\n",
        "Oluşturduğunuz veriyle bir sınıflandırma modeli (Random Forest, Logistic Regression) eğitebilirsiniz:"
      ],
      "metadata": {
        "id": "Jxm0mYyzj84r"
      }
    },
    {
      "cell_type": "code",
      "source": [
        "from sklearn.model_selection import train_test_split\n",
        "from sklearn.ensemble import RandomForestClassifier\n",
        "\n",
        "# Kategorik değişkenleri dönüştürme (One-Hot Encoding)\n",
        "df = pd.get_dummies(df, columns=[\"Cinsiyet\", \"Eğitim Seviyesi\", \"Üniversite Türü\", \"Son Pozisyon\"])\n",
        "\n",
        "# Özellikler ve hedef\n",
        "X = df.drop(\"Uygunluk\", axis=1)\n",
        "y = df[\"Uygunluk\"]\n",
        "\n",
        "# Veriyi bölme\n",
        "X_train, X_test, y_train, y_test = train_test_split(X, y, test_size=0.2)\n",
        "\n",
        "# Model eğitimi\n",
        "model = RandomForestClassifier()\n",
        "model.fit(X_train, y_train)\n",
        "\n",
        "# Test doğruluğu\n",
        "print(\"Doğruluk:\", model.score(X_test, y_test))"
      ],
      "metadata": {
        "colab": {
          "base_uri": "https://localhost:8080/"
        },
        "id": "sqq3hMAij9ct",
        "outputId": "4ecdad62-3759-480f-9d45-18e70a451dbc"
      },
      "execution_count": 2,
      "outputs": [
        {
          "output_type": "stream",
          "name": "stdout",
          "text": [
            "Doğruluk: 0.885\n"
          ]
        }
      ]
    },
    {
      "cell_type": "code",
      "source": [
        "from sklearn.metrics import classification_report, confusion_matrix\n",
        "\n",
        "y_pred = model.predict(X_test)\n",
        "print(classification_report(y_test, y_pred))\n",
        "print(\"Confusion Matrix:\\n\", confusion_matrix(y_test, y_pred))"
      ],
      "metadata": {
        "colab": {
          "base_uri": "https://localhost:8080/"
        },
        "id": "9XL3fNhwj91k",
        "outputId": "44460bbb-8ed0-4bd5-8d55-fd81afce5245"
      },
      "execution_count": 3,
      "outputs": [
        {
          "output_type": "stream",
          "name": "stdout",
          "text": [
            "              precision    recall  f1-score   support\n",
            "\n",
            "           0       0.88      1.00      0.94       172\n",
            "           1       1.00      0.18      0.30        28\n",
            "\n",
            "    accuracy                           0.89       200\n",
            "   macro avg       0.94      0.59      0.62       200\n",
            "weighted avg       0.90      0.89      0.85       200\n",
            "\n",
            "Confusion Matrix:\n",
            " [[172   0]\n",
            " [ 23   5]]\n"
          ]
        }
      ]
    },
    {
      "cell_type": "markdown",
      "source": [
        "2. Model Optimizasyonu\n"
      ],
      "metadata": {
        "id": "G6PmoY3Xks7U"
      }
    },
    {
      "cell_type": "code",
      "source": [
        "import matplotlib.pyplot as plt\n",
        "\n",
        "feature_importances = model.feature_importances_\n",
        "features = X.columns\n",
        "plt.barh(features, feature_importances)\n",
        "plt.title(\"Özellik Önem Dereceleri\")\n",
        "plt.show()"
      ],
      "metadata": {
        "colab": {
          "base_uri": "https://localhost:8080/",
          "height": 452
        },
        "id": "fJV5KX9PktmC",
        "outputId": "f17d60cf-0524-418e-caec-25ae34bf9287"
      },
      "execution_count": 4,
      "outputs": [
        {
          "output_type": "display_data",
          "data": {
            "text/plain": [
              "<Figure size 640x480 with 1 Axes>"
            ],
            "image/png": "[encoded data removed]"
          },
          "metadata": {}
        }
      ]
    },
    {
      "cell_type": "markdown",
      "source": [
        "1. XGBoost\n",
        "XGBoost, gradient boosting tabanlı yüksek performanslı bir kütüphanedir. İşe alım verinizdeki karmaşık ilişkileri yakalamak için idealdir."
      ],
      "metadata": {
        "id": "Uac87HKYmxlW"
      }
    },
    {
      "cell_type": "code",
      "source": [
        "from xgboost import XGBClassifier\n",
        "from sklearn.metrics import accuracy_score\n",
        "\n",
        "# Modeli tanımlama\n",
        "xgb_model = XGBClassifier(\n",
        "    n_estimators=100,\n",
        "    max_depth=3,\n",
        "    learning_rate=0.1,\n",
        "    random_state=42\n",
        ")\n",
        "\n",
        "# Eğitim\n",
        "xgb_model.fit(X_train, y_train)\n",
        "\n",
        "# Tahmin ve değerlendirme\n",
        "y_pred_xgb = xgb_model.predict(X_test)\n",
        "print(\"XGBoost Doğruluk:\", accuracy_score(y_test, y_pred_xgb))"
      ],
      "metadata": {
        "colab": {
          "base_uri": "https://localhost:8080/"
        },
        "id": "UxxXnQYFmyHC",
        "outputId": "fd05020f-9be8-41ee-f901-ce82ad18849c"
      },
      "execution_count": 5,
      "outputs": [
        {
          "output_type": "stream",
          "name": "stdout",
          "text": [
            "XGBoost Doğruluk: 0.88\n"
          ]
        }
      ]
    },
    {
      "cell_type": "markdown",
      "source": [
        "2. LightGBM\n",
        "LightGBM, XGBoost'a benzer ancak daha hızlı çalışır ve büyük veri setlerinde daha verimlidir."
      ],
      "metadata": {
        "id": "q1AGQ5Dpm1-Y"
      }
    },
    {
      "cell_type": "code",
      "source": [
        "from lightgbm import LGBMClassifier\n",
        "\n",
        "# Modeli tanımlama\n",
        "lgbm_model = LGBMClassifier(\n",
        "    n_estimators=100,\n",
        "    max_depth=3,\n",
        "    learning_rate=0.1,\n",
        "    random_state=42\n",
        ")\n",
        "\n",
        "# Eğitim\n",
        "lgbm_model.fit(X_train, y_train)\n",
        "\n",
        "# Tahmin ve değerlendirme\n",
        "y_pred_lgbm = lgbm_model.predict(X_test)\n",
        "print(\"LightGBM Doğruluk:\", accuracy_score(y_test, y_pred_lgbm))"
      ],
      "metadata": {
        "colab": {
          "base_uri": "https://localhost:8080/"
        },
        "id": "6LgWSnyym4H8",
        "outputId": "7dfee502-badd-4c0c-b10c-2cff22adad88"
      },
      "execution_count": 6,
      "outputs": [
        {
          "output_type": "stream",
          "name": "stdout",
          "text": [
            "[LightGBM] [Warning] Found whitespace in feature_names, replace with underlines\n",
            "[LightGBM] [Info] Number of positive: 129, number of negative: 671\n",
            "[LightGBM] [Info] Auto-choosing row-wise multi-threading, the overhead of testing was 0.000911 seconds.\n",
            "You can set `force_row_wise=true` to remove the overhead.\n",
            "And if memory is not enough, you can set `force_col_wise=true`.\n",
            "[LightGBM] [Info] Total Bins 238\n",
            "[LightGBM] [Info] Number of data points in the train set: 800, number of used features: 23\n",
            "[LightGBM] [Info] [binary:BoostFromScore]: pavg=0.161250 -> initscore=-1.648957\n",
            "[LightGBM] [Info] Start training from score -1.648957\n",
            "[LightGBM] [Warning] No further splits with positive gain, best gain: -inf\n",
            "[LightGBM] [Warning] No further splits with positive gain, best gain: -inf\n",
            "[LightGBM] [Warning] No further splits with positive gain, best gain: -inf\n",
            "[LightGBM] [Warning] No further splits with positive gain, best gain: -inf\n",
            "[LightGBM] [Warning] No further splits with positive gain, best gain: -inf\n",
            "[LightGBM] [Warning] No further splits with positive gain, best gain: -inf\n",
            "[LightGBM] [Warning] No further splits with positive gain, best gain: -inf\n",
            "[LightGBM] [Warning] No further splits with positive gain, best gain: -inf\n",
            "[LightGBM] [Warning] No further splits with positive gain, best gain: -inf\n",
            "[LightGBM] [Warning] No further splits with positive gain, best gain: -inf\n",
            "[LightGBM] [Warning] No further splits with positive gain, best gain: -inf\n",
            "[LightGBM] [Warning] No further splits with positive gain, best gain: -inf\n",
            "[LightGBM] [Warning] No further splits with positive gain, best gain: -inf\n",
            "[LightGBM] [Warning] No further splits with positive gain, best gain: -inf\n",
            "[LightGBM] [Warning] No further splits with positive gain, best gain: -inf\n",
            "[LightGBM] [Warning] No further splits with positive gain, best gain: -inf\n",
            "[LightGBM] [Warning] No further splits with positive gain, best gain: -inf\n",
            "[LightGBM] [Warning] No further splits with positive gain, best gain: -inf\n",
            "[LightGBM] [Warning] No further splits with positive gain, best gain: -inf\n",
            "[LightGBM] [Warning] No further splits with positive gain, best gain: -inf\n",
            "[LightGBM] [Warning] No further splits with positive gain, best gain: -inf\n",
            "[LightGBM] [Warning] No further splits with positive gain, best gain: -inf\n",
            "[LightGBM] [Warning] No further splits with positive gain, best gain: -inf\n",
            "[LightGBM] [Warning] No further splits with positive gain, best gain: -inf\n",
            "[LightGBM] [Warning] No further splits with positive gain, best gain: -inf\n",
            "[LightGBM] [Warning] No further splits with positive gain, best gain: -inf\n",
            "[LightGBM] [Warning] No further splits with positive gain, best gain: -inf\n",
            "[LightGBM] [Warning] No further splits with positive gain, best gain: -inf\n",
            "[LightGBM] [Warning] No further splits with positive gain, best gain: -inf\n",
            "[LightGBM] [Warning] No further splits with positive gain, best gain: -inf\n",
            "[LightGBM] [Warning] No further splits with positive gain, best gain: -inf\n",
            "[LightGBM] [Warning] No further splits with positive gain, best gain: -inf\n",
            "[LightGBM] [Warning] No further splits with positive gain, best gain: -inf\n",
            "[LightGBM] [Warning] No further splits with positive gain, best gain: -inf\n",
            "[LightGBM] [Warning] No further splits with positive gain, best gain: -inf\n",
            "[LightGBM] [Warning] No further splits with positive gain, best gain: -inf\n",
            "[LightGBM] [Warning] No further splits with positive gain, best gain: -inf\n",
            "[LightGBM] [Warning] No further splits with positive gain, best gain: -inf\n",
            "[LightGBM] [Warning] No further splits with positive gain, best gain: -inf\n",
            "[LightGBM] [Warning] No further splits with positive gain, best gain: -inf\n",
            "[LightGBM] [Warning] No further splits with positive gain, best gain: -inf\n",
            "[LightGBM] [Warning] No further splits with positive gain, best gain: -inf\n",
            "[LightGBM] [Warning] No further splits with positive gain, best gain: -inf\n",
            "[LightGBM] [Warning] No further splits with positive gain, best gain: -inf\n",
            "[LightGBM] [Warning] No further splits with positive gain, best gain: -inf\n",
            "[LightGBM] [Warning] No further splits with positive gain, best gain: -inf\n",
            "[LightGBM] [Warning] No further splits with positive gain, best gain: -inf\n",
            "[LightGBM] [Warning] No further splits with positive gain, best gain: -inf\n",
            "[LightGBM] [Warning] No further splits with positive gain, best gain: -inf\n",
            "[LightGBM] [Warning] No further splits with positive gain, best gain: -inf\n",
            "[LightGBM] [Warning] No further splits with positive gain, best gain: -inf\n",
            "[LightGBM] [Warning] No further splits with positive gain, best gain: -inf\n",
            "[LightGBM] [Warning] No further splits with positive gain, best gain: -inf\n",
            "[LightGBM] [Warning] No further splits with positive gain, best gain: -inf\n",
            "[LightGBM] [Warning] No further splits with positive gain, best gain: -inf\n",
            "[LightGBM] [Warning] No further splits with positive gain, best gain: -inf\n",
            "[LightGBM] [Warning] No further splits with positive gain, best gain: -inf\n",
            "[LightGBM] [Warning] No further splits with positive gain, best gain: -inf\n",
            "[LightGBM] [Warning] No further splits with positive gain, best gain: -inf\n",
            "[LightGBM] [Warning] No further splits with positive gain, best gain: -inf\n",
            "[LightGBM] [Warning] No further splits with positive gain, best gain: -inf\n",
            "[LightGBM] [Warning] No further splits with positive gain, best gain: -inf\n",
            "[LightGBM] [Warning] No further splits with positive gain, best gain: -inf\n",
            "[LightGBM] [Warning] No further splits with positive gain, best gain: -inf\n",
            "[LightGBM] [Warning] No further splits with positive gain, best gain: -inf\n",
            "[LightGBM] [Warning] No further splits with positive gain, best gain: -inf\n",
            "[LightGBM] [Warning] No further splits with positive gain, best gain: -inf\n",
            "[LightGBM] [Warning] No further splits with positive gain, best gain: -inf\n",
            "[LightGBM] [Warning] No further splits with positive gain, best gain: -inf\n",
            "[LightGBM] [Warning] No further splits with positive gain, best gain: -inf\n",
            "[LightGBM] [Warning] No further splits with positive gain, best gain: -inf\n",
            "[LightGBM] [Warning] No further splits with positive gain, best gain: -inf\n",
            "[LightGBM] [Warning] No further splits with positive gain, best gain: -inf\n",
            "[LightGBM] [Warning] No further splits with positive gain, best gain: -inf\n",
            "[LightGBM] [Warning] No further splits with positive gain, best gain: -inf\n",
            "[LightGBM] [Warning] No further splits with positive gain, best gain: -inf\n",
            "[LightGBM] [Warning] No further splits with positive gain, best gain: -inf\n",
            "[LightGBM] [Warning] No further splits with positive gain, best gain: -inf\n",
            "[LightGBM] [Warning] No further splits with positive gain, best gain: -inf\n",
            "[LightGBM] [Warning] No further splits with positive gain, best gain: -inf\n",
            "[LightGBM] [Warning] No further splits with positive gain, best gain: -inf\n",
            "[LightGBM] [Warning] No further splits with positive gain, best gain: -inf\n",
            "[LightGBM] [Warning] No further splits with positive gain, best gain: -inf\n",
            "[LightGBM] [Warning] No further splits with positive gain, best gain: -inf\n",
            "[LightGBM] [Warning] No further splits with positive gain, best gain: -inf\n",
            "[LightGBM] [Warning] No further splits with positive gain, best gain: -inf\n",
            "[LightGBM] [Warning] No further splits with positive gain, best gain: -inf\n",
            "[LightGBM] [Warning] No further splits with positive gain, best gain: -inf\n",
            "[LightGBM] [Warning] No further splits with positive gain, best gain: -inf\n",
            "[LightGBM] [Warning] No further splits with positive gain, best gain: -inf\n",
            "[LightGBM] [Warning] No further splits with positive gain, best gain: -inf\n",
            "[LightGBM] [Warning] No further splits with positive gain, best gain: -inf\n",
            "[LightGBM] [Warning] No further splits with positive gain, best gain: -inf\n",
            "[LightGBM] [Warning] No further splits with positive gain, best gain: -inf\n",
            "[LightGBM] [Warning] No further splits with positive gain, best gain: -inf\n",
            "[LightGBM] [Warning] No further splits with positive gain, best gain: -inf\n",
            "[LightGBM] [Warning] No further splits with positive gain, best gain: -inf\n",
            "[LightGBM] [Warning] No further splits with positive gain, best gain: -inf\n",
            "[LightGBM] [Warning] No further splits with positive gain, best gain: -inf\n",
            "[LightGBM] [Warning] No further splits with positive gain, best gain: -inf\n",
            "LightGBM Doğruluk: 0.88\n"
          ]
        }
      ]
    },
    {
      "cell_type": "markdown",
      "source": [
        "3. Logistic Regression\n",
        "Basit ve yorumlanabilir bir model. Özelliklerin lineer ilişkilerini yakalamak için kullanılır."
      ],
      "metadata": {
        "id": "kys45uBFm5_b"
      }
    },
    {
      "cell_type": "code",
      "source": [
        "from sklearn.linear_model import LogisticRegression\n",
        "\n",
        "# Modeli tanımlama\n",
        "lr_model = LogisticRegression(\n",
        "    max_iter=1000,  # Yakınsama için yeterli iterasyon\n",
        "    random_state=42\n",
        ")\n",
        "\n",
        "# Eğitim\n",
        "lr_model.fit(X_train, y_train)\n",
        "\n",
        "# Tahmin ve değerlendirme\n",
        "y_pred_lr = lr_model.predict(X_test)\n",
        "print(\"Logistic Regression Doğruluk:\", accuracy_score(y_test, y_pred_lr))"
      ],
      "metadata": {
        "colab": {
          "base_uri": "https://localhost:8080/"
        },
        "id": "WleRk0Zgm8Jm",
        "outputId": "010a50a3-04f5-4e41-90bc-68aeb18f8bda"
      },
      "execution_count": 7,
      "outputs": [
        {
          "output_type": "stream",
          "name": "stdout",
          "text": [
            "Logistic Regression Doğruluk: 0.865\n"
          ]
        }
      ]
    },
    {
      "cell_type": "markdown",
      "source": [
        "4. Derin Öğrenme (TensorFlow/Keras)\n",
        "Basit bir sinir ağı modeli. Sentetik veride aşırı öğrenmeye dikkat"
      ],
      "metadata": {
        "id": "8BUcT0QjnAMw"
      }
    },
    {
      "cell_type": "code",
      "source": [
        "import tensorflow as tf\n",
        "from tensorflow.keras.models import Sequential\n",
        "from tensorflow.keras.layers import Dense, Dropout\n",
        "\n",
        "# Model mimarisi\n",
        "model_nn = Sequential([\n",
        "    Dense(64, activation='relu', input_shape=(X_train.shape[1],)),\n",
        "    Dropout(0.2),  # Aşırı öğrenmeyi önlemek için\n",
        "    Dense(32, activation='relu'),\n",
        "    Dense(1, activation='sigmoid')\n",
        "])\n",
        "\n",
        "# Modeli derleme\n",
        "model_nn.compile(\n",
        "    optimizer='adam',\n",
        "    loss='binary_crossentropy',\n",
        "    metrics=['accuracy']\n",
        ")\n",
        "\n",
        "# Eğitim\n",
        "history = model_nn.fit(\n",
        "    X_train, y_train,\n",
        "    epochs=50,\n",
        "    batch_size=32,\n",
        "    validation_split=0.2,\n",
        "    verbose=0  # Çıktıyı gizlemek için\n",
        ")\n",
        "\n",
        "# Test doğruluğu\n",
        "loss, accuracy = model_nn.evaluate(X_test, y_test, verbose=0)\n",
        "print(\"Sinir Ağı Doğruluk:\", accuracy)"
      ],
      "metadata": {
        "colab": {
          "base_uri": "https://localhost:8080/"
        },
        "id": "GFN6sTf5nBFi",
        "outputId": "f8d70b78-1259-4483-d399-736f9914911e"
      },
      "execution_count": 8,
      "outputs": [
        {
          "output_type": "stream",
          "name": "stderr",
          "text": [
            "/usr/local/lib/python3.11/dist-packages/keras/src/layers/core/dense.py:87: UserWarning: Do not pass an `input_shape`/`input_dim` argument to a layer. When using Sequential models, prefer using an `Input(shape)` object as the first layer in the model instead.\n",
            "  super().__init__(activity_regularizer=activity_regularizer, **kwargs)\n"
          ]
        },
        {
          "output_type": "stream",
          "name": "stdout",
          "text": [
            "Sinir Ağı Doğruluk: 0.8600000143051147\n"
          ]
        }
      ]
    },
    {
      "cell_type": "markdown",
      "source": [
        "5. Tüm Modellerin Karşılaştırılması\n"
      ],
      "metadata": {
        "id": "NLBAvhoZnGJ6"
      }
    },
    {
      "cell_type": "code",
      "source": [
        "models = {\n",
        "    \"Random Forest\": model,  # Önceki adımdaki model\n",
        "    \"XGBoost\": xgb_model,\n",
        "    \"LightGBM\": lgbm_model,\n",
        "    \"Logistic Regression\": lr_model,\n",
        "    \"Neural Network\": accuracy  # Sinir ağı doğruluğunu elle ekleyin\n",
        "}\n",
        "\n",
        "for name, model in models.items():\n",
        "    if name == \"Neural Network\":\n",
        "        print(f\"{name}: {model:.3f}\")\n",
        "    else:\n",
        "        y_pred = model.predict(X_test)\n",
        "        acc = accuracy_score(y_test, y_pred)\n",
        "        print(f\"{name}: {acc:.3f}\")"
      ],
      "metadata": {
        "colab": {
          "base_uri": "https://localhost:8080/"
        },
        "id": "uqDReuUhnHC_",
        "outputId": "c2e70c22-9973-4dd3-bdf4-684bb2e50920"
      },
      "execution_count": 9,
      "outputs": [
        {
          "output_type": "stream",
          "name": "stdout",
          "text": [
            "Random Forest: 0.885\n",
            "XGBoost: 0.880\n",
            "LightGBM: 0.880\n",
            "Logistic Regression: 0.865\n",
            "Neural Network: 0.860\n"
          ]
        }
      ]
    }
  ]
}