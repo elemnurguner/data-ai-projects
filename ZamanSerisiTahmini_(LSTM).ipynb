{
  "nbformat": 4,
  "nbformat_minor": 0,
  "metadata": {
    "colab": {
      "provenance": [],
      "authorship_tag": "ABX9TyN3Uq58OdsDS+ogwd8R8EiZ",
      "include_colab_link": true
    },
    "kernelspec": {
      "name": "python3",
      "display_name": "Python 3"
    },
    "language_info": {
      "name": "python"
    }
  },
  "cells": [
    {
      "cell_type": "markdown",
      "metadata": {
        "id": "view-in-github",
        "colab_type": "text"
      },
      "source": [
        "<a href=\"https://colab.research.google.com/github/elemnurguner/data-ai-projects/blob/main/ZamanSerisiTahmini_(LSTM).ipynb\" target=\"_parent\"><img src=\"https://colab.research.google.com/assets/colab-badge.svg\" alt=\"Open In Colab\"/></a>"
      ]
    },
    {
      "cell_type": "markdown",
      "source": [
        "Amaç: Zaman serisi verilerini kullanarak gelecekteki değerleri tahmin etme.\n",
        "•\tVeri Seti: Hisse senedi fiyatları veya hava durumu verisi.\n",
        "•\tAdımlar:\n",
        "1.\tVeriyi yükle ve ön işleme yap.\n",
        "2.\tLSTM veya GRU gibi RNN modelleri kullan.\n",
        "3.\tModeli eğit ve tahminler yap.\n",
        "4.\tTahminleri gerçek değerlerle karşılaştır."
      ],
      "metadata": {
        "id": "kEOmPg-HzMmC"
      }
    },
    {
      "cell_type": "code",
      "source": [
        "import numpy as np\n",
        "import pandas as pd\n",
        "import matplotlib.pyplot as plt\n",
        "from sklearn.preprocessing import MinMaxScaler\n",
        "from tensorflow.keras.models import Sequential\n",
        "from tensorflow.keras.layers import Dense, LSTM"
      ],
      "metadata": {
        "id": "i5asmlB9zPzj"
      },
      "execution_count": 2,
      "outputs": []
    },
    {
      "cell_type": "markdown",
      "source": [
        " Veriyi Yükleme ve Ön İşleme\n",
        "Örnek olarak hisse senedi fiyatları verisini kullanacağız. Veriyi yükleyip ön işleme adımlarını gerçekleştirelim"
      ],
      "metadata": {
        "id": "iM2KTacAzUBn"
      }
    },
    {
      "cell_type": "code",
      "source": [
        "# Örnek veri setini yükleme (örneğin, bir CSV dosyası)\n",
        "# Burada 'your_dataset.csv' yerine kendi veri setinizin yolunu verin.\n",
        "url = \"https://raw.githubusercontent.com/jbrownlee/Datasets/master/airline-passengers.csv\"\n",
        "data = pd.read_csv(url, usecols=[1], engine='python')\n",
        "\n",
        "# Veriyi numpy array'e dönüştürme\n",
        "dataset = data.values\n",
        "dataset = dataset.astype('float32')\n",
        "\n",
        "# Veriyi normalize etme (0 ile 1 arasında)\n",
        "scaler = MinMaxScaler(feature_range=(0, 1))\n",
        "dataset = scaler.fit_transform(dataset)\n",
        "\n",
        "# Veriyi eğitim ve test setlerine ayırma\n",
        "train_size = int(len(dataset) * 0.67)\n",
        "test_size = len(dataset) - train_size\n",
        "train, test = dataset[0:train_size,:], dataset[train_size:len(dataset),:]"
      ],
      "metadata": {
        "id": "_CZqyCb1zU8v"
      },
      "execution_count": 3,
      "outputs": []
    },
    {
      "cell_type": "markdown",
      "source": [
        " Veriyi LSTM için Hazırlama\n",
        "LSTM modeli için veriyi uygun formata getirelim."
      ],
      "metadata": {
        "id": "0Xaz2Fo80ySx"
      }
    },
    {
      "cell_type": "code",
      "source": [
        "# Veriyi zaman serisi formatına dönüştürme fonksiyonu\n",
        "def create_dataset(dataset, look_back=1):\n",
        "    dataX, dataY = [], []\n",
        "    for i in range(len(dataset)-look_back-1):\n",
        "        a = dataset[i:(i+look_back), 0]\n",
        "        dataX.append(a)\n",
        "        dataY.append(dataset[i + look_back, 0])\n",
        "    return np.array(dataX), np.array(dataY)\n",
        "\n",
        "# Zaman serisi verisini oluşturma\n",
        "look_back = 1\n",
        "trainX, trainY = create_dataset(train, look_back)\n",
        "testX, testY = create_dataset(test, look_back)\n",
        "\n",
        "# LSTM için veriyi yeniden şekillendirme [samples, time steps, features]\n",
        "trainX = np.reshape(trainX, (trainX.shape[0], 1, trainX.shape[1]))\n",
        "testX = np.reshape(testX, (testX.shape[0], 1, testX.shape[1]))"
      ],
      "metadata": {
        "id": "W5MlxKDp0zQd"
      },
      "execution_count": 4,
      "outputs": []
    },
    {
      "cell_type": "markdown",
      "source": [
        "LSTM Modelini Oluşturma ve Eğitme\n",
        "LSTM modelini oluşturup eğitelim."
      ],
      "metadata": {
        "id": "JE_Vopkl01J6"
      }
    },
    {
      "cell_type": "code",
      "source": [
        "# LSTM modelini oluşturma\n",
        "model = Sequential()\n",
        "model.add(LSTM(4, input_shape=(1, look_back)))\n",
        "model.add(Dense(1))\n",
        "model.compile(loss='mean_squared_error', optimizer='adam')\n",
        "model.fit(trainX, trainY, epochs=100, batch_size=1, verbose=2)"
      ],
      "metadata": {
        "colab": {
          "base_uri": "https://localhost:8080/"
        },
        "id": "46Nk_oIQ02Bl",
        "outputId": "0574f83e-92fb-4817-f519-40df8a638067"
      },
      "execution_count": 5,
      "outputs": [
        {
          "output_type": "stream",
          "name": "stdout",
          "text": [
            "Epoch 1/100\n"
          ]
        },
        {
          "output_type": "stream",
          "name": "stderr",
          "text": [
            "/usr/local/lib/python3.11/dist-packages/keras/src/layers/rnn/rnn.py:200: UserWarning: Do not pass an `input_shape`/`input_dim` argument to a layer. When using Sequential models, prefer using an `Input(shape)` object as the first layer in the model instead.\n",
            "  super().__init__(**kwargs)\n"
          ]
        },
        {
          "output_type": "stream",
          "name": "stdout",
          "text": [
            "94/94 - 2s - 23ms/step - loss: 0.0483\n",
            "Epoch 2/100\n",
            "94/94 - 0s - 3ms/step - loss: 0.0225\n",
            "Epoch 3/100\n",
            "94/94 - 0s - 3ms/step - loss: 0.0166\n",
            "Epoch 4/100\n",
            "94/94 - 0s - 2ms/step - loss: 0.0150\n",
            "Epoch 5/100\n",
            "94/94 - 0s - 3ms/step - loss: 0.0137\n",
            "Epoch 6/100\n",
            "94/94 - 0s - 2ms/step - loss: 0.0127\n",
            "Epoch 7/100\n",
            "94/94 - 0s - 2ms/step - loss: 0.0114\n",
            "Epoch 8/100\n",
            "94/94 - 0s - 3ms/step - loss: 0.0102\n",
            "Epoch 9/100\n",
            "94/94 - 0s - 2ms/step - loss: 0.0091\n",
            "Epoch 10/100\n",
            "94/94 - 0s - 3ms/step - loss: 0.0081\n",
            "Epoch 11/100\n",
            "94/94 - 0s - 2ms/step - loss: 0.0072\n",
            "Epoch 12/100\n",
            "94/94 - 0s - 3ms/step - loss: 0.0064\n",
            "Epoch 13/100\n",
            "94/94 - 0s - 3ms/step - loss: 0.0054\n",
            "Epoch 14/100\n",
            "94/94 - 0s - 3ms/step - loss: 0.0048\n",
            "Epoch 15/100\n",
            "94/94 - 0s - 3ms/step - loss: 0.0042\n",
            "Epoch 16/100\n",
            "94/94 - 0s - 3ms/step - loss: 0.0036\n",
            "Epoch 17/100\n",
            "94/94 - 0s - 2ms/step - loss: 0.0032\n",
            "Epoch 18/100\n",
            "94/94 - 0s - 2ms/step - loss: 0.0029\n",
            "Epoch 19/100\n",
            "94/94 - 0s - 2ms/step - loss: 0.0027\n",
            "Epoch 20/100\n",
            "94/94 - 0s - 3ms/step - loss: 0.0024\n",
            "Epoch 21/100\n",
            "94/94 - 0s - 3ms/step - loss: 0.0024\n",
            "Epoch 22/100\n",
            "94/94 - 0s - 3ms/step - loss: 0.0023\n",
            "Epoch 23/100\n",
            "94/94 - 0s - 2ms/step - loss: 0.0022\n",
            "Epoch 24/100\n",
            "94/94 - 0s - 2ms/step - loss: 0.0021\n",
            "Epoch 25/100\n",
            "94/94 - 0s - 3ms/step - loss: 0.0021\n",
            "Epoch 26/100\n",
            "94/94 - 0s - 2ms/step - loss: 0.0021\n",
            "Epoch 27/100\n",
            "94/94 - 0s - 3ms/step - loss: 0.0021\n",
            "Epoch 28/100\n",
            "94/94 - 0s - 3ms/step - loss: 0.0021\n",
            "Epoch 29/100\n",
            "94/94 - 0s - 3ms/step - loss: 0.0021\n",
            "Epoch 30/100\n",
            "94/94 - 0s - 3ms/step - loss: 0.0021\n",
            "Epoch 31/100\n",
            "94/94 - 0s - 2ms/step - loss: 0.0021\n",
            "Epoch 32/100\n",
            "94/94 - 0s - 3ms/step - loss: 0.0021\n",
            "Epoch 33/100\n",
            "94/94 - 0s - 4ms/step - loss: 0.0021\n",
            "Epoch 34/100\n",
            "94/94 - 1s - 6ms/step - loss: 0.0021\n",
            "Epoch 35/100\n",
            "94/94 - 0s - 3ms/step - loss: 0.0021\n",
            "Epoch 36/100\n",
            "94/94 - 0s - 4ms/step - loss: 0.0021\n",
            "Epoch 37/100\n",
            "94/94 - 1s - 5ms/step - loss: 0.0021\n",
            "Epoch 38/100\n",
            "94/94 - 0s - 2ms/step - loss: 0.0021\n",
            "Epoch 39/100\n",
            "94/94 - 0s - 3ms/step - loss: 0.0021\n",
            "Epoch 40/100\n",
            "94/94 - 0s - 3ms/step - loss: 0.0021\n",
            "Epoch 41/100\n",
            "94/94 - 0s - 2ms/step - loss: 0.0021\n",
            "Epoch 42/100\n",
            "94/94 - 0s - 2ms/step - loss: 0.0021\n",
            "Epoch 43/100\n",
            "94/94 - 0s - 3ms/step - loss: 0.0021\n",
            "Epoch 44/100\n",
            "94/94 - 0s - 3ms/step - loss: 0.0021\n",
            "Epoch 45/100\n",
            "94/94 - 0s - 3ms/step - loss: 0.0021\n",
            "Epoch 46/100\n",
            "94/94 - 0s - 3ms/step - loss: 0.0021\n",
            "Epoch 47/100\n",
            "94/94 - 0s - 2ms/step - loss: 0.0021\n",
            "Epoch 48/100\n",
            "94/94 - 0s - 3ms/step - loss: 0.0021\n",
            "Epoch 49/100\n",
            "94/94 - 0s - 3ms/step - loss: 0.0021\n",
            "Epoch 50/100\n",
            "94/94 - 0s - 2ms/step - loss: 0.0021\n",
            "Epoch 51/100\n",
            "94/94 - 0s - 3ms/step - loss: 0.0021\n",
            "Epoch 52/100\n",
            "94/94 - 0s - 3ms/step - loss: 0.0021\n",
            "Epoch 53/100\n",
            "94/94 - 0s - 3ms/step - loss: 0.0021\n",
            "Epoch 54/100\n",
            "94/94 - 0s - 2ms/step - loss: 0.0021\n",
            "Epoch 55/100\n",
            "94/94 - 0s - 2ms/step - loss: 0.0021\n",
            "Epoch 56/100\n",
            "94/94 - 0s - 2ms/step - loss: 0.0021\n",
            "Epoch 57/100\n",
            "94/94 - 0s - 2ms/step - loss: 0.0021\n",
            "Epoch 58/100\n",
            "94/94 - 0s - 3ms/step - loss: 0.0021\n",
            "Epoch 59/100\n",
            "94/94 - 0s - 2ms/step - loss: 0.0021\n",
            "Epoch 60/100\n",
            "94/94 - 0s - 3ms/step - loss: 0.0021\n",
            "Epoch 61/100\n",
            "94/94 - 0s - 3ms/step - loss: 0.0021\n",
            "Epoch 62/100\n",
            "94/94 - 0s - 2ms/step - loss: 0.0021\n",
            "Epoch 63/100\n",
            "94/94 - 0s - 3ms/step - loss: 0.0020\n",
            "Epoch 64/100\n",
            "94/94 - 0s - 3ms/step - loss: 0.0021\n",
            "Epoch 65/100\n",
            "94/94 - 0s - 3ms/step - loss: 0.0021\n",
            "Epoch 66/100\n",
            "94/94 - 0s - 2ms/step - loss: 0.0021\n",
            "Epoch 67/100\n",
            "94/94 - 0s - 3ms/step - loss: 0.0020\n",
            "Epoch 68/100\n",
            "94/94 - 0s - 3ms/step - loss: 0.0022\n",
            "Epoch 69/100\n",
            "94/94 - 0s - 3ms/step - loss: 0.0022\n",
            "Epoch 70/100\n",
            "94/94 - 0s - 3ms/step - loss: 0.0021\n",
            "Epoch 71/100\n",
            "94/94 - 0s - 3ms/step - loss: 0.0021\n",
            "Epoch 72/100\n",
            "94/94 - 0s - 2ms/step - loss: 0.0020\n",
            "Epoch 73/100\n",
            "94/94 - 0s - 2ms/step - loss: 0.0021\n",
            "Epoch 74/100\n",
            "94/94 - 0s - 3ms/step - loss: 0.0021\n",
            "Epoch 75/100\n",
            "94/94 - 0s - 4ms/step - loss: 0.0020\n",
            "Epoch 76/100\n",
            "94/94 - 0s - 3ms/step - loss: 0.0022\n",
            "Epoch 77/100\n",
            "94/94 - 0s - 3ms/step - loss: 0.0021\n",
            "Epoch 78/100\n",
            "94/94 - 1s - 7ms/step - loss: 0.0021\n",
            "Epoch 79/100\n",
            "94/94 - 0s - 3ms/step - loss: 0.0020\n",
            "Epoch 80/100\n",
            "94/94 - 0s - 3ms/step - loss: 0.0021\n",
            "Epoch 81/100\n",
            "94/94 - 0s - 2ms/step - loss: 0.0021\n",
            "Epoch 82/100\n",
            "94/94 - 0s - 2ms/step - loss: 0.0021\n",
            "Epoch 83/100\n",
            "94/94 - 0s - 3ms/step - loss: 0.0020\n",
            "Epoch 84/100\n",
            "94/94 - 0s - 3ms/step - loss: 0.0021\n",
            "Epoch 85/100\n",
            "94/94 - 0s - 3ms/step - loss: 0.0020\n",
            "Epoch 86/100\n",
            "94/94 - 0s - 3ms/step - loss: 0.0021\n",
            "Epoch 87/100\n",
            "94/94 - 0s - 3ms/step - loss: 0.0021\n",
            "Epoch 88/100\n",
            "94/94 - 0s - 3ms/step - loss: 0.0021\n",
            "Epoch 89/100\n",
            "94/94 - 0s - 3ms/step - loss: 0.0020\n",
            "Epoch 90/100\n",
            "94/94 - 0s - 3ms/step - loss: 0.0020\n",
            "Epoch 91/100\n",
            "94/94 - 0s - 2ms/step - loss: 0.0021\n",
            "Epoch 92/100\n",
            "94/94 - 0s - 3ms/step - loss: 0.0021\n",
            "Epoch 93/100\n",
            "94/94 - 0s - 3ms/step - loss: 0.0020\n",
            "Epoch 94/100\n",
            "94/94 - 0s - 2ms/step - loss: 0.0020\n",
            "Epoch 95/100\n",
            "94/94 - 0s - 3ms/step - loss: 0.0020\n",
            "Epoch 96/100\n",
            "94/94 - 0s - 2ms/step - loss: 0.0021\n",
            "Epoch 97/100\n",
            "94/94 - 0s - 2ms/step - loss: 0.0022\n",
            "Epoch 98/100\n",
            "94/94 - 0s - 3ms/step - loss: 0.0020\n",
            "Epoch 99/100\n",
            "94/94 - 0s - 3ms/step - loss: 0.0020\n",
            "Epoch 100/100\n",
            "94/94 - 0s - 3ms/step - loss: 0.0020\n"
          ]
        },
        {
          "output_type": "execute_result",
          "data": {
            "text/plain": [
              "<keras.src.callbacks.history.History at 0x7de25b6fce10>"
            ]
          },
          "metadata": {},
          "execution_count": 5
        }
      ]
    },
    {
      "cell_type": "markdown",
      "source": [
        " Tahminler Yapma ve Modeli Değerlendirme\n",
        "Modeli kullanarak tahminler yapalım ve gerçek değerlerle karşılaştıralım."
      ],
      "metadata": {
        "id": "K6CXF51Z08AR"
      }
    },
    {
      "cell_type": "code",
      "source": [
        "# Tahminler yapma\n",
        "trainPredict = model.predict(trainX)\n",
        "testPredict = model.predict(testX)\n",
        "\n",
        "# Tahminleri tersine normalize etme\n",
        "trainPredict = scaler.inverse_transform(trainPredict)\n",
        "trainY = scaler.inverse_transform([trainY])\n",
        "testPredict = scaler.inverse_transform(testPredict)\n",
        "testY = scaler.inverse_transform([testY])\n",
        "\n",
        "# RMSE (Root Mean Squared Error) hesaplama\n",
        "import math\n",
        "from sklearn.metrics import mean_squared_error\n",
        "\n",
        "trainScore = math.sqrt(mean_squared_error(trainY[0], trainPredict[:,0]))\n",
        "print('Train Score: %.2f RMSE' % (trainScore))\n",
        "testScore = math.sqrt(mean_squared_error(testY[0], testPredict[:,0]))\n",
        "print('Test Score: %.2f RMSE' % (testScore))\n",
        "\n",
        "# Tahminleri görselleştirme\n",
        "trainPredictPlot = np.empty_like(dataset)\n",
        "trainPredictPlot[:, :] = np.nan\n",
        "trainPredictPlot[look_back:len(trainPredict)+look_back, :] = trainPredict\n",
        "\n",
        "testPredictPlot = np.empty_like(dataset)\n",
        "testPredictPlot[:, :] = np.nan\n",
        "testPredictPlot[len(trainPredict)+(look_back*2)+1:len(dataset)-1, :] = testPredict\n",
        "\n",
        "plt.plot(scaler.inverse_transform(dataset))\n",
        "plt.plot(trainPredictPlot)\n",
        "plt.plot(testPredictPlot)\n",
        "plt.show()"
      ],
      "metadata": {
        "colab": {
          "base_uri": "https://localhost:8080/",
          "height": 499
        },
        "id": "ayE_ttwl09XW",
        "outputId": "6d46f6bf-45ba-41ff-83e9-947114ccf951"
      },
      "execution_count": 6,
      "outputs": [
        {
          "output_type": "stream",
          "name": "stdout",
          "text": [
            "\u001b[1m3/3\u001b[0m \u001b[32m━━━━━━━━━━━━━━━━━━━━\u001b[0m\u001b[37m\u001b[0m \u001b[1m0s\u001b[0m 93ms/step\n",
            "\u001b[1m2/2\u001b[0m \u001b[32m━━━━━━━━━━━━━━━━━━━━\u001b[0m\u001b[37m\u001b[0m \u001b[1m0s\u001b[0m 26ms/step\n",
            "Train Score: 23.57 RMSE\n",
            "Test Score: 47.74 RMSE\n"
          ]
        },
        {
          "output_type": "display_data",
          "data": {
            "text/plain": [
              "<Figure size 640x480 with 1 Axes>"
            ],
            "image/png": "[encoded data removed]"
          },
          "metadata": {}
        }
      ]
    },
    {
      "cell_type": "markdown",
      "source": [
        " Sonuçları Değerlendirme\n",
        "Yukarıdaki kodları çalıştırdıktan sonra, modelin eğitim ve test verileri üzerindeki performansını RMSE (Root Mean Squared Error) ile değerlendirebilir ve tahminleri görselleştirebilirsiniz."
      ],
      "metadata": {
        "id": "UWK-bSE01AMn"
      }
    },
    {
      "cell_type": "code",
      "source": [
        "def create_dataset(dataset, look_back=1):\n",
        "    dataX, dataY = [], []\n",
        "    for i in range(len(dataset) - look_back):\n",
        "        a = dataset[i:(i + look_back), 0]  # look_back kadar geriye bak\n",
        "        dataX.append(a)\n",
        "        dataY.append(dataset[i + look_back, 0])  # Bir sonraki değer\n",
        "    return np.array(dataX), np.array(dataY)"
      ],
      "metadata": {
        "id": "lt-5_oer4elz"
      },
      "execution_count": 7,
      "outputs": []
    },
    {
      "cell_type": "markdown",
      "source": [
        " trainX ve trainY Boyutlarını Kontrol Etme\n",
        "create_dataset fonksiyonunu çağırdıktan sonra, trainX ve trainY'nin boyutlarını kontrol edin:"
      ],
      "metadata": {
        "id": "MmhZnbef4wih"
      }
    },
    {
      "cell_type": "code",
      "source": [
        "look_back = 1  # Örnek olarak look_back = 1 kullanalım\n",
        "trainX, trainY = create_dataset(train, look_back)\n",
        "testX, testY = create_dataset(test, look_back)\n",
        "\n",
        "print(\"trainX shape:\", trainX.shape)\n",
        "print(\"trainY shape:\", trainY.shape)\n",
        "print(\"testX shape:\", testX.shape)\n",
        "print(\"testY shape:\", testY.shape)"
      ],
      "metadata": {
        "colab": {
          "base_uri": "https://localhost:8080/"
        },
        "id": "m-EBdnRr4x4H",
        "outputId": "97ae7e53-4343-4f79-e83e-3a72fd83c687"
      },
      "execution_count": 8,
      "outputs": [
        {
          "output_type": "stream",
          "name": "stdout",
          "text": [
            "trainX shape: (95, 1)\n",
            "trainY shape: (95,)\n",
            "testX shape: (47, 1)\n",
            "testY shape: (47,)\n"
          ]
        }
      ]
    },
    {
      "cell_type": "markdown",
      "source": [
        " LSTM için Veriyi Yeniden Şekillendirme\n",
        "LSTM modeli, girdi verisini (samples, time_steps, features) formatında bekler. Bu nedenle, trainX ve testX'i yeniden şekillendirmelisiniz:"
      ],
      "metadata": {
        "id": "zkfqdGrU45vu"
      }
    },
    {
      "cell_type": "code",
      "source": [
        "trainX = np.reshape(trainX, (trainX.shape[0], 1, trainX.shape[1]))\n",
        "testX = np.reshape(testX, (testX.shape[0], 1, testX.shape[1]))\n",
        "\n",
        "print(\"Reshaped trainX shape:\", trainX.shape)\n",
        "print(\"Reshaped testX shape:\", testX.shape)"
      ],
      "metadata": {
        "colab": {
          "base_uri": "https://localhost:8080/"
        },
        "id": "g7uRgxaS45ec",
        "outputId": "b8be4aa8-f67f-4658-c32f-398d55db3526"
      },
      "execution_count": 9,
      "outputs": [
        {
          "output_type": "stream",
          "name": "stdout",
          "text": [
            "Reshaped trainX shape: (95, 1, 1)\n",
            "Reshaped testX shape: (47, 1, 1)\n"
          ]
        }
      ]
    },
    {
      "cell_type": "markdown",
      "source": [
        "Modeli Eğitme\n",
        "Artık veri hazır olduğuna göre, modeli eğitebilirsiniz:"
      ],
      "metadata": {
        "id": "1Yvk5x0K5AcX"
      }
    },
    {
      "cell_type": "code",
      "source": [
        "model = Sequential()\n",
        "model.add(LSTM(4, input_shape=(1, look_back)))\n",
        "model.add(Dense(1))\n",
        "model.compile(loss='mean_squared_error', optimizer='adam')\n",
        "\n",
        "model.fit(trainX, trainY, epochs=200, batch_size=1, verbose=2)"
      ],
      "metadata": {
        "colab": {
          "base_uri": "https://localhost:8080/"
        },
        "id": "EDrC8hsX5BhK",
        "outputId": "d86d1596-ad11-4dc0-c0a5-e1903ca91ced"
      },
      "execution_count": 10,
      "outputs": [
        {
          "output_type": "stream",
          "name": "stdout",
          "text": [
            "Epoch 1/200\n"
          ]
        },
        {
          "output_type": "stream",
          "name": "stderr",
          "text": [
            "/usr/local/lib/python3.11/dist-packages/keras/src/layers/rnn/rnn.py:200: UserWarning: Do not pass an `input_shape`/`input_dim` argument to a layer. When using Sequential models, prefer using an `Input(shape)` object as the first layer in the model instead.\n",
            "  super().__init__(**kwargs)\n"
          ]
        },
        {
          "output_type": "stream",
          "name": "stdout",
          "text": [
            "95/95 - 2s - 19ms/step - loss: 0.0577\n",
            "Epoch 2/200\n",
            "95/95 - 0s - 3ms/step - loss: 0.0291\n",
            "Epoch 3/200\n",
            "95/95 - 0s - 3ms/step - loss: 0.0204\n",
            "Epoch 4/200\n",
            "95/95 - 0s - 3ms/step - loss: 0.0182\n",
            "Epoch 5/200\n",
            "95/95 - 0s - 3ms/step - loss: 0.0172\n",
            "Epoch 6/200\n",
            "95/95 - 0s - 3ms/step - loss: 0.0162\n",
            "Epoch 7/200\n",
            "95/95 - 0s - 3ms/step - loss: 0.0152\n",
            "Epoch 8/200\n",
            "95/95 - 0s - 4ms/step - loss: 0.0142\n",
            "Epoch 9/200\n",
            "95/95 - 0s - 3ms/step - loss: 0.0132\n",
            "Epoch 10/200\n",
            "95/95 - 0s - 2ms/step - loss: 0.0121\n",
            "Epoch 11/200\n",
            "95/95 - 0s - 2ms/step - loss: 0.0113\n",
            "Epoch 12/200\n",
            "95/95 - 0s - 3ms/step - loss: 0.0101\n",
            "Epoch 13/200\n",
            "95/95 - 0s - 3ms/step - loss: 0.0092\n",
            "Epoch 14/200\n",
            "95/95 - 0s - 3ms/step - loss: 0.0082\n",
            "Epoch 15/200\n",
            "95/95 - 0s - 3ms/step - loss: 0.0073\n",
            "Epoch 16/200\n",
            "95/95 - 0s - 3ms/step - loss: 0.0064\n",
            "Epoch 17/200\n",
            "95/95 - 0s - 3ms/step - loss: 0.0056\n",
            "Epoch 18/200\n",
            "95/95 - 0s - 2ms/step - loss: 0.0048\n",
            "Epoch 19/200\n",
            "95/95 - 0s - 3ms/step - loss: 0.0042\n",
            "Epoch 20/200\n",
            "95/95 - 0s - 3ms/step - loss: 0.0037\n",
            "Epoch 21/200\n",
            "95/95 - 0s - 3ms/step - loss: 0.0032\n",
            "Epoch 22/200\n",
            "95/95 - 0s - 2ms/step - loss: 0.0029\n",
            "Epoch 23/200\n",
            "95/95 - 0s - 3ms/step - loss: 0.0026\n",
            "Epoch 24/200\n",
            "95/95 - 0s - 3ms/step - loss: 0.0024\n",
            "Epoch 25/200\n",
            "95/95 - 0s - 3ms/step - loss: 0.0023\n",
            "Epoch 26/200\n",
            "95/95 - 0s - 3ms/step - loss: 0.0022\n",
            "Epoch 27/200\n",
            "95/95 - 0s - 3ms/step - loss: 0.0021\n",
            "Epoch 28/200\n",
            "95/95 - 0s - 2ms/step - loss: 0.0022\n",
            "Epoch 29/200\n",
            "95/95 - 0s - 3ms/step - loss: 0.0021\n",
            "Epoch 30/200\n",
            "95/95 - 0s - 3ms/step - loss: 0.0021\n",
            "Epoch 31/200\n",
            "95/95 - 0s - 3ms/step - loss: 0.0021\n",
            "Epoch 32/200\n",
            "95/95 - 0s - 3ms/step - loss: 0.0020\n",
            "Epoch 33/200\n",
            "95/95 - 0s - 3ms/step - loss: 0.0020\n",
            "Epoch 34/200\n",
            "95/95 - 0s - 3ms/step - loss: 0.0020\n",
            "Epoch 35/200\n",
            "95/95 - 0s - 3ms/step - loss: 0.0021\n",
            "Epoch 36/200\n",
            "95/95 - 0s - 3ms/step - loss: 0.0020\n",
            "Epoch 37/200\n",
            "95/95 - 0s - 3ms/step - loss: 0.0020\n",
            "Epoch 38/200\n",
            "95/95 - 0s - 2ms/step - loss: 0.0021\n",
            "Epoch 39/200\n",
            "95/95 - 0s - 3ms/step - loss: 0.0021\n",
            "Epoch 40/200\n",
            "95/95 - 0s - 3ms/step - loss: 0.0021\n",
            "Epoch 41/200\n",
            "95/95 - 0s - 3ms/step - loss: 0.0020\n",
            "Epoch 42/200\n",
            "95/95 - 0s - 3ms/step - loss: 0.0020\n",
            "Epoch 43/200\n",
            "95/95 - 0s - 2ms/step - loss: 0.0020\n",
            "Epoch 44/200\n",
            "95/95 - 0s - 4ms/step - loss: 0.0020\n",
            "Epoch 45/200\n",
            "95/95 - 0s - 3ms/step - loss: 0.0020\n",
            "Epoch 46/200\n",
            "95/95 - 1s - 6ms/step - loss: 0.0021\n",
            "Epoch 47/200\n",
            "95/95 - 0s - 3ms/step - loss: 0.0020\n",
            "Epoch 48/200\n",
            "95/95 - 0s - 3ms/step - loss: 0.0020\n",
            "Epoch 49/200\n",
            "95/95 - 0s - 3ms/step - loss: 0.0020\n",
            "Epoch 50/200\n",
            "95/95 - 0s - 3ms/step - loss: 0.0020\n",
            "Epoch 51/200\n",
            "95/95 - 1s - 5ms/step - loss: 0.0020\n",
            "Epoch 52/200\n",
            "95/95 - 0s - 3ms/step - loss: 0.0020\n",
            "Epoch 53/200\n",
            "95/95 - 0s - 2ms/step - loss: 0.0020\n",
            "Epoch 54/200\n",
            "95/95 - 0s - 2ms/step - loss: 0.0020\n",
            "Epoch 55/200\n",
            "95/95 - 0s - 3ms/step - loss: 0.0021\n",
            "Epoch 56/200\n",
            "95/95 - 0s - 3ms/step - loss: 0.0020\n",
            "Epoch 57/200\n",
            "95/95 - 0s - 2ms/step - loss: 0.0021\n",
            "Epoch 58/200\n",
            "95/95 - 0s - 2ms/step - loss: 0.0020\n",
            "Epoch 59/200\n",
            "95/95 - 0s - 3ms/step - loss: 0.0020\n",
            "Epoch 60/200\n",
            "95/95 - 0s - 2ms/step - loss: 0.0020\n",
            "Epoch 61/200\n",
            "95/95 - 0s - 3ms/step - loss: 0.0020\n",
            "Epoch 62/200\n",
            "95/95 - 0s - 3ms/step - loss: 0.0020\n",
            "Epoch 63/200\n",
            "95/95 - 0s - 3ms/step - loss: 0.0021\n",
            "Epoch 64/200\n",
            "95/95 - 0s - 3ms/step - loss: 0.0020\n",
            "Epoch 65/200\n",
            "95/95 - 0s - 2ms/step - loss: 0.0020\n",
            "Epoch 66/200\n",
            "95/95 - 0s - 3ms/step - loss: 0.0020\n",
            "Epoch 67/200\n",
            "95/95 - 0s - 2ms/step - loss: 0.0020\n",
            "Epoch 68/200\n",
            "95/95 - 0s - 3ms/step - loss: 0.0020\n",
            "Epoch 69/200\n",
            "95/95 - 0s - 3ms/step - loss: 0.0020\n",
            "Epoch 70/200\n",
            "95/95 - 0s - 3ms/step - loss: 0.0020\n",
            "Epoch 71/200\n",
            "95/95 - 0s - 3ms/step - loss: 0.0020\n",
            "Epoch 72/200\n",
            "95/95 - 0s - 3ms/step - loss: 0.0021\n",
            "Epoch 73/200\n",
            "95/95 - 0s - 3ms/step - loss: 0.0020\n",
            "Epoch 74/200\n",
            "95/95 - 0s - 3ms/step - loss: 0.0020\n",
            "Epoch 75/200\n",
            "95/95 - 0s - 2ms/step - loss: 0.0020\n",
            "Epoch 76/200\n",
            "95/95 - 0s - 3ms/step - loss: 0.0020\n",
            "Epoch 77/200\n",
            "95/95 - 0s - 3ms/step - loss: 0.0020\n",
            "Epoch 78/200\n",
            "95/95 - 0s - 2ms/step - loss: 0.0021\n",
            "Epoch 79/200\n",
            "95/95 - 0s - 2ms/step - loss: 0.0020\n",
            "Epoch 80/200\n",
            "95/95 - 0s - 3ms/step - loss: 0.0021\n",
            "Epoch 81/200\n",
            "95/95 - 0s - 3ms/step - loss: 0.0021\n",
            "Epoch 82/200\n",
            "95/95 - 0s - 3ms/step - loss: 0.0021\n",
            "Epoch 83/200\n",
            "95/95 - 0s - 3ms/step - loss: 0.0020\n",
            "Epoch 84/200\n",
            "95/95 - 0s - 3ms/step - loss: 0.0020\n",
            "Epoch 85/200\n",
            "95/95 - 0s - 3ms/step - loss: 0.0020\n",
            "Epoch 86/200\n",
            "95/95 - 0s - 4ms/step - loss: 0.0020\n",
            "Epoch 87/200\n",
            "95/95 - 0s - 3ms/step - loss: 0.0020\n",
            "Epoch 88/200\n",
            "95/95 - 0s - 3ms/step - loss: 0.0020\n",
            "Epoch 89/200\n",
            "95/95 - 0s - 3ms/step - loss: 0.0020\n",
            "Epoch 90/200\n",
            "95/95 - 0s - 3ms/step - loss: 0.0020\n",
            "Epoch 91/200\n",
            "95/95 - 0s - 3ms/step - loss: 0.0020\n",
            "Epoch 92/200\n",
            "95/95 - 0s - 3ms/step - loss: 0.0020\n",
            "Epoch 93/200\n",
            "95/95 - 0s - 3ms/step - loss: 0.0021\n",
            "Epoch 94/200\n",
            "95/95 - 1s - 6ms/step - loss: 0.0020\n",
            "Epoch 95/200\n",
            "95/95 - 0s - 2ms/step - loss: 0.0021\n",
            "Epoch 96/200\n",
            "95/95 - 0s - 2ms/step - loss: 0.0020\n",
            "Epoch 97/200\n",
            "95/95 - 0s - 3ms/step - loss: 0.0020\n",
            "Epoch 98/200\n",
            "95/95 - 0s - 3ms/step - loss: 0.0020\n",
            "Epoch 99/200\n",
            "95/95 - 0s - 2ms/step - loss: 0.0020\n",
            "Epoch 100/200\n",
            "95/95 - 0s - 2ms/step - loss: 0.0020\n",
            "Epoch 101/200\n",
            "95/95 - 0s - 2ms/step - loss: 0.0021\n",
            "Epoch 102/200\n",
            "95/95 - 0s - 2ms/step - loss: 0.0020\n",
            "Epoch 103/200\n",
            "95/95 - 0s - 3ms/step - loss: 0.0021\n",
            "Epoch 104/200\n",
            "95/95 - 0s - 3ms/step - loss: 0.0020\n",
            "Epoch 105/200\n",
            "95/95 - 0s - 3ms/step - loss: 0.0020\n",
            "Epoch 106/200\n",
            "95/95 - 0s - 2ms/step - loss: 0.0021\n",
            "Epoch 107/200\n",
            "95/95 - 0s - 2ms/step - loss: 0.0020\n",
            "Epoch 108/200\n",
            "95/95 - 0s - 3ms/step - loss: 0.0020\n",
            "Epoch 109/200\n",
            "95/95 - 0s - 3ms/step - loss: 0.0020\n",
            "Epoch 110/200\n",
            "95/95 - 0s - 3ms/step - loss: 0.0020\n",
            "Epoch 111/200\n",
            "95/95 - 0s - 3ms/step - loss: 0.0020\n",
            "Epoch 112/200\n",
            "95/95 - 0s - 3ms/step - loss: 0.0020\n",
            "Epoch 113/200\n",
            "95/95 - 0s - 2ms/step - loss: 0.0020\n",
            "Epoch 114/200\n",
            "95/95 - 0s - 2ms/step - loss: 0.0020\n",
            "Epoch 115/200\n",
            "95/95 - 0s - 3ms/step - loss: 0.0020\n",
            "Epoch 116/200\n",
            "95/95 - 0s - 2ms/step - loss: 0.0020\n",
            "Epoch 117/200\n",
            "95/95 - 0s - 2ms/step - loss: 0.0020\n",
            "Epoch 118/200\n",
            "95/95 - 0s - 3ms/step - loss: 0.0020\n",
            "Epoch 119/200\n",
            "95/95 - 0s - 2ms/step - loss: 0.0020\n",
            "Epoch 120/200\n",
            "95/95 - 0s - 3ms/step - loss: 0.0020\n",
            "Epoch 121/200\n",
            "95/95 - 0s - 3ms/step - loss: 0.0020\n",
            "Epoch 122/200\n",
            "95/95 - 0s - 2ms/step - loss: 0.0020\n",
            "Epoch 123/200\n",
            "95/95 - 0s - 2ms/step - loss: 0.0020\n",
            "Epoch 124/200\n",
            "95/95 - 0s - 3ms/step - loss: 0.0021\n",
            "Epoch 125/200\n",
            "95/95 - 0s - 3ms/step - loss: 0.0020\n",
            "Epoch 126/200\n",
            "95/95 - 0s - 3ms/step - loss: 0.0020\n",
            "Epoch 127/200\n",
            "95/95 - 0s - 2ms/step - loss: 0.0020\n",
            "Epoch 128/200\n",
            "95/95 - 0s - 3ms/step - loss: 0.0020\n",
            "Epoch 129/200\n",
            "95/95 - 0s - 3ms/step - loss: 0.0021\n",
            "Epoch 130/200\n",
            "95/95 - 0s - 2ms/step - loss: 0.0020\n",
            "Epoch 131/200\n",
            "95/95 - 0s - 2ms/step - loss: 0.0020\n",
            "Epoch 132/200\n",
            "95/95 - 0s - 3ms/step - loss: 0.0020\n",
            "Epoch 133/200\n",
            "95/95 - 0s - 3ms/step - loss: 0.0021\n",
            "Epoch 134/200\n",
            "95/95 - 1s - 6ms/step - loss: 0.0020\n",
            "Epoch 135/200\n",
            "95/95 - 1s - 7ms/step - loss: 0.0020\n",
            "Epoch 136/200\n",
            "95/95 - 1s - 6ms/step - loss: 0.0020\n",
            "Epoch 137/200\n",
            "95/95 - 0s - 2ms/step - loss: 0.0020\n",
            "Epoch 138/200\n",
            "95/95 - 0s - 3ms/step - loss: 0.0021\n",
            "Epoch 139/200\n",
            "95/95 - 0s - 2ms/step - loss: 0.0020\n",
            "Epoch 140/200\n",
            "95/95 - 0s - 3ms/step - loss: 0.0020\n",
            "Epoch 141/200\n",
            "95/95 - 0s - 2ms/step - loss: 0.0020\n",
            "Epoch 142/200\n",
            "95/95 - 0s - 3ms/step - loss: 0.0020\n",
            "Epoch 143/200\n",
            "95/95 - 0s - 3ms/step - loss: 0.0020\n",
            "Epoch 144/200\n",
            "95/95 - 0s - 2ms/step - loss: 0.0021\n",
            "Epoch 145/200\n",
            "95/95 - 0s - 3ms/step - loss: 0.0020\n",
            "Epoch 146/200\n",
            "95/95 - 0s - 3ms/step - loss: 0.0020\n",
            "Epoch 147/200\n",
            "95/95 - 0s - 3ms/step - loss: 0.0020\n",
            "Epoch 148/200\n",
            "95/95 - 0s - 3ms/step - loss: 0.0020\n",
            "Epoch 149/200\n",
            "95/95 - 0s - 3ms/step - loss: 0.0020\n",
            "Epoch 150/200\n",
            "95/95 - 0s - 3ms/step - loss: 0.0020\n",
            "Epoch 151/200\n",
            "95/95 - 0s - 3ms/step - loss: 0.0020\n",
            "Epoch 152/200\n",
            "95/95 - 0s - 2ms/step - loss: 0.0020\n",
            "Epoch 153/200\n",
            "95/95 - 0s - 2ms/step - loss: 0.0021\n",
            "Epoch 154/200\n",
            "95/95 - 0s - 3ms/step - loss: 0.0020\n",
            "Epoch 155/200\n",
            "95/95 - 0s - 3ms/step - loss: 0.0020\n",
            "Epoch 156/200\n",
            "95/95 - 0s - 3ms/step - loss: 0.0019\n",
            "Epoch 157/200\n",
            "95/95 - 0s - 3ms/step - loss: 0.0020\n",
            "Epoch 158/200\n",
            "95/95 - 0s - 3ms/step - loss: 0.0020\n",
            "Epoch 159/200\n",
            "95/95 - 0s - 3ms/step - loss: 0.0020\n",
            "Epoch 160/200\n",
            "95/95 - 0s - 3ms/step - loss: 0.0022\n",
            "Epoch 161/200\n",
            "95/95 - 0s - 3ms/step - loss: 0.0021\n",
            "Epoch 162/200\n",
            "95/95 - 0s - 2ms/step - loss: 0.0020\n",
            "Epoch 163/200\n",
            "95/95 - 0s - 2ms/step - loss: 0.0021\n",
            "Epoch 164/200\n",
            "95/95 - 0s - 3ms/step - loss: 0.0021\n",
            "Epoch 165/200\n",
            "95/95 - 0s - 3ms/step - loss: 0.0020\n",
            "Epoch 166/200\n",
            "95/95 - 0s - 2ms/step - loss: 0.0020\n",
            "Epoch 167/200\n",
            "95/95 - 0s - 3ms/step - loss: 0.0020\n",
            "Epoch 168/200\n",
            "95/95 - 0s - 3ms/step - loss: 0.0020\n",
            "Epoch 169/200\n",
            "95/95 - 0s - 3ms/step - loss: 0.0020\n",
            "Epoch 170/200\n",
            "95/95 - 0s - 2ms/step - loss: 0.0020\n",
            "Epoch 171/200\n",
            "95/95 - 0s - 3ms/step - loss: 0.0020\n",
            "Epoch 172/200\n",
            "95/95 - 0s - 4ms/step - loss: 0.0020\n",
            "Epoch 173/200\n",
            "95/95 - 1s - 6ms/step - loss: 0.0020\n",
            "Epoch 174/200\n",
            "95/95 - 0s - 3ms/step - loss: 0.0020\n",
            "Epoch 175/200\n",
            "95/95 - 0s - 3ms/step - loss: 0.0020\n",
            "Epoch 176/200\n",
            "95/95 - 1s - 6ms/step - loss: 0.0021\n",
            "Epoch 177/200\n",
            "95/95 - 0s - 2ms/step - loss: 0.0020\n",
            "Epoch 178/200\n",
            "95/95 - 0s - 3ms/step - loss: 0.0020\n",
            "Epoch 179/200\n",
            "95/95 - 0s - 3ms/step - loss: 0.0020\n",
            "Epoch 180/200\n",
            "95/95 - 0s - 2ms/step - loss: 0.0020\n",
            "Epoch 181/200\n",
            "95/95 - 0s - 2ms/step - loss: 0.0020\n",
            "Epoch 182/200\n",
            "95/95 - 0s - 3ms/step - loss: 0.0020\n",
            "Epoch 183/200\n",
            "95/95 - 0s - 3ms/step - loss: 0.0020\n",
            "Epoch 184/200\n",
            "95/95 - 0s - 3ms/step - loss: 0.0020\n",
            "Epoch 185/200\n",
            "95/95 - 0s - 3ms/step - loss: 0.0020\n",
            "Epoch 186/200\n",
            "95/95 - 0s - 3ms/step - loss: 0.0020\n",
            "Epoch 187/200\n",
            "95/95 - 0s - 3ms/step - loss: 0.0021\n",
            "Epoch 188/200\n",
            "95/95 - 0s - 3ms/step - loss: 0.0020\n",
            "Epoch 189/200\n",
            "95/95 - 0s - 3ms/step - loss: 0.0020\n",
            "Epoch 190/200\n",
            "95/95 - 0s - 3ms/step - loss: 0.0020\n",
            "Epoch 191/200\n",
            "95/95 - 0s - 2ms/step - loss: 0.0021\n",
            "Epoch 192/200\n",
            "95/95 - 0s - 3ms/step - loss: 0.0020\n",
            "Epoch 193/200\n",
            "95/95 - 0s - 3ms/step - loss: 0.0020\n",
            "Epoch 194/200\n",
            "95/95 - 0s - 3ms/step - loss: 0.0020\n",
            "Epoch 195/200\n",
            "95/95 - 0s - 3ms/step - loss: 0.0020\n",
            "Epoch 196/200\n",
            "95/95 - 0s - 3ms/step - loss: 0.0020\n",
            "Epoch 197/200\n",
            "95/95 - 0s - 2ms/step - loss: 0.0020\n",
            "Epoch 198/200\n",
            "95/95 - 0s - 3ms/step - loss: 0.0020\n",
            "Epoch 199/200\n",
            "95/95 - 0s - 3ms/step - loss: 0.0020\n",
            "Epoch 200/200\n",
            "95/95 - 0s - 3ms/step - loss: 0.0020\n"
          ]
        },
        {
          "output_type": "execute_result",
          "data": {
            "text/plain": [
              "<keras.src.callbacks.history.History at 0x7de25849f790>"
            ]
          },
          "metadata": {},
          "execution_count": 10
        }
      ]
    },
    {
      "cell_type": "markdown",
      "source": [
        "Modelin Performansını Değerlendirme\n",
        "a) Tahminleri Yapma\n",
        "Modeli kullanarak hem eğitim hem de test verisi üzerinde tahminler yapın:"
      ],
      "metadata": {
        "id": "MkeH3Kxe5vd0"
      }
    },
    {
      "cell_type": "code",
      "source": [
        "# Eğitim ve test verisi üzerinde tahmin yapma\n",
        "trainPredict = model.predict(trainX)\n",
        "testPredict = model.predict(testX)\n",
        "\n",
        "# Tahminleri tersine normalize etme (orijinal ölçeğe dönme)\n",
        "trainPredict = scaler.inverse_transform(trainPredict)\n",
        "trainY = scaler.inverse_transform([trainY])\n",
        "testPredict = scaler.inverse_transform(testPredict)\n",
        "testY = scaler.inverse_transform([testY])"
      ],
      "metadata": {
        "colab": {
          "base_uri": "https://localhost:8080/"
        },
        "id": "302Okgls5wuS",
        "outputId": "152db939-1a52-4772-d7b6-90e60ac511a5"
      },
      "execution_count": 11,
      "outputs": [
        {
          "output_type": "stream",
          "name": "stdout",
          "text": [
            "\u001b[1m3/3\u001b[0m \u001b[32m━━━━━━━━━━━━━━━━━━━━\u001b[0m\u001b[37m\u001b[0m \u001b[1m0s\u001b[0m 90ms/step\n",
            "\u001b[1m2/2\u001b[0m \u001b[32m━━━━━━━━━━━━━━━━━━━━\u001b[0m\u001b[37m\u001b[0m \u001b[1m0s\u001b[0m 21ms/step\n"
          ]
        }
      ]
    },
    {
      "cell_type": "markdown",
      "source": [
        "b) RMSE (Root Mean Squared Error) Hesaplama\n",
        "Tahminlerin ne kadar doğru olduğunu ölçmek için RMSE değerini hesaplayın:"
      ],
      "metadata": {
        "id": "73EpRN3P54E6"
      }
    },
    {
      "cell_type": "code",
      "source": [
        "from sklearn.metrics import mean_squared_error\n",
        "import math\n",
        "\n",
        "# Eğitim verisi için RMSE\n",
        "trainScore = math.sqrt(mean_squared_error(trainY[0], trainPredict[:, 0]))\n",
        "print(f'Eğitim RMSE: {trainScore:.2f}')\n",
        "\n",
        "# Test verisi için RMSE\n",
        "testScore = math.sqrt(mean_squared_error(testY[0], testPredict[:, 0]))\n",
        "print(f'Test RMSE: {testScore:.2f}')"
      ],
      "metadata": {
        "colab": {
          "base_uri": "https://localhost:8080/"
        },
        "id": "KdhINIf955gx",
        "outputId": "d2faec53-37d3-4670-cda6-c7c0a03fa0ac"
      },
      "execution_count": 12,
      "outputs": [
        {
          "output_type": "stream",
          "name": "stdout",
          "text": [
            "Eğitim RMSE: 22.81\n",
            "Test RMSE: 52.12\n"
          ]
        }
      ]
    },
    {
      "cell_type": "markdown",
      "source": [
        "c) Tahminleri Görselleştirme\n",
        "Tahminleri gerçek değerlerle karşılaştırmak için grafik çizelim:"
      ],
      "metadata": {
        "id": "gCukAAXE59jp"
      }
    },
    {
      "cell_type": "code",
      "source": [
        "# testPredictPlot dizisini oluşturma\n",
        "testPredictPlot = np.empty_like(dataset)\n",
        "testPredictPlot[:, :] = np.nan\n",
        "\n",
        "# testPredict dizisini doğru aralığa yerleştirme\n",
        "testPredictPlot[len(trainPredict) + look_back:len(trainPredict) + look_back + len(testPredict), :] = testPredict\n",
        "\n",
        "\n",
        "# Orijinal veri ve tahminleri çizdirme\n",
        "plt.figure(figsize=(12, 6))\n",
        "plt.plot(scaler.inverse_transform(dataset), label='Orijinal Veri')\n",
        "plt.plot(trainPredictPlot, label='Eğitim Tahminleri')\n",
        "plt.plot(testPredictPlot, label='Test Tahminleri')\n",
        "plt.legend()\n",
        "plt.show()"
      ],
      "metadata": {
        "colab": {
          "base_uri": "https://localhost:8080/",
          "height": 522
        },
        "id": "UV3J9G0q5-HP",
        "outputId": "9d66a9dd-0b53-46b2-b118-4e03820eb11c"
      },
      "execution_count": 13,
      "outputs": [
        {
          "output_type": "display_data",
          "data": {
            "text/plain": [
              "<Figure size 1200x600 with 1 Axes>"
            ],
            "image/png": "[encoded data removed]"
          },
          "metadata": {}
        }
      ]
    },
    {
      "cell_type": "markdown",
      "source": [
        "a) Son Tahmini Kullanarak Geleceği Tahmin Etme"
      ],
      "metadata": {
        "id": "Lnxi8W7q6p1P"
      }
    },
    {
      "cell_type": "code",
      "source": [
        "# Son look_back değerini al\n",
        "last_sequence = testX[-1]  # Test verisinin son look_back değeri\n",
        "\n",
        "# Gelecekteki değerleri tahmin etme\n",
        "future_predictions = []\n",
        "for _ in range(10):  # Örneğin, 10 adım ileriyi tahmin et\n",
        "    next_prediction = model.predict(last_sequence.reshape(1, 1, look_back))\n",
        "    future_predictions.append(next_prediction[0, 0])\n",
        "    last_sequence = np.append(last_sequence[1:], next_prediction)  # Yeni tahmini ekle\n",
        "\n",
        "# Tahminleri tersine normalize etme\n",
        "future_predictions = scaler.inverse_transform(np.array(future_predictions).reshape(-1, 1))\n",
        "\n",
        "print(\"Gelecekteki Tahminler:\", future_predictions)"
      ],
      "metadata": {
        "colab": {
          "base_uri": "https://localhost:8080/"
        },
        "id": "f5UPK3VW6qlX",
        "outputId": "6b63f9af-7f08-45ac-c974-eca4c5cf4756"
      },
      "execution_count": 14,
      "outputs": [
        {
          "output_type": "stream",
          "name": "stdout",
          "text": [
            "\u001b[1m1/1\u001b[0m \u001b[32m━━━━━━━━━━━━━━━━━━━━\u001b[0m\u001b[37m\u001b[0m \u001b[1m0s\u001b[0m 36ms/step\n",
            "\u001b[1m1/1\u001b[0m \u001b[32m━━━━━━━━━━━━━━━━━━━━\u001b[0m\u001b[37m\u001b[0m \u001b[1m0s\u001b[0m 35ms/step\n",
            "\u001b[1m1/1\u001b[0m \u001b[32m━━━━━━━━━━━━━━━━━━━━\u001b[0m\u001b[37m\u001b[0m \u001b[1m0s\u001b[0m 37ms/step\n",
            "\u001b[1m1/1\u001b[0m \u001b[32m━━━━━━━━━━━━━━━━━━━━\u001b[0m\u001b[37m\u001b[0m \u001b[1m0s\u001b[0m 40ms/step\n",
            "\u001b[1m1/1\u001b[0m \u001b[32m━━━━━━━━━━━━━━━━━━━━\u001b[0m\u001b[37m\u001b[0m \u001b[1m0s\u001b[0m 36ms/step\n",
            "\u001b[1m1/1\u001b[0m \u001b[32m━━━━━━━━━━━━━━━━━━━━\u001b[0m\u001b[37m\u001b[0m \u001b[1m0s\u001b[0m 37ms/step\n",
            "\u001b[1m1/1\u001b[0m \u001b[32m━━━━━━━━━━━━━━━━━━━━\u001b[0m\u001b[37m\u001b[0m \u001b[1m0s\u001b[0m 40ms/step\n",
            "\u001b[1m1/1\u001b[0m \u001b[32m━━━━━━━━━━━━━━━━━━━━\u001b[0m\u001b[37m\u001b[0m \u001b[1m0s\u001b[0m 35ms/step\n",
            "\u001b[1m1/1\u001b[0m \u001b[32m━━━━━━━━━━━━━━━━━━━━\u001b[0m\u001b[37m\u001b[0m \u001b[1m0s\u001b[0m 40ms/step\n",
            "\u001b[1m1/1\u001b[0m \u001b[32m━━━━━━━━━━━━━━━━━━━━\u001b[0m\u001b[37m\u001b[0m \u001b[1m0s\u001b[0m 36ms/step\n",
            "Gelecekteki Tahminler: [[377.97342]\n",
            " [368.38733]\n",
            " [360.58832]\n",
            " [354.1404 ]\n",
            " [348.74057]\n",
            " [344.17087]\n",
            " [340.27014]\n",
            " [336.9165 ]\n",
            " [334.0156 ]\n",
            " [331.49332]]\n"
          ]
        }
      ]
    },
    {
      "cell_type": "markdown",
      "source": [
        "b) Gelecekteki Tahminleri Görselleştirme\n",
        "Gelecekteki tahminleri grafik üzerinde gösterebilirsiniz"
      ],
      "metadata": {
        "id": "8j1YWVoZ6x1H"
      }
    },
    {
      "cell_type": "code",
      "source": [
        "# Orijinal veri ve gelecekteki tahminleri çizdirme\n",
        "plt.figure(figsize=(12, 6))\n",
        "plt.plot(scaler.inverse_transform(dataset), label='Orijinal Veri')\n",
        "plt.plot(range(len(dataset), len(dataset) + len(future_predictions)), future_predictions, label='Gelecekteki Tahminler', linestyle='--')\n",
        "plt.legend()\n",
        "plt.show()"
      ],
      "metadata": {
        "colab": {
          "base_uri": "https://localhost:8080/",
          "height": 522
        },
        "id": "A-ktU3Sy6yho",
        "outputId": "e1e322a4-afca-4f7f-ec93-4c0c8ae09cf5"
      },
      "execution_count": 15,
      "outputs": [
        {
          "output_type": "display_data",
          "data": {
            "text/plain": [
              "<Figure size 1200x600 with 1 Axes>"
            ],
            "image/png": "[encoded data removed]"
          },
          "metadata": {}
        }
      ]
    },
    {
      "cell_type": "markdown",
      "source": [
        " Modeli Kaydetme ve Yeniden Kullanma\n",
        "Eğer modelin performansından memnunsanız, modeli kaydedip daha sonra yeniden kullanabilirsiniz.\n",
        "Modeli Kaydetme"
      ],
      "metadata": {
        "id": "jFWncn9n64FK"
      }
    },
    {
      "cell_type": "code",
      "source": [
        "model.save('zaman_serisi_modeli.keras')"
      ],
      "metadata": {
        "id": "sai2Ibvw65K5"
      },
      "execution_count": 18,
      "outputs": []
    },
    {
      "cell_type": "markdown",
      "source": [
        " Modeli Yükleme\n"
      ],
      "metadata": {
        "id": "_F5qM7_66_JW"
      }
    },
    {
      "cell_type": "code",
      "source": [
        "from tensorflow.keras.models import load_model\n",
        "loaded_model = load_model('zaman_serisi_modeli.keras')"
      ],
      "metadata": {
        "id": "DvlWkYOk7AVf",
        "outputId": "07352c56-fb61-4d03-e10d-58837df1d801",
        "colab": {
          "base_uri": "https://localhost:8080/"
        }
      },
      "execution_count": 19,
      "outputs": [
        {
          "output_type": "stream",
          "name": "stderr",
          "text": [
            "/usr/local/lib/python3.11/dist-packages/keras/src/saving/saving_lib.py:757: UserWarning: Skipping variable loading for optimizer 'rmsprop', because it has 7 variables whereas the saved optimizer has 12 variables. \n",
            "  saveable.load_own_variables(weights_store.get(inner_path))\n"
          ]
        }
      ]
    }
  ]
}