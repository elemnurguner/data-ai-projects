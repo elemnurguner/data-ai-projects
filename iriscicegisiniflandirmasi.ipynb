{
  "nbformat": 4,
  "nbformat_minor": 0,
  "metadata": {
    "colab": {
      "provenance": [],
      "authorship_tag": "ABX9TyOHrsd2KAPVSRes6SFkzyrF",
      "include_colab_link": true
    },
    "kernelspec": {
      "name": "python3",
      "display_name": "Python 3"
    },
    "language_info": {
      "name": "python"
    }
  },
  "cells": [
    {
      "cell_type": "markdown",
      "metadata": {
        "id": "view-in-github",
        "colab_type": "text"
      },
      "source": [
        "<a href=\"https://colab.research.google.com/github/elemnurguner/data-ai-projects/blob/main/iriscicegisiniflandirmasi.ipynb\" target=\"_parent\"><img src=\"https://colab.research.google.com/assets/colab-badge.svg\" alt=\"Open In Colab\"/></a>"
      ]
    },
    {
      "cell_type": "markdown",
      "source": [
        "🌸 Iris Çiçeği Türleri Sınıflandırması: k-NN Algoritması ile Makine Öğrenimi Projesi\n",
        "Bu proje, Iris çiçeğinin 3 farklı türünü (setosa, versicolor, virginica) makine öğrenimi kullanarak sınıflandırmayı amaçlar.\n",
        "Kullanılan teknikler: Veri analizi, ölçeklendirme, k-NN algoritması, hiperparametre optimizasyonu.\n",
        "\n",
        "🔍 Projenin Amacı\n",
        "Iris veri setindeki 4 özelliği (sepal length, sepal width, petal length, petal width) kullanarak çiçek türlerini doğru bir şekilde tahmin eden bir model oluşturmak ve makine öğrenimi sürecini adım adım göstermek."
      ],
      "metadata": {
        "id": "S3xTO7w3KKel"
      }
    },
    {
      "cell_type": "markdown",
      "source": [
        "1. Kütüphaneleri Yükle\n",
        "2. Veriyi Yükle ve İncele\n",
        "3. Veriyi Ölçeklendir\n",
        "4. Modeli Eğit ve Değerlendir\n",
        "5. Görselleştir\n",
        "6. Hiperparametre Optimizasyonu\n"
      ],
      "metadata": {
        "id": "a3i8TmiILxHp"
      }
    },
    {
      "cell_type": "markdown",
      "source": [
        "\n",
        "İlk olarak, gerekli kütüphaneleri yükleyelim."
      ],
      "metadata": {
        "id": "DSiK0eQbXO74"
      }
    },
    {
      "cell_type": "code",
      "source": [
        "# Gerekli kütüphaneleri yükle\n",
        "import numpy as np\n",
        "import pandas as pd\n",
        "import matplotlib.pyplot as plt\n",
        "import seaborn as sns\n",
        "from sklearn.datasets import load_iris\n",
        "from sklearn.model_selection import train_test_split\n",
        "from sklearn.preprocessing import StandardScaler\n",
        "from sklearn.neighbors import KNeighborsClassifier\n",
        "from sklearn.metrics import classification_report, confusion_matrix, accuracy_score"
      ],
      "metadata": {
        "id": "vVoUXeqUKlSO"
      },
      "execution_count": null,
      "outputs": []
    },
    {
      "cell_type": "code",
      "source": [
        "# Iris veri setini yükle\n",
        "iris = load_iris()\n",
        "X = iris.data\n",
        "y = iris.target\n",
        "\n",
        "# Veriyi bir DataFrame'e dönüştür\n",
        "df = pd.DataFrame(X, columns=iris.feature_names)\n",
        "df['species'] = y\n",
        "\n",
        "# Veriyi keşfet\n",
        "print(df.head())\n",
        "print(df.info())\n",
        "print(df.describe())\n",
        "print(df['species'].value_counts())"
      ],
      "metadata": {
        "colab": {
          "base_uri": "https://localhost:8080/"
        },
        "id": "V7NBCFM8Yn-8",
        "outputId": "0609cf9e-964c-4253-9cd7-850b442ae6f6",
        "collapsed": true
      },
      "execution_count": null,
      "outputs": [
        {
          "output_type": "stream",
          "name": "stdout",
          "text": [
            "   sepal length (cm)  sepal width (cm)  petal length (cm)  petal width (cm)  \\\n",
            "0                5.1               3.5                1.4               0.2   \n",
            "1                4.9               3.0                1.4               0.2   \n",
            "2                4.7               3.2                1.3               0.2   \n",
            "3                4.6               3.1                1.5               0.2   \n",
            "4                5.0               3.6                1.4               0.2   \n",
            "\n",
            "   species  \n",
            "0        0  \n",
            "1        0  \n",
            "2        0  \n",
            "3        0  \n",
            "4        0  \n",
            "<class 'pandas.core.frame.DataFrame'>\n",
            "RangeIndex: 150 entries, 0 to 149\n",
            "Data columns (total 5 columns):\n",
            " #   Column             Non-Null Count  Dtype  \n",
            "---  ------             --------------  -----  \n",
            " 0   sepal length (cm)  150 non-null    float64\n",
            " 1   sepal width (cm)   150 non-null    float64\n",
            " 2   petal length (cm)  150 non-null    float64\n",
            " 3   petal width (cm)   150 non-null    float64\n",
            " 4   species            150 non-null    int64  \n",
            "dtypes: float64(4), int64(1)\n",
            "memory usage: 6.0 KB\n",
            "None\n",
            "       sepal length (cm)  sepal width (cm)  petal length (cm)  \\\n",
            "count         150.000000        150.000000         150.000000   \n",
            "mean            5.843333          3.057333           3.758000   \n",
            "std             0.828066          0.435866           1.765298   \n",
            "min             4.300000          2.000000           1.000000   \n",
            "25%             5.100000          2.800000           1.600000   \n",
            "50%             5.800000          3.000000           4.350000   \n",
            "75%             6.400000          3.300000           5.100000   \n",
            "max             7.900000          4.400000           6.900000   \n",
            "\n",
            "       petal width (cm)     species  \n",
            "count        150.000000  150.000000  \n",
            "mean           1.199333    1.000000  \n",
            "std            0.762238    0.819232  \n",
            "min            0.100000    0.000000  \n",
            "25%            0.300000    0.000000  \n",
            "50%            1.300000    1.000000  \n",
            "75%            1.800000    2.000000  \n",
            "max            2.500000    2.000000  \n",
            "species\n",
            "0    50\n",
            "1    50\n",
            "2    50\n",
            "Name: count, dtype: int64\n"
          ]
        }
      ]
    },
    {
      "cell_type": "code",
      "source": [
        "# Eksik veri kontrolü\n",
        "print(df.isnull().sum())\n",
        "\n",
        "# Veriyi ölçeklendirme\n",
        "scaler = StandardScaler()\n",
        "X_scaled = scaler.fit_transform(X)"
      ],
      "metadata": {
        "colab": {
          "base_uri": "https://localhost:8080/"
        },
        "id": "5Uc9lNvlY1s_",
        "outputId": "ac89cfc0-cb73-4f65-8bf0-612cc481b30c"
      },
      "execution_count": null,
      "outputs": [
        {
          "output_type": "stream",
          "name": "stdout",
          "text": [
            "sepal length (cm)    0\n",
            "sepal width (cm)     0\n",
            "petal length (cm)    0\n",
            "petal width (cm)     0\n",
            "species              0\n",
            "dtype: int64\n"
          ]
        }
      ]
    },
    {
      "cell_type": "code",
      "source": [
        "# Veriyi eğitim ve test setlerine ayır\n",
        "X_train, X_test, y_train, y_test = train_test_split(X_scaled, y, test_size=0.3, random_state=42)"
      ],
      "metadata": {
        "id": "yc-hlyxrY6M9"
      },
      "execution_count": null,
      "outputs": []
    },
    {
      "cell_type": "markdown",
      "source": [
        "Basit Bir Makine Öğrenmesi Modeli (k-NN) Kullanarak Sınıflandırma Yap\n",
        "k-NN (k-En Yakın Komşu) modelini kullanarak sınıflandırma yapalım."
      ],
      "metadata": {
        "id": "hT2RGbz7Y-2D"
      }
    },
    {
      "cell_type": "code",
      "source": [
        "# k-NN modelini oluştur ve eğit\n",
        "knn = KNeighborsClassifier(n_neighbors=3)\n",
        "knn.fit(X_train, y_train)\n",
        "\n",
        "# Test seti üzerinde tahmin yap\n",
        "y_pred = knn.predict(X_test)"
      ],
      "metadata": {
        "id": "Bhc_XbgFY-iU"
      },
      "execution_count": null,
      "outputs": []
    },
    {
      "cell_type": "markdown",
      "source": [
        "Modelin performansını değerlendirelim."
      ],
      "metadata": {
        "id": "i7DqEkIHZE23"
      }
    },
    {
      "cell_type": "code",
      "source": [
        "# Modelin performansını değerlendir\n",
        "print(\"Confusion Matrix:\")\n",
        "print(confusion_matrix(y_test, y_pred))\n",
        "\n",
        "print(\"\\nClassification Report:\")\n",
        "print(classification_report(y_test, y_pred))\n",
        "\n",
        "print(\"\\nAccuracy Score:\")\n",
        "print(accuracy_score(y_test, y_pred))"
      ],
      "metadata": {
        "id": "wnz-ysjYZG0S"
      },
      "execution_count": null,
      "outputs": []
    },
    {
      "cell_type": "markdown",
      "source": [
        "\n",
        "Sonuçları görselleştirelim."
      ],
      "metadata": {
        "id": "HHU7vf_mZPzN"
      }
    },
    {
      "cell_type": "code",
      "source": [
        "# Confusion Matrix'i görselleştir\n",
        "cm = confusion_matrix(y_test, y_pred)\n",
        "sns.heatmap(cm, annot=True, fmt='d', cmap='Blues')\n",
        "plt.xlabel('Predicted')\n",
        "plt.ylabel('Actual')\n",
        "plt.title('Confusion Matrix')\n",
        "plt.show()\n",
        "\n",
        "# Sınıflandırma raporunu görselleştir\n",
        "sns.scatterplot(x=X_test[:, 0], y=X_test[:, 1], hue=y_pred, palette='viridis')\n",
        "plt.xlabel('Sepal Length (cm)')\n",
        "plt.ylabel('Sepal Width (cm)')\n",
        "plt.title('k-NN Classification Results')\n",
        "plt.show()"
      ],
      "metadata": {
        "colab": {
          "base_uri": "https://localhost:8080/",
          "height": 927
        },
        "id": "Te2RMfoXZQgO",
        "outputId": "546f3e89-3403-4c70-8b81-1bf581f60b0e"
      },
      "execution_count": null,
      "outputs": [
        {
          "output_type": "display_data",
          "data": {
            "text/plain": [
              "<Figure size 640x480 with 2 Axes>"
            ],
            "image/png": "[encoded data removed]"
          },
          "metadata": {}
        },
        {
          "output_type": "display_data",
          "data": {
            "text/plain": [
              "<Figure size 640x480 with 1 Axes>"
            ],
            "image/png": "[encoded data removed]"
          },
          "metadata": {}
        }
      ]
    },
    {
      "cell_type": "code",
      "source": [
        "# Hiperparametre ayarlaması (örneğin, k değerini değiştir)\n",
        "k_values = range(1, 10)\n",
        "accuracies = []\n",
        "\n",
        "for k in k_values:\n",
        "    knn = KNeighborsClassifier(n_neighbors=k)\n",
        "    knn.fit(X_train, y_train)\n",
        "    y_pred = knn.predict(X_test)\n",
        "    accuracies.append(accuracy_score(y_test, y_pred))\n",
        "\n",
        "# En iyi k değerini bul\n",
        "best_k = k_values[np.argmax(accuracies)]\n",
        "print(f\"En iyi k değeri: {best_k}\")\n",
        "\n",
        "# En iyi k değeri ile modeli tekrar eğit\n",
        "knn = KNeighborsClassifier(n_neighbors=best_k)\n",
        "knn.fit(X_train, y_train)\n",
        "y_pred = knn.predict(X_test)\n",
        "print(\"Yeni Accuracy Score:\")\n",
        "print(accuracy_score(y_test, y_pred))"
      ],
      "metadata": {
        "colab": {
          "base_uri": "https://localhost:8080/"
        },
        "id": "8HusOf1DZfXE",
        "outputId": "1b237651-7f2f-49f7-ed2a-c3c9802f5f47"
      },
      "execution_count": null,
      "outputs": [
        {
          "output_type": "stream",
          "name": "stdout",
          "text": [
            "En iyi k değeri: 3\n",
            "Yeni Accuracy Score:\n",
            "1.0\n"
          ]
        }
      ]
    }
  ]
}