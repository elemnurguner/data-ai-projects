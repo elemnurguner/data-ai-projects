{
  "nbformat": 4,
  "nbformat_minor": 0,
  "metadata": {
    "colab": {
      "provenance": [],
      "authorship_tag": "ABX9TyP5R0XTwJgz4Sg1pvapeDvz",
      "include_colab_link": true
    },
    "kernelspec": {
      "name": "python3",
      "display_name": "Python 3"
    },
    "language_info": {
      "name": "python"
    }
  },
  "cells": [
    {
      "cell_type": "markdown",
      "metadata": {
        "id": "view-in-github",
        "colab_type": "text"
      },
      "source": [
        "<a href=\"https://colab.research.google.com/github/elemnurguner/data-ai-projects/blob/main/OEE_(Overall_Equipment_Effectiveness)_Analizi_.ipynb\" target=\"_parent\"><img src=\"https://colab.research.google.com/assets/colab-badge.svg\" alt=\"Open In Colab\"/></a>"
      ]
    },
    {
      "cell_type": "markdown",
      "source": [
        "1. OEE Nedir?\n",
        "Kullanılabilirlik (Availability)\n",
        "\n",
        "Performans (Performance)\n",
        "\n",
        "Kalite (Quality)\n",
        "\n",
        "OEE (Overall Equipment Effectiveness - Genel Ekipman Etkinliği), bir üretim makinesinin veya hattının ne kadar verimli çalıştığını ölçen bir metriktir.\n",
        "\n",
        "📌 3 Ana Bileşeni Var:\n",
        "\n",
        "Kullanılabilirlik (Availability) → Makine planlanan sürede ne kadar çalıştı?\n",
        "\n",
        "Performans (Performance) → Makine tam kapasitede mi çalıştı?\n",
        "\n",
        "Kalite (Quality) → Üretilen ürünlerin yüzde kaçı hatasızdı?\n",
        "\n",
        "Formül:\n",
        "\n",
        "O\n",
        "E\n",
        "E\n",
        "=\n",
        "Kullanılabilirlik\n",
        "×\n",
        "Performans\n",
        "×\n",
        "Kalite\n",
        "OEE=Kullanılabilirlik×Performans×Kalite"
      ],
      "metadata": {
        "id": "Z0Gubiiqmxlj"
      }
    },
    {
      "cell_type": "code",
      "source": [
        "# OEE Hesaplama (Örnek Veri)\n",
        "vardiya_suresi = 480  # dakika\n",
        "planli_durus = 30\n",
        "plansiz_durus = 45\n",
        "ideal_uretim_hizi = 100  # birim/saat\n",
        "gercek_uretim = 500\n",
        "hatali_urun = 25\n",
        "\n",
        "# 1. Kullanılabilirlik = (Çalışma Süresi) / (Planlanan Süre)\n",
        "calisma_suresi = vardiya_suresi - planli_durus - plansiz_durus\n",
        "planlanan_sure = vardiya_suresi - planli_durus\n",
        "kullanilabilirlik = calisma_suresi / planlanan_sure\n",
        "\n",
        "# 2. Performans = (Gerçek Üretim) / (Potansiyel Üretim)\n",
        "potansiyel_uretim = (calisma_suresi / 60) * ideal_uretim_hizi\n",
        "performans = gercek_uretim / potansiyel_uretim\n",
        "\n",
        "# 3. Kalite = (İyi Ürün) / (Toplam Üretim)\n",
        "iyi_urun = gercek_uretim - hatali_urun\n",
        "kalite = iyi_urun / gercek_uretim\n",
        "\n",
        "# OEE = Kullanılabilirlik x Performans x Kalite\n",
        "oee = kullanilabilirlik * performans * kalite\n",
        "\n",
        "# Sonuçları Göster\n",
        "print(f\"Kullanılabilirlik: {kullanilabilirlik:.2%}\")\n",
        "print(f\"Performans: {performans:.2%}\")\n",
        "print(f\"Kalite: {kalite:.2%}\")\n",
        "print(f\"OEE: {oee:.2%}\")"
      ],
      "metadata": {
        "colab": {
          "base_uri": "https://localhost:8080/"
        },
        "id": "tRH5Rmdnm3H5",
        "outputId": "28e08b90-d240-47c0-9f70-f03564afe86c"
      },
      "execution_count": null,
      "outputs": [
        {
          "output_type": "stream",
          "name": "stdout",
          "text": [
            "Kullanılabilirlik: 90.00%\n",
            "Performans: 74.07%\n",
            "Kalite: 95.00%\n",
            "OEE: 63.33%\n"
          ]
        }
      ]
    },
    {
      "cell_type": "markdown",
      "source": [
        "🔍 ADIM 2: Kök Neden Analizi (Balık Kılçığı Diyagramı ile)\n",
        "Sorun: \"Performans neden %74.07? (Hedef: %95+)\"\n",
        "\n",
        "1. Ana Neden Kategorileri (Her biri bir \"kılçık\"):\n",
        "Makine: Aşınma, ayar sorunları, bakım eksikliği\n",
        "\n",
        "Malzeme: Kalitesiz hammadde, besleme sorunları\n",
        "\n",
        "İnsan: Operatör hatası, eğitim eksikliği\n",
        "\n",
        "Yöntem: Standart iş akışı yok, optimizasyon eksik\n",
        "\n",
        "2. Soru-Cevap Örneği:\n",
        "❓ \"Makine tam hızda çalışmıyor. Neden?\"\n",
        "→ Kalıp değişimleri 30 dakika sürüyor (SMED uygulanabilir).\n",
        "\n",
        "❓ \"Küçük duruşlar çok fazla. Neden?\"\n",
        "→ Malzeme sıkışması yaşanıyor (besleme mekanizması kontrolü gerekli).\n",
        "\n",
        "3. Çözüm Önerileri:\n",
        "SMED (Single-Minute Exchange of Die): Kalıp değişim süresini 30 dakikadan 10 dakikaya düşür.\n",
        "\n",
        "TPM (Total Productive Maintenance): Makine bakım planı oluştur.\n",
        "\n",
        "📋 ADIM 3: Veri Toplama Planı (Excel/Kaizen Formatında)\n",
        "Amaç: Kayıpları somut veriyle kanıtla!\n",
        "\n",
        "1. Performans Kaybı Veri Tablosu:\n",
        "Tarih\tToplam Çalışma Süresi (dk)\tÜretim Miktarı\tIdeal Üretim\tPerformans %\tKök Neden\n",
        "01.06.2024\t400\t500\t600\t83.3%\tMalzeme sıkışması\n",
        "02.06.2024\t380\t480\t633\t75.8%\tKalıp değişimi\n",
        "2. Kullanılabilirlik Kaybı Logu:\n",
        "Duruş Tipi\tSüre (dk)\tSebep\tAksiyon\n",
        "Plansız Arıza\t45\tKonveyör bant kopması\tYedek bant stoğu oluştur\n",
        "Kalibrasyon\t30\tRutin ayar\tSMED ile süreyi kısalt\n",
        "3. Kalite Verisi:\n",
        "Toplam Üretim\tHatalı Ürün\tHata Türü\tÇözüm Önerisi\n",
        "500\t25\tYüzey çizikleri\tTaşıma sistemini iyileştir\n",
        "\n",
        "\n",
        "En sık tekrar eden 3 kök nedeni belirle.\n",
        "\n",
        "📈 ADIM 4: İyileştirme Sonrası OEE Takip\n",
        "Aynı tabloyu iyileştirmelerden sonra tekrar doldur ve karşılaştır:"
      ],
      "metadata": {
        "id": "fRDrglovoDeA"
      }
    },
    {
      "cell_type": "code",
      "source": [
        "# Örnek Python Kodu (Colab'da Çalıştır)\n",
        "import matplotlib.pyplot as plt\n",
        "\n",
        "# Önceki ve Sonraki OEE\n",
        "metrics = ['Kullanılabilirlik', 'Performans', 'Kalite', 'OEE']\n",
        "before = [90, 74.07, 95, 63.33]\n",
        "after = [92, 85, 96, 75.12]\n",
        "\n",
        "plt.bar(metrics, before, label='Önce', width=0.4, align='center')\n",
        "plt.bar(metrics, after, label='Sonra', width=0.4, align='edge')\n",
        "plt.title('OEE İyileştirme Öncesi ve Sonrası')\n",
        "plt.legend()\n",
        "plt.show()"
      ],
      "metadata": {
        "colab": {
          "base_uri": "https://localhost:8080/",
          "height": 454
        },
        "id": "mYNkMlDuoE0k",
        "outputId": "5c501f81-ae12-48a1-ff8b-bf58a119e4da"
      },
      "execution_count": null,
      "outputs": [
        {
          "output_type": "display_data",
          "data": {
            "text/plain": [
              "<Figure size 640x480 with 1 Axes>"
            ],
            "image/png": "[encoded data removed]"
          },
          "metadata": {}
        }
      ]
    },
    {
      "cell_type": "markdown",
      "source": [
        "🔧 1. SMED (Hızlı Kalıp Değişimi) - Adım Adım Uygulama\n",
        "Amaç: Kalıp değişim süresini %50-90 azaltmak.\n",
        "\n",
        "Adım 1: Mevcut Süreci Videoya Al veya Kaydet\n",
        "Kalıp değişimini kronometreyle ölç (örn: 30 dakika).\n",
        "\n",
        "Operatörün tüm hareketlerini adım adım yaz:\n",
        "\n",
        "plaintext\n",
        "Copy\n",
        "1. Makine durdur (2 dk)\n",
        "2. Eski kalıbı sök (10 dk)\n",
        "3. Yeni kalıbı taşı (5 dk)\n",
        "4. Kalıbı ayarla (8 dk)\n",
        "5. Test üretimi yap (5 dk)\n",
        "Adım 2: İşlemleri \"Internal\" ve \"External\" Olarak Ayır\n",
        "Internal (Makine Duruşunda Yapılan): Kalıp sökme, ayar.\n",
        "\n",
        "External (Makine Çalışırken Yapılabilen): Yeni kalıbı hazırlama, aletleri taşıma.\n",
        "\n",
        "Adım 3: Internal → External Dönüştür\n",
        "Örnek İyileştirme:\n",
        "\n",
        "✅ External Yap: Yeni kalıbı önceden ısıt (makine durmadan).\n",
        "\n",
        "✅ Standart Alet Kullan: Tüm vidalar aynı anahtar boyutta olsun.\n",
        "\n",
        "Adım 4: Süreci Basitleştir\n",
        "Örnekler:\n",
        "\n",
        "Şablon Kullan: Kalıp hizalama için kılavuz pin ekle.\n",
        "\n",
        "Yer İşaretleri: Makine üzerine hizalama çizgileri çiz.\n",
        "\n",
        "Adım 5: Sonuç\n",
        "Önce: 30 dakika\n",
        "\n",
        "Sonra: 10 dakika (örnek başarı)\n",
        "\n",
        "📋 2. TPM Bakım Planı Şablonu\n",
        "Amaç: Arızaları %30 azaltmak.\n",
        "\n",
        "Haftalık Bakım Planı (Özet)\n",
        "Ekipman\tBakım Türü\tSıklık\tSorumlu\tKontrol Listesi\n",
        "Konveyör\tTemizlik\tGünlük\tOperator\tBant gerginliği, rulman sesi\n",
        "Enjeksiyon\tYağlama\tHaftalık\tTeknisyen\tHidrolik seviyesi, sıcaklık\n",
        "Excel Şablonu İndir:\n",
        "🔗 TPM Bakım Planı Şablonu (Fake link - gerçek bir şablon paylaşabilirim)\n",
        "\n",
        "📊 3. Gerçek Veriyle Analiz (Colab'da Yapalım!)\n",
        "Adım 1: Veri formatını belirle (örnek):"
      ],
      "metadata": {
        "id": "fxyfGqNEocNo"
      }
    },
    {
      "cell_type": "code",
      "source": [
        "import pandas as pd\n",
        "data = {\n",
        "    \"Tarih\": [\"01.06\", \"02.06\", \"03.06\"],\n",
        "    \"Planlı Çalışma (dk)\": [450, 450, 450],\n",
        "    \"Plansız Duruş (dk)\": [30, 45, 20],\n",
        "    \"Üretim Miktarı\": [500, 480, 520],\n",
        "    \"Hatalı Ürün\": [25, 30, 15]\n",
        "}\n",
        "df = pd.DataFrame(data)"
      ],
      "metadata": {
        "id": "DHYL_RKBob7d"
      },
      "execution_count": null,
      "outputs": []
    },
    {
      "cell_type": "markdown",
      "source": [
        "Adım 2: OEE Hesapla:\n",
        "\n"
      ],
      "metadata": {
        "id": "_ipS6nghokPH"
      }
    },
    {
      "cell_type": "code",
      "source": [
        "# Kullanılabilirlik\n",
        "df[\"Kullanılabilirlik\"] = (df[\"Planlı Çalışma (dk)\"] - df[\"Plansız Duruş (dk)\"]) / df[\"Planlı Çalışma (dk)\"]\n",
        "\n",
        "# Performans (İdeal üretim 100 birim/saat varsayımıyla)\n",
        "df[\"Performans\"] = df[\"Üretim Miktarı\"] / ((df[\"Planlı Çalışma (dk)\"] - df[\"Plansız Duruş (dk)\"]) / 60 * 100)\n",
        "\n",
        "# Kalite\n",
        "df[\"Kalite\"] = (df[\"Üretim Miktarı\"] - df[\"Hatalı Ürün\"]) / df[\"Üretim Miktarı\"]\n",
        "\n",
        "# OEE\n",
        "df[\"OEE\"] = df[\"Kullanılabilirlik\"] * df[\"Performans\"] * df[\"Kalite\"]"
      ],
      "metadata": {
        "id": "FdKWdleIoopl"
      },
      "execution_count": null,
      "outputs": []
    },
    {
      "cell_type": "markdown",
      "source": [
        "Adım 3: Grafikle:\n",
        "\n"
      ],
      "metadata": {
        "id": "j2t_bibIosdj"
      }
    },
    {
      "cell_type": "code",
      "source": [
        "df.plot(x=\"Tarih\", y=[\"Kullanılabilirlik\", \"Performans\", \"Kalite\", \"OEE\"], kind=\"bar\")\n",
        "plt.title(\"Günlük OEE Trendi\")\n",
        "plt.ylim(0, 1)"
      ],
      "metadata": {
        "colab": {
          "base_uri": "https://localhost:8080/",
          "height": 514
        },
        "id": "r69qAl3HotBT",
        "outputId": "95a46324-9133-47ca-9093-4dbebe593de1"
      },
      "execution_count": null,
      "outputs": [
        {
          "output_type": "execute_result",
          "data": {
            "text/plain": [
              "(0.0, 1.0)"
            ]
          },
          "metadata": {},
          "execution_count": 5
        },
        {
          "output_type": "display_data",
          "data": {
            "text/plain": [
              "<Figure size 640x480 with 1 Axes>"
            ],
            "image/png": "[encoded data removed]"
          },
          "metadata": {}
        }
      ]
    },
    {
      "cell_type": "markdown",
      "source": [
        "🎥 1. SMED için Kalıp Değişim Videosu Analizi (Adım Adım)\n",
        "Adım 1: Video Çekim Planı\n",
        "Çekeceğiniz Anlar:\n",
        "\n",
        "Makinenin durdurulması\n",
        "\n",
        "Eski kalıbın sökülmesi\n",
        "\n",
        "Yeni kalıbın taşınması\n",
        "\n",
        "Ayar ve test süreci\n",
        "\n",
        "Adım 2: Süreleri Not Et (Örnek Veri)\n",
        "Aktivite\tSüre (dk)\tSMED Müdahalesi\n",
        "Makineyi durdur\t2\tExternal yap: Durmadan önce güvenlik kontrolü\n",
        "Kalıp taşıma\t5\tStandart taşıma aleti kullan\n",
        "Vidaları sökme\t8\tTek anahtar sistemi kur\n",
        "Hizalama\t10\tKılavuz pin ekle\n",
        "Adım 3: Kağıt Üzerinde Analiz"
      ],
      "metadata": {
        "id": "9VDM86ElpGE3"
      }
    },
    {
      "cell_type": "code",
      "source": [
        "# SMED Öncesi/Sonrası Karşılaştırma\n",
        "import matplotlib.pyplot as plt\n",
        "\n",
        "activities = ['Durdurma', 'Taşıma', 'Sökme', 'Hizalama']\n",
        "before = [2, 5, 8, 10]\n",
        "after = [1, 3, 3, 4]  # Tahmini iyileştirme\n",
        "\n",
        "plt.bar(activities, before, label='Önce')\n",
        "plt.bar(activities, after, label='Sonra', alpha=0.6)\n",
        "plt.title('SMED Uygulaması Etkisi')\n",
        "plt.legend()\n",
        "plt.show()"
      ],
      "metadata": {
        "colab": {
          "base_uri": "https://localhost:8080/",
          "height": 452
        },
        "id": "bIxZxZbBpHM_",
        "outputId": "ff7d832d-63bf-458a-cbd9-3d20461c2018"
      },
      "execution_count": null,
      "outputs": [
        {
          "output_type": "display_data",
          "data": {
            "text/plain": [
              "<Figure size 640x480 with 1 Axes>"
            ],
            "image/png": "[encoded data removed]"
          },
          "metadata": {}
        }
      ]
    },
    {
      "cell_type": "markdown",
      "source": [
        "📋 2. TPM Bakım Planı Özelleştirme (Gerçekçi Şablon)\n",
        "Adım 1: Makineye Özel Bakım Listesi\n",
        "markdown\n",
        "Copy\n",
        "## Konveyör Bant Bakım Planı (Örnek)\n",
        "| Bakım Türü   | Sıklık   | Kontrol Noktaları                  | Sorumlu    |\n",
        "|--------------|----------|-----------------------------------|------------|\n",
        "| Temizlik     | Günlük   | Bant gerginliği, yabancı cisimler | Operator   |\n",
        "| Yağlama      | Haftalık | Rulmanlar, motor yağı seviyesi    | Teknisyen  |\n",
        "| Elektrik     | Aylık    | Kablo bağlantıları, sensörler     | Bakım Ekibi|\n",
        "**Adım 2: Excel Şablonu Oluşturma"
      ],
      "metadata": {
        "id": "DlQwjt7hpKKR"
      }
    },
    {
      "cell_type": "code",
      "source": [
        "import pandas as pd\n",
        "\n",
        "tpm_data = {\n",
        "    \"Ekipman\": [\"Enjeksiyon Makinesi\", \"Konveyör\", \"Paketleme\"],\n",
        "    \"Günlük Bakım\": [\"Temizlik\", \"Bant kontrolü\", \"Nozul temizliği\"],\n",
        "    \"Haftalık Bakım\": [\"Yağlama\", \"Motor testi\", \"Kamera kalibrasyonu\"]\n",
        "}\n",
        "df = pd.DataFrame(tpm_data)\n",
        "df.to_excel(\"TPM_Bakım_Planı.xlsx\", index=False)"
      ],
      "metadata": {
        "id": "KtfQ4Tf0pOql"
      },
      "execution_count": null,
      "outputs": []
    }
  ]
}